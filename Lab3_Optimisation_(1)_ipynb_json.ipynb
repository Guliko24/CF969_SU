{
  "cells": [
    {
      "cell_type": "markdown",
      "metadata": {
        "id": "view-in-github",
        "colab_type": "text"
      },
      "source": [
        "<a href=\"https://colab.research.google.com/github/Guliko24/CF969_SU/blob/main/Lab3_Optimisation_(1)_ipynb_json.ipynb\" target=\"_parent\"><img src=\"https://colab.research.google.com/assets/colab-badge.svg\" alt=\"Open In Colab\"/></a>"
      ]
    },
    {
      "cell_type": "markdown",
      "metadata": {
        "id": "bS_aZPl9j9zM"
      },
      "source": [
        "# Lab 3: Introduction to Optimisation\n",
        "\n",
        "The purpose of this lab session is to introduce you to the main optimisation notions and let you build your first optimisation programs. Recall that in the last lecture we discussed an example with a brewery that produced two types of beel, ale and lager, and our goal was to decide, given the available ingredients and the profit margin, how many barrels to produce (and whether these are ale or lager)"
      ]
    },
    {
      "cell_type": "markdown",
      "metadata": {
        "id": "sMgXBPwQj9zO"
      },
      "source": [
        "## 1. Our motivating example\n",
        "\n",
        "Let us start by revisiting the example; see also the relevant slides in file **CF969 - 1 - Intro** in Unit 1.\n",
        "\n",
        "A barrel of ale requires 5 pounds of corn, 4 ounces of hops and 35 pounds of malt. Similarly, a barrel of lager requires 15 pounds of corn, 4 ounces of hops and 20 pounds of malt. Each barel of ale returns a profit of £13, while each barel of lager returns a profit of £23. Finally, our ingredients are restricted in quantity. We have 480 pounds of corn, 160 ounces of hops and 1190 pounds of malt.\n",
        "\n",
        "The following table summarises:"
      ]
    },
    {
      "cell_type": "markdown",
      "metadata": {
        "id": "RAcU2P2Uj9zO"
      },
      "source": [
        "| Beverage | Corn (lb) | Hops (oz) | Malt (lb) | Profit (£) |\n",
        "| --- | --- | --- | --- | --- |\n",
        "| Ale (barrel) | 5 | 4 | 35 | 13 |\n",
        "| Lager (barrel) | 15 | 4  | 20  | 23 |\n",
        "| Quantity | 480 | 160 | 1190 | |"
      ]
    },
    {
      "cell_type": "markdown",
      "metadata": {
        "id": "0FDdYsbzj9zO"
      },
      "source": [
        "Recall what was our first step. We turned the **constraints** into equations involving **variables**. In particular, we used $A$ to denote the number of barrels of ale and $B$ denote the number of barrels of lager. Remember: our goal is to maximise our profit. This gave rise to the equations below. The top line is our **objective function** while the remaining lines correspond to **constraints**. The entire *program* is what we call a **linear program**.\n",
        "\n",
        "Note that both the objective function and all constraints are *linear*, that is, each variable ($A$ or $B$) appear with an exponent of $1$. For example, the objective function $\\max_{A,B}{13A^2+23B}$ would not be linear ($A$ is raised to the power of $2$), while a constraint such as $A\\cdot B\\leq 100$ would not be linear as the term $A\\cdot B$ involves multiplying two variables and is, hence, raised again to a power other than $1$.\n",
        "\n",
        "\\begin{eqnarray*}\n",
        "\\max_{A,B} & \\hspace{1cm}&13A+23B \\hspace{1cm} &\\text{%This is simply the profit equation}\\\\\n",
        "\\text{subject to} & \\hspace{1cm}&5A+15B &\\leq 480 &\\hspace{1cm} \\text{%Corn constraint}\\\\\n",
        "& \\hspace{1cm}&4A+4B &\\leq 160 &\\hspace{1cm} \\text{%Hops constraint}\\\\\n",
        "& \\hspace{1cm}&35A+20B &\\leq 1190 &\\hspace{1cm} \\text{%Malt constraint}\\\\\n",
        "& \\hspace{1cm}&A, B &\\geq 0 &\\hspace{1cm} \\text{%Our barrels must be non-negative numbers}\n",
        "\\end{eqnarray*}\n",
        "\n",
        "Note that this formulation allows for *fractional* barrels, that is, we do **not** restrict $A$ and $B$ to be **integers**.\n",
        "\n",
        "If you attended Lecture 2, you might remember that the **optimal** solution was to produce 12 barrels of ale and 28 barrels of lager, giving a profit of £800. I demonstrated why this is the optimal solution, by arguing about the **space of feasible solutions**, that is, about the possible solutions that satisfy all constraints, and then I explained why the solution $(A=12, B=28)$ is the best.\n",
        "\n",
        "*Question:* How would you do that in the computer? How would you implement such a set of constraints and get back the optimal solution?\n",
        "\n",
        "*Response*: There are of course several ways to do that. Today, we will focus on using functions offered by Python and in particular **linprog**.\n",
        "\n",
        "**TODO before proceeding below:** Check the file *scipy.optimize.linprog — SciPy v1.12.0 Manual.pdf* that is on the CF969 moodle page -- see Unit 2 and folder lab3-files."
      ]
    },
    {
      "cell_type": "markdown",
      "metadata": {
        "id": "VgSW8pt-j9zO"
      },
      "source": [
        "**Task 1**: Read the pdf file carefully. Do you understand what is the purpose of the function **linprog**?"
      ]
    },
    {
      "cell_type": "markdown",
      "metadata": {
        "id": "Yk1rjGCAj9zP"
      },
      "source": [
        "**Task 2**: Can you write a short program that verifies that the solution for our motivating example is indeed $(A=12, B=28)$?"
      ]
    },
    {
      "cell_type": "code",
      "execution_count": 15,
      "metadata": {
        "id": "2dSnLDkbj9zP"
      },
      "outputs": [],
      "source": [
        "# Uncomment the following line and execute it to see the feasible region\n",
        "%load ./sol1.py"
      ]
    },
    {
      "cell_type": "code",
      "source": [
        "c = [-13, -23]\n",
        "A = [[5, 15], [4, 4], [35, 20]]\n",
        "b = [480, 160, 1190]\n",
        "from scipy.optimize import linprog\n",
        "res = linprog(c, A_ub = A, b_ub=b, bounds = [0, None])\n",
        "print(res)"
      ],
      "metadata": {
        "colab": {
          "base_uri": "https://localhost:8080/"
        },
        "id": "zgLeVGyWmPh4",
        "outputId": "66b71aab-5c78-4322-ce24-39b2c8e01fd3"
      },
      "execution_count": 16,
      "outputs": [
        {
          "output_type": "stream",
          "name": "stdout",
          "text": [
            "        message: Optimization terminated successfully. (HiGHS Status 7: Optimal)\n",
            "        success: True\n",
            "         status: 0\n",
            "            fun: -800.0\n",
            "              x: [ 1.200e+01  2.800e+01]\n",
            "            nit: 3\n",
            "          lower:  residual: [ 1.200e+01  2.800e+01]\n",
            "                 marginals: [ 0.000e+00  0.000e+00]\n",
            "          upper:  residual: [       inf        inf]\n",
            "                 marginals: [ 0.000e+00  0.000e+00]\n",
            "          eqlin:  residual: []\n",
            "                 marginals: []\n",
            "        ineqlin:  residual: [ 0.000e+00  0.000e+00  2.100e+02]\n",
            "                 marginals: [-1.000e+00 -2.000e+00 -0.000e+00]\n",
            " mip_node_count: 0\n",
            " mip_dual_bound: 0.0\n",
            "        mip_gap: 0.0\n"
          ]
        }
      ]
    },
    {
      "cell_type": "markdown",
      "metadata": {
        "id": "OfJA8TJAj9zP"
      },
      "source": [
        "How to interpret the result you obtained? It is clear to you?"
      ]
    },
    {
      "cell_type": "markdown",
      "metadata": {
        "id": "NBkkHeUUj9zQ"
      },
      "source": [
        "## 2. A second example\n",
        "\n",
        "The following is the example from the **linprog** manual.\n",
        "\n",
        "\n",
        "\\begin{eqnarray*}\n",
        "\\min_{x_0, x_1} & \\hspace{1cm}&-x_0+4x_1 \\\\\n",
        "\\text{subject to} & \\hspace{1cm}&-3x_0+x_1\\leq 6\\\\\n",
        "& \\hspace{1cm}&-x_0-2x_1 \\geq -4\\\\\n",
        "& \\hspace{1cm}&x_1\\geq -3\n",
        "\\end{eqnarray*}\n",
        "\n",
        "Observe that the problem is not presented in the form accepted by linprog. This is easily fixed by converting the “greater than” inequality constraint to a “less than” inequality constraint by multiplying both sides by a factor of $-1$. Note also that the last constraint is really the simple bound $-3 \\leq x_1 \\leq \\infty$. Finally, since there are no bounds on $x_0$, we must explicitly specify the bounds $-\\infty \\leq x_0 \\leq \\infty$, as the default is for variables to be non-negative."
      ]
    },
    {
      "cell_type": "code",
      "execution_count": 29,
      "metadata": {
        "id": "_erI0mvwj9zS"
      },
      "outputs": [],
      "source": [
        "c = [-1, 4]\n",
        "A = [[-3, 1], [1, 2]]\n",
        "b = [6, 4]\n",
        "x0_bounds = (None, None)\n",
        "x1_bounds = (-3, None)\n",
        "from scipy.optimize import linprog\n",
        "res = linprog(c, A_ub=A, b_ub=b, bounds=(x0_bounds, x1_bounds))"
      ]
    },
    {
      "cell_type": "code",
      "execution_count": 24,
      "metadata": {
        "colab": {
          "base_uri": "https://localhost:8080/"
        },
        "id": "3XfXV3WKj9zS",
        "outputId": "129f24b6-493b-4cdd-a683-8f6fc3af708e"
      },
      "outputs": [
        {
          "output_type": "stream",
          "name": "stdout",
          "text": [
            "        message: Optimization terminated successfully. (HiGHS Status 7: Optimal)\n",
            "        success: True\n",
            "         status: 0\n",
            "            fun: -22.0\n",
            "              x: [ 1.000e+01 -3.000e+00]\n",
            "            nit: 0\n",
            "          lower:  residual: [       inf  0.000e+00]\n",
            "                 marginals: [ 0.000e+00  6.000e+00]\n",
            "          upper:  residual: [       inf        inf]\n",
            "                 marginals: [ 0.000e+00  0.000e+00]\n",
            "          eqlin:  residual: []\n",
            "                 marginals: []\n",
            "        ineqlin:  residual: [ 3.900e+01  0.000e+00]\n",
            "                 marginals: [-0.000e+00 -1.000e+00]\n",
            " mip_node_count: 0\n",
            " mip_dual_bound: 0.0\n",
            "        mip_gap: 0.0\n"
          ]
        }
      ],
      "source": [
        "print(res)"
      ]
    },
    {
      "cell_type": "markdown",
      "metadata": {
        "id": "reMSTD8Gj9zS"
      },
      "source": [
        "What does the output message mean? What is *fun*? What is *slack*? What is *x*? Some of these might be easy to guess, some of these we will discuss in the lectures.\n",
        "\n",
        "The following will depend on the version of linprog and python installed. We might observe that some of the numbers involved *look* like integer values, although they are not exactly integers (see for example the value of  *fun*). Let's try the following."
      ]
    },
    {
      "cell_type": "code",
      "execution_count": 25,
      "metadata": {
        "scrolled": true,
        "colab": {
          "base_uri": "https://localhost:8080/"
        },
        "id": "5LTn_ZNrj9zS",
        "outputId": "2666336c-0e47-4b88-e72a-54aad6ebef13"
      },
      "outputs": [
        {
          "output_type": "stream",
          "name": "stdout",
          "text": [
            " message: Optimization terminated successfully.\n",
            " success: True\n",
            "  status: 0\n",
            "     fun: -22.0\n",
            "       x: [ 1.000e+01 -3.000e+00]\n",
            "     nit: 1\n"
          ]
        },
        {
          "output_type": "stream",
          "name": "stderr",
          "text": [
            "<ipython-input-25-f5bf24c613d8>:1: DeprecationWarning: `method='revised simplex'` is deprecated and will be removed in SciPy 1.11.0. Please use one of the HiGHS solvers (e.g. `method='highs'`) in new code.\n",
            "  res = linprog(c, A_ub=A, b_ub=b, bounds=(x0_bounds, x1_bounds), method='revised simplex')\n"
          ]
        }
      ],
      "source": [
        "res = linprog(c, A_ub=A, b_ub=b, bounds=(x0_bounds, x1_bounds), method='revised simplex')\n",
        "print(res)\n"
      ]
    },
    {
      "cell_type": "code",
      "source": [],
      "metadata": {
        "id": "24da-0aFnzcC"
      },
      "execution_count": null,
      "outputs": []
    },
    {
      "cell_type": "markdown",
      "metadata": {
        "id": "Q9VHgiV9j9zS"
      },
      "source": [
        "## 3. Can we always solve linear programs?\n",
        "\n",
        "In the lecture, we discussed that it might happen that there is no solution (that is, the program is *infeasible*), or that the objective function is *unbounded*."
      ]
    },
    {
      "cell_type": "markdown",
      "metadata": {
        "id": "qjorel8ij9zS"
      },
      "source": [
        "**Task 3:** Write a 2-variable linear program that is infeasible. Also, write a 2-variable linear program that is unbounded. Let me know if you want me to check your solution."
      ]
    },
    {
      "cell_type": "markdown",
      "source": [
        "​Constraz=x+y\n",
        "ints:2x+3y≤5\n",
        "4x+6y≥10\n",
        "x,y≥0​"
      ],
      "metadata": {
        "id": "j8Ei3o58scUz"
      }
    },
    {
      "cell_type": "code",
      "source": [
        "c = [1,1]\n",
        "A = [[-4, -6], [2, 3]]\n",
        "b = [5, -10]\n",
        "x0_bounds = (0, None)\n",
        "x1_bounds = (0, None)\n",
        "from scipy.optimize import linprog\n",
        "res = linprog(c, A_ub=A, b_ub=b, bounds=(x0_bounds, x1_bounds))"
      ],
      "metadata": {
        "id": "ERhu_rGSryl6"
      },
      "execution_count": 33,
      "outputs": []
    },
    {
      "cell_type": "code",
      "source": [
        "print(res)"
      ],
      "metadata": {
        "colab": {
          "base_uri": "https://localhost:8080/"
        },
        "id": "CyZ86p3gs-LY",
        "outputId": "60046ec0-a7f0-4fe4-ac0c-800b44430582"
      },
      "execution_count": 34,
      "outputs": [
        {
          "output_type": "stream",
          "name": "stdout",
          "text": [
            "       message: The problem is infeasible. (HiGHS Status 8: model_status is Infeasible; primal_status is At lower/fixed bound)\n",
            "       success: False\n",
            "        status: 2\n",
            "           fun: None\n",
            "             x: None\n",
            "           nit: 0\n",
            "         lower:  residual: None\n",
            "                marginals: None\n",
            "         upper:  residual: None\n",
            "                marginals: None\n",
            "         eqlin:  residual: None\n",
            "                marginals: None\n",
            "       ineqlin:  residual: None\n",
            "                marginals: None\n"
          ]
        }
      ]
    },
    {
      "cell_type": "markdown",
      "metadata": {
        "id": "tF-3Q03Yj9zS"
      },
      "source": [
        "**Task 4:** Draw the feasible region of the following 2-variable linear program.\n",
        "\\begin{eqnarray*}\n",
        "\\max_{x_1,x_2} & \\hspace{1cm}&2x_1-x_2 \\hspace{1cm} &\\\\\n",
        "\\text{subject to} & \\hspace{1cm}&x_1+x_2 &\\geq 1 &\\hspace{1cm}\\\\\n",
        "& \\hspace{1cm}&x_1-x_2 &\\leq 0 &\\hspace{1cm}\\\\\n",
        "& \\hspace{1cm}&3x_1+x_2 &\\leq 6 &\\hspace{1cm} \\\\\n",
        "& \\hspace{1cm}&x_1, x_2 &\\geq 0 &\\hspace{1cm}\n",
        "\\end{eqnarray*}\n",
        "\n",
        "Determine the optimal solution to this problem by inspection.\n",
        "    \n",
        "    "
      ]
    },
    {
      "cell_type": "code",
      "execution_count": 28,
      "metadata": {
        "id": "vTJcY5oyj9zS",
        "colab": {
          "base_uri": "https://localhost:8080/",
          "height": 472
        },
        "outputId": "ca10a536-4442-4164-85d8-0c594f164852"
      },
      "outputs": [
        {
          "output_type": "execute_result",
          "data": {
            "text/plain": [
              "Text(0, 0.5, '$x_2$')"
            ]
          },
          "metadata": {},
          "execution_count": 28
        },
        {
          "output_type": "display_data",
          "data": {
            "text/plain": [
              "<Figure size 640x480 with 1 Axes>"
            ],
            "image/png": "[encoded data removed]"
          },
          "metadata": {}
        }
      ],
      "source": [
        "# Uncomment the following line and execute it to see the feasible region\n",
        "%load ./sol2.py\n",
        "import numpy as np\n",
        "import matplotlib.pyplot as plt\n",
        "%matplotlib inline\n",
        "\n",
        "# plot the feasible region\n",
        "d = np.linspace(-2,6,300)\n",
        "x,y = np.meshgrid(d,d)\n",
        "plt.imshow( ((y>=0) & (x>=0) & (y>=1-x) & (y>=x) & (y<=6-3*x)).astype(int) ,\n",
        "                extent=(x.min(),x.max(),y.min(),y.max()),origin=\"lower\", cmap=\"Greys\", alpha = 0.3);\n",
        "\n",
        "\n",
        "# plot the lines defining the constraints\n",
        "x = np.linspace(0, 6, 2000)\n",
        "# x2 >= 0\n",
        "y1 = (x*0)+0\n",
        "# x1+x2 >=1\n",
        "y2 = 1-x\n",
        "# x1-x2<=0\n",
        "y3 = x\n",
        "# 3x1+x2 <= 6\n",
        "y4 = 6-3 * x\n",
        "\n",
        "\n",
        "# Make plot\n",
        "plt.plot(x, 0*np.ones_like(y1))\n",
        "plt.plot(x, y2, label=r'$x_1+x_2\\geq 1$')\n",
        "plt.plot(x, y3, label=r'$x_1-x_2 \\leq 0$')\n",
        "plt.plot(x, y4, label=r'$3x_1+x_2 \\leq 6$')\n",
        "plt.xlim(0,6)\n",
        "plt.ylim(0,6)\n",
        "plt.legend(bbox_to_anchor=(1.05, 1), loc=2, borderaxespad=0.)\n",
        "plt.xlabel(r'$x_1$')\n",
        "plt.ylabel(r'$x_2$')"
      ]
    },
    {
      "cell_type": "markdown",
      "metadata": {
        "id": "aydU5Y8Gj9zT"
      },
      "source": [
        "## 4. Exercises on solving linear programs"
      ]
    },
    {
      "cell_type": "markdown",
      "metadata": {
        "id": "CIgawFZ6j9zT"
      },
      "source": [
        "**Task 5:** A company will face the following cash requirements in the next eight quarters (positive entries\n",
        "represent cash needs while negative entries represent cash surpluses).\n",
        "\n",
        "| Q1 | Q2 | Q3 | Q4 | Q5 | Q6 | Q7 | Q8 |\n",
        "| --- | --- | --- | --- | --- | --- | --- | --- |\n",
        "| 100 | 500 | 100 | -600 | -500 | 200 | 600 | -900 |\n",
        "\n",
        "The company has three borrowing possibilities.\n",
        "<ul>\n",
        "<li> a 2-year loan available at the beginning of Q1, with a 1% interest per quarter.\n",
        "<li> The other two borrowing opportunities are available at the beginning of every quarter: a 6-\n",
        "month loan with a 1.8% interest per quarter, and a quarterly loan with a 2.5% interest for the\n",
        "quarter.\n",
        "</ul>\n",
        "    \n",
        "Any surplus can be invested at a 0.5% interest per quarter. Formulate a linear program that maximises\n",
        "the wealth of the company at the beginning of Q9. Solve the problem using **linprog** and interpret the\n",
        "solution.\n",
        "\n",
        "**Hints:** There as some modelling decisions to make here. To begin with, *what are the variables?* To answer that, consider the financing tools at our disposal. Then, *how do our constraints look like?* The table above (cash requirements for 8 quarters) indicate that we have eight non-trivial constraints. Finally, *what is the objective function?*\n",
        "\n",
        "**Solution**: Please see below for the solution and check file 'How to build the model' in the lab3-files folder."
      ]
    },
    {
      "cell_type": "code",
      "execution_count": 37,
      "metadata": {
        "id": "E0Hx9YKNj9zT"
      },
      "outputs": [],
      "source": [
        "# Uncomment the following line and execute it\n",
        "%load ./sol3.py"
      ]
    },
    {
      "cell_type": "code",
      "source": [
        "import numpy as np\n",
        "from scipy.optimize import linprog\n",
        "\n",
        "# I generate the vector of coefficients in the objective function and initialize the matrix of contraint coefficients\n",
        "c = np.concatenate([np.zeros(21), [-1]]) # Recall that linprog has a minimization objective, so we minimize -wealth\n",
        "A = np.zeros((8,22))\n",
        "\n",
        "# I create a row for each constraint\n",
        "A[0] = np.concatenate([[1,1,1,-1],np.zeros(18)])\n",
        "A[1] = np.concatenate([[-0.01, -0.018, -1.025, 1.005, 1, 1, -1],np.zeros(15)])\n",
        "A[2] = np.concatenate([[-0.01, -1.018, 0, 0, -0.018, -1.025, 1.005, 1, 1, -1],np.zeros(12)])\n",
        "A[3] = np.concatenate([[-0.01, 0, 0, 0, -1.018, 0, 0, -0.018, -1.025, 1.005, 1, 1, -1],np.zeros(9)])\n",
        "A[4] = np.concatenate([[-0.01], np.zeros(6), [-1.018, 0, 0, -0.018, -1.025, 1.005, 1, 1, -1],np.zeros(6)])\n",
        "A[5] = np.concatenate([[-0.01], np.zeros(9), [-1.018, 0, 0, -0.018, -1.025, 1.005, 1, 1, -1],np.zeros(3)])\n",
        "A[6] = np.concatenate([[-0.01], np.zeros(12), [-1.018, 0, 0, -0.018, -1.025, 1.005, 1, -1, 0]])\n",
        "A[7] = np.concatenate([[-1.01], np.zeros(15), [-1.018, 0, 0, -1.025, 1.005, -1]])\n",
        "\n",
        "b = [100, 500, 100, -600, -500, 200, 600, -900]\n",
        "\n",
        "# It is now time to solve. All variables are constrained to be non-negative, so I don't need to specify the bounds; this is the default\n",
        "res = linprog(c, A_eq=A, b_eq=b, method='revised simplex', options={\"disp\": True})\n",
        "\n",
        "# Print the solution. Recall that the wealth is the last variable.\n",
        "res.x"
      ],
      "metadata": {
        "colab": {
          "base_uri": "https://localhost:8080/"
        },
        "id": "VWnCZYo3tixd",
        "outputId": "8739dbdf-b840-4d3e-efec-4e37612ab2c3"
      },
      "execution_count": 38,
      "outputs": [
        {
          "output_type": "stream",
          "name": "stdout",
          "text": [
            "Phase Iteration Minimum Slack       Constraint Residual Objective          \n",
            "1     0         NA                  1131.370849898      -900.0              \n",
            "1     1         NA                  1084.622736254      -900.0              \n",
            "1     2         NA                  879.4789725306      -900.0              \n",
            "1     3         NA                  792.3938429683      -900.0              \n",
            "1     4         NA                  727.2892907422      -900.0              \n",
            "1     5         NA                  621.5481973748      -900.0              \n",
            "1     6         NA                  434.3424603237      -900.0              \n",
            "1     7         NA                  330.5410934859      -799.0              \n",
            "1     8         NA                  299.9109874116      -768.5675148382     \n",
            "1     9         NA                  1.711213510986e-13  -461.1587527412     \n",
            "2     9         NA                  1.711213510986e-13  -461.1587527412     \n",
            "2     10        NA                  2.1268859807e-13    -468.7828125949     \n",
            "2     11        NA                  1.728825091703e-13  -471.3459717977     \n",
            "Optimization terminated successfully.\n",
            "         Current function value: -471.345972 \n",
            "         Iterations: 11\n"
          ]
        },
        {
          "output_type": "stream",
          "name": "stderr",
          "text": [
            "<ipython-input-38-b3d703dc8eb8>:21: DeprecationWarning: `method='revised simplex'` is deprecated and will be removed in SciPy 1.11.0. Please use one of the HiGHS solvers (e.g. `method='highs'`) in new code.\n",
            "  res = linprog(c, A_eq=A, b_eq=b, method='revised simplex', options={\"disp\": True})\n"
          ]
        },
        {
          "output_type": "execute_result",
          "data": {
            "text/plain": [
              "array([424.40992891,   0.        ,   0.        , 324.40992891,\n",
              "       178.21212073,   0.        ,   0.        ,   0.        ,\n",
              "       107.45191746,   0.        ,   0.        ,   0.        ,\n",
              "       304.19774641,   0.        ,   0.        , 801.47463585,\n",
              "         0.        ,   0.        , 601.23790974,   0.        ,\n",
              "         0.        , 471.3459718 ])"
            ]
          },
          "metadata": {},
          "execution_count": 38
        }
      ]
    },
    {
      "cell_type": "markdown",
      "metadata": {
        "id": "OXj7KB-dj9zT"
      },
      "source": [
        "**Task 6:** Consider a restaurant that is open seven days a week. Based on past experience, the number of workers needed on a particular day is given as follows:\n",
        "\n",
        "| Mon | Tue | Wed | Thu | Fri | Sat | Sun |\n",
        "| --- | --- | --- | --- | --- | --- | --- |\n",
        "| 14 | 13 | 15 | 16 | 19 | 18 | 11 |\n",
        "\n",
        "Every worker works five days in a week and has two days off in the following pattern: three days work, one day off, two days work, one day off. So, there are workers working on Mon-Tue-Wed-Fri-Sat, other workers on Tue-Wed-Thu-Sat-Sun, etc. How can we minimize the number of workers that staff the restaurant?\n",
        "\n",
        "**Hint**: Let's begin by following the same approach as above. That is, let's formulate a linear program and then use **linprog** to solve it. See also the file *How to build the model* in the lab3-files folder."
      ]
    },
    {
      "cell_type": "code",
      "execution_count": 39,
      "metadata": {
        "id": "c72wGMbij9zT"
      },
      "outputs": [],
      "source": [
        "# Uncomment the following line and execute it to see the linear program\n",
        "%load ./sol4a.py"
      ]
    },
    {
      "cell_type": "code",
      "source": [],
      "metadata": {
        "id": "fcGzT4MluwlC"
      },
      "execution_count": null,
      "outputs": []
    },
    {
      "cell_type": "markdown",
      "metadata": {
        "id": "FHnxwPPVj9zU"
      },
      "source": [
        "After creating the linear program, let's attempt to solve it."
      ]
    },
    {
      "cell_type": "code",
      "execution_count": null,
      "metadata": {
        "id": "u4Uo4ICxj9zU"
      },
      "outputs": [],
      "source": [
        "# Uncomment the following line and execute it to see the linear program\n",
        "#%load ./sol4b.py"
      ]
    },
    {
      "cell_type": "code",
      "source": [
        "#Minimize  x1+x2+x3+x4+x5+x6+x7\n",
        "#Subject to\n",
        "\n",
        "#x1+x3+x4+x5+x7 >= 14\n",
        "#x1+x2+x4+x5+x6 >= 13\n",
        "#x2+x3+x5+x6+x7 >= 15\n",
        "#x1+x3+x4+x6+x7 >= 16\n",
        "#x1+x2+x4+x5+x7 >= 19\n",
        "#x1+x2+x3+x5+x6 >= 18\n",
        "#x2+x3+x4+x6+x7 >= 11\n",
        "\n",
        "#All  x's should be non-negative integers"
      ],
      "metadata": {
        "id": "rzbITPXBu1dx"
      },
      "execution_count": 41,
      "outputs": []
    },
    {
      "cell_type": "markdown",
      "metadata": {
        "id": "eVzaFPTpj9zU"
      },
      "source": [
        "What do you observe? How does the optimal solution (that is, number of workers per day) look like?"
      ]
    },
    {
      "cell_type": "code",
      "source": [
        "import numpy as np\n",
        "from scipy.optimize import linprog\n",
        "\n",
        "# I generate the vector of coefficients in the objective function\n",
        "c = np.array([1,1,1,1,1,1,1])\n",
        "A = np.zeros((7,7))\n",
        "\n",
        "# I create a row for each constraint\n",
        "A[0] = np.array([-1,0,-1,-1,-1,0,-1])\n",
        "A[1] = np.array([-1,-1,0,-1,-1,-1,0])\n",
        "A[2] = np.array([0,-1,-1,0,-1,-1,-1])\n",
        "A[3] = np.array([-1,0,-1,-1,0,-1,-1])\n",
        "A[4] = np.array([-1,-1,0,-1,-1,0,-1])\n",
        "A[5] = np.array([-1,-1,-1,0,-1,-1,0])\n",
        "A[6] = np.array([0,-1,-1,-1,0,-1,-1])\n",
        "b = np.array([-14, -13, -15, -16, -19, -18, -11])\n",
        "\n",
        "# It is now time to solve. All variables are constrained to be non-negative, so I don't need to specify the bounds; this is the default\n",
        "res = linprog(c, A_ub=A, b_ub=b, method='revised simplex', options={\"disp\": True})\n",
        "\n",
        "# Print the solution. Recall that the wealth is the last variable.\n",
        "res.x"
      ],
      "metadata": {
        "colab": {
          "base_uri": "https://localhost:8080/"
        },
        "id": "xUKJCxEwvP4M",
        "outputId": "4f2b0c2e-0d3e-42fa-8051-180e07be596f"
      },
      "execution_count": 42,
      "outputs": [
        {
          "output_type": "stream",
          "name": "stdout",
          "text": [
            "Phase Iteration Minimum Slack       Constraint Residual Objective          \n",
            "1     0         -19.0               0.0                 0.0                 \n",
            "1     1         -15.0               0.0                 13.0                \n",
            "1     2         -14.0               0.0                 14.0                \n",
            "1     3         -6.0                0.0                 18.0                \n",
            "1     4         -6.0                0.0                 18.66666666667      \n",
            "1     5         -5.0                0.0                 19.0                \n",
            "1     6         -4.0                0.0                 20.0                \n",
            "1     7         -2.0                0.0                 22.0                \n",
            "1     8         0.0                 0.0                 22.66666666667      \n",
            "2     8         0.0                 0.0                 22.66666666667      \n",
            "Optimization terminated successfully.\n",
            "         Current function value: 22.666667   \n",
            "         Iterations: 8\n"
          ]
        },
        {
          "output_type": "stream",
          "name": "stderr",
          "text": [
            "<ipython-input-42-09431cebe2ca>:19: DeprecationWarning: `method='revised simplex'` is deprecated and will be removed in SciPy 1.11.0. Please use one of the HiGHS solvers (e.g. `method='highs'`) in new code.\n",
            "  res = linprog(c, A_ub=A, b_ub=b, method='revised simplex', options={\"disp\": True})\n"
          ]
        },
        {
          "output_type": "execute_result",
          "data": {
            "text/plain": [
              "array([7.66666667, 2.66666667, 3.66666667, 0.        , 4.        ,\n",
              "       0.        , 4.66666667])"
            ]
          },
          "metadata": {},
          "execution_count": 42
        }
      ]
    },
    {
      "cell_type": "markdown",
      "metadata": {
        "id": "aa_sWgcfj9zU"
      },
      "source": [
        "## 5. Integer linear programming"
      ]
    },
    {
      "cell_type": "markdown",
      "metadata": {
        "id": "n-Ts-0oXj9zU"
      },
      "source": [
        "The last example demonstrated a drawback of **linprog**. There are settings where we require that our solution is **integral**. For example, we cannot have $3.5$ people in a work shift. In next week's lab we will examine software that does not necessarily involve python. Today, we will examine [PuLP](https://pypi.org/project/PuLP/).\n",
        "\n",
        "We begin with installing PuLP. The following line might require a kernel restart; this will necessary if you see a message that installation is successful but you get an error message when executing **from pulp import** below."
      ]
    },
    {
      "cell_type": "code",
      "execution_count": 1,
      "metadata": {
        "colab": {
          "base_uri": "https://localhost:8080/"
        },
        "id": "N6z8E_z5j9zV",
        "outputId": "c70b04ef-8f1f-41be-da06-fd91f9912d8a"
      },
      "outputs": [
        {
          "output_type": "stream",
          "name": "stdout",
          "text": [
            "Requirement already satisfied: PuLP in /root/.local/lib/python3.10/site-packages (2.8.0)\n"
          ]
        }
      ],
      "source": [
        "!pip install PuLP"
      ]
    },
    {
      "cell_type": "markdown",
      "metadata": {
        "id": "W9pUnXCNj9zV"
      },
      "source": [
        "We will first build the model, that is, declare **objective function**, **variables** and **constraints**. We create a variable for each shift and we follow the same reasoning as in the previous linear program that used **linprog**.  "
      ]
    },
    {
      "cell_type": "markdown",
      "source": [],
      "metadata": {
        "id": "XFVF4QwzxMT5"
      }
    },
    {
      "cell_type": "code",
      "execution_count": 2,
      "metadata": {
        "id": "nNiXAr_sj9zV"
      },
      "outputs": [],
      "source": [
        "from pulp import *\n",
        "problem = LpProblem('Shifts', LpMinimize)\n",
        "\n",
        "x1 = LpVariable('Shift 1', lowBound=0 , cat=LpInteger)\n",
        "x2 = LpVariable('Shift 2', lowBound=0 , cat=LpInteger)\n",
        "x3 = LpVariable('Shift 3', lowBound=0 , cat=LpInteger)\n",
        "x4 = LpVariable('Shift 4', lowBound=0 , cat=LpInteger)\n",
        "x5 = LpVariable('Shift 5', lowBound=0 , cat=LpInteger)\n",
        "x6 = LpVariable('Shift 6', lowBound=0 , cat=LpInteger)\n",
        "x7 = LpVariable('Shift 7', lowBound=0 , cat=LpInteger)\n",
        "\n",
        "#Objective Function\n",
        "problem += x1+x2+x3+x4+x5+x6+x7\n",
        "\n",
        "#Constraints\n",
        "problem += x1+x3+x4+x5+x7 >= 14\n",
        "problem += x1+x2+x4+x5+x6 >= 13\n",
        "problem += x2+x3+x5+x6+x7 >= 15\n",
        "problem += x1+x3+x4+x6+x7 >= 16\n",
        "problem += x1+x2+x4+x5+x7 >= 19\n",
        "problem += x1+x2+x3+x5+x6 >= 18\n",
        "problem += x2+x3+x4+x6+x7 >= 11"
      ]
    },
    {
      "cell_type": "markdown",
      "metadata": {
        "id": "-80HQFowj9zV"
      },
      "source": [
        "Let's see how our model looks like"
      ]
    },
    {
      "cell_type": "code",
      "execution_count": 3,
      "metadata": {
        "id": "eFPMQnHCj9zV",
        "colab": {
          "base_uri": "https://localhost:8080/"
        },
        "outputId": "e174fe6e-5420-4c50-cd51-46c6c62e93a4"
      },
      "outputs": [
        {
          "output_type": "execute_result",
          "data": {
            "text/plain": [
              "Shifts:\n",
              "MINIMIZE\n",
              "1*Shift_1 + 1*Shift_2 + 1*Shift_3 + 1*Shift_4 + 1*Shift_5 + 1*Shift_6 + 1*Shift_7 + 0\n",
              "SUBJECT TO\n",
              "_C1: Shift_1 + Shift_3 + Shift_4 + Shift_5 + Shift_7 >= 14\n",
              "\n",
              "_C2: Shift_1 + Shift_2 + Shift_4 + Shift_5 + Shift_6 >= 13\n",
              "\n",
              "_C3: Shift_2 + Shift_3 + Shift_5 + Shift_6 + Shift_7 >= 15\n",
              "\n",
              "_C4: Shift_1 + Shift_3 + Shift_4 + Shift_6 + Shift_7 >= 16\n",
              "\n",
              "_C5: Shift_1 + Shift_2 + Shift_4 + Shift_5 + Shift_7 >= 19\n",
              "\n",
              "_C6: Shift_1 + Shift_2 + Shift_3 + Shift_5 + Shift_6 >= 18\n",
              "\n",
              "_C7: Shift_2 + Shift_3 + Shift_4 + Shift_6 + Shift_7 >= 11\n",
              "\n",
              "VARIABLES\n",
              "0 <= Shift_1 Integer\n",
              "0 <= Shift_2 Integer\n",
              "0 <= Shift_3 Integer\n",
              "0 <= Shift_4 Integer\n",
              "0 <= Shift_5 Integer\n",
              "0 <= Shift_6 Integer\n",
              "0 <= Shift_7 Integer"
            ]
          },
          "metadata": {},
          "execution_count": 3
        }
      ],
      "source": [
        "problem"
      ]
    },
    {
      "cell_type": "markdown",
      "metadata": {
        "id": "5NuCL6dfj9zX"
      },
      "source": [
        "Time to solve it and print the solution!"
      ]
    },
    {
      "cell_type": "code",
      "execution_count": 4,
      "metadata": {
        "id": "Kgwz56S8j9zX",
        "colab": {
          "base_uri": "https://localhost:8080/"
        },
        "outputId": "511c6189-619e-4b9c-f987-27b605b59983"
      },
      "outputs": [
        {
          "output_type": "stream",
          "name": "stdout",
          "text": [
            "Shift 1: 8.0\n",
            "Shift 2: 6.0\n",
            "Shift 3: 1.0\n",
            "Shift 4: 0.0\n",
            "Shift 5: 0.0\n",
            "Shift 6: 3.0\n",
            "Shift 7: 5.0\n"
          ]
        }
      ],
      "source": [
        "problem.solve()\n",
        "print(\"Shift 1:\", x1.varValue)\n",
        "print(\"Shift 2:\", x2.varValue)\n",
        "print(\"Shift 3:\", x3.varValue)\n",
        "print(\"Shift 4:\", x4.varValue)\n",
        "print(\"Shift 5:\", x5.varValue)\n",
        "print(\"Shift 6:\", x6.varValue)\n",
        "print(\"Shift 7:\", x7.varValue)"
      ]
    },
    {
      "cell_type": "markdown",
      "metadata": {
        "id": "Xvf2_tEPj9zX"
      },
      "source": [
        "To make sure that the solution is valid, we could check that the number of workers per shift satisfy the constraints."
      ]
    },
    {
      "cell_type": "markdown",
      "metadata": {
        "id": "OK8hqmvzj9zX"
      },
      "source": [
        "**Task 7:** Solve tasks 5 and 6 using PuLP"
      ]
    }
  ],
  "metadata": {
    "kernelspec": {
      "display_name": "Python 3 (ipykernel)",
      "language": "python",
      "name": "python3"
    },
    "language_info": {
      "codemirror_mode": {
        "name": "ipython",
        "version": 3
      },
      "file_extension": ".py",
      "mimetype": "text/x-python",
      "name": "python",
      "nbconvert_exporter": "python",
      "pygments_lexer": "ipython3",
      "version": "3.8.12"
    },
    "colab": {
      "provenance": [],
      "include_colab_link": true
    }
  },
  "nbformat": 4,
  "nbformat_minor": 0
}