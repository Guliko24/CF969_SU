{
  "cells": [
    {
      "cell_type": "markdown",
      "metadata": {
        "id": "view-in-github",
        "colab_type": "text"
      },
      "source": [
        "<a href=\"https://colab.research.google.com/github/Guliko24/CF969_SU/blob/main/Lab1.ipynb\" target=\"_parent\"><img src=\"https://colab.research.google.com/assets/colab-badge.svg\" alt=\"Open In Colab\"/></a>"
      ]
    },
    {
      "cell_type": "markdown",
      "metadata": {
        "id": "oHfBf6rHfxlj"
      },
      "source": [
        "# Lab 1: A Crash Course in Python for Scientists\n",
        "The purpose of the first lab session is to have a quick overview of Python, with emphasis on scientific use. Please visit the page for [Unit1](https://moodle.essex.ac.uk/course/view.php?id=16262&section=6) in the [CF969 moodle page](https://moodle.essex.ac.uk/course/view.php?id=16262). There is also a powerpoint file ([CF969 - Labs - 1 - Python](https://moodle.essex.ac.uk/mod/resource/view.php?id=1227946)) that outlines the goals for this session.\n",
        "\n",
        "In particular:\n",
        "<ul>\n",
        "<li> Try to work your way through all of Section I.\n",
        "<li> Try to work on the Numpy and Scipy basics in Section II.\n",
        "<li> Check Section III.\n",
        "</ul>\n",
        "\n",
        "This notebook was created by [Rick Muller](https://rmuller.net/), Sandia National Laboratories. This work is licensed under a [Creative Commons Attribution-ShareAlike 3.0 Unported License](https://creativecommons.org/licenses/by-sa/3.0/deed.en_US).\n",
        "\n",
        "It has been modified by Bart de Keijzer, in order to achieve compatibility with Python 3 (the original version was written for Python 2) and further modified and adapted by Panagiotis Kanellopoulos for both succinctness and comple.\n",
        "\n",
        "## Why Python?\n",
        "\n",
        "Python is the programming language of choice for many scientists to a large degree because it offers a great deal of power to analyze and model scientific data with relatively little overhead in terms of learning, installation or development time. It is a language you can pick up in a weekend, and use for the rest of one's life.\n",
        "\n",
        "The [Python Tutorial](https://docs.python.org/3/tutorial/index.html) is a great place to start getting a feel for the language. To complement this material, I taught a Python Short Course years ago to a group of computational chemists during a time that I was worried the field was moving too much in the direction of using canned software rather than developing one's own methods. I wanted to focus on what working scientists needed to be more productive: parsing output of other programs, building simple models, experimenting with object oriented programming, extending the language with C, and simple GUIs.\n",
        "\n",
        "I'm trying to do something very similar here, to cut to the chase and focus on what scientists need. In the last year or so, the [IPython Project](http://ipython.org/) has put together a notebook interface that I have found incredibly valuable. A large number of people have released very good IPython Notebooks that I have taken a huge amount of pleasure reading through. Some ones that I particularly like include:\n",
        "<ul>\n",
        "    <li> Rob Johansson's <a href=\"http://jrjohansson.github.io/\">excellent notebooks</a>, including <a href=\"https://github.com/jrjohansson/scientific-python-lectures\">Scientific Computing with Python</a> and <a href=\"https://github.com/jrjohansson/qutip-lectures\">Computational Quantum Physics with QuTiP lectures</a>;\n",
        "    <li> <a href=\"https://jakevdp.github.io/blog/2013/07/10/XKCD-plots-in-matplotlib/\">XKCD style graphs in matplotlib</a>;\n",
        "    <li> <a href=\"https://github.com/jupyter/jupyter/wiki\">A gallery of interesting IPython Notebooks</a>\n",
        "</ul>\n",
        "    \n",
        "I find IPython notebooks an easy way both to get important work done in my everyday job, as well as to communicate what I've done, how I've done it, and why it matters to my coworkers. I find myself endlessly sweeping the <a href=\"https://www.reddit.com/r/ipython/\">IPython subreddit</a> hoping someone will post a new notebook. In the interest of putting more notebooks out into the wild for other people to use and enjoy, I thought I would try to recreate some of what I was trying to get across in the original Python Short Course, updated by 15 years of Python, Numpy, Scipy, Matplotlib, and IPython development, as well as my own experience in using Python almost every day of this time.\n",
        "\n",
        "## I. Python Overview\n",
        "This is a quick introduction to Python. There are lots of other places to learn the language more thoroughly. I have collected a list of useful links, including ones to other learning resources, at the end of this notebook. If you want a little more depth, [Python Tutorial](https://docs.python.org/3/tutorial/index.html) is a great place to start, as is Zed Shaw's [Learn Python the Hard Way](https://learnpythonthehardway.org/python3/).\n",
        "\n",
        "Briefly, notebooks have code cells (that are generally followed by result cells) and text cells. The text cells are the stuff that you're reading now. The code cells start with \"In []:\" with some number generally in the brackets. If you put your cursor in the code cell and hit Shift-Enter, the code will run in the Python interpreter and the result will print out in the output cell. You can then change things around and see whether you understand what's going on. If you need to know more, see the [Jupyter Project documentation](https://docs.jupyter.org/en/latest/).\n",
        "\n",
        "### Using Python as a Calculator\n",
        "Many of the things I used to use a calculator for, I now use Python for:"
      ]
    },
    {
      "cell_type": "code",
      "execution_count": 1,
      "metadata": {
        "colab": {
          "base_uri": "https://localhost:8080/"
        },
        "id": "jW0bdYUzfxln",
        "outputId": "d085431f-761d-4934-cda5-2515581e67a3"
      },
      "outputs": [
        {
          "output_type": "execute_result",
          "data": {
            "text/plain": [
              "4"
            ]
          },
          "metadata": {},
          "execution_count": 1
        }
      ],
      "source": [
        "2+2"
      ]
    },
    {
      "cell_type": "code",
      "execution_count": 2,
      "metadata": {
        "colab": {
          "base_uri": "https://localhost:8080/"
        },
        "id": "6aIMhFxDfxlq",
        "outputId": "0d701bca-6f11-48fd-83aa-503e882ee8db"
      },
      "outputs": [
        {
          "output_type": "execute_result",
          "data": {
            "text/plain": [
              "5.0"
            ]
          },
          "metadata": {},
          "execution_count": 2
        }
      ],
      "source": [
        "(50-5*6)/4"
      ]
    },
    {
      "cell_type": "markdown",
      "metadata": {
        "id": "WfU4o-Gmfxlr"
      },
      "source": [
        "(If you're typing this into an IPython notebook, or otherwise using notebook file, you hit shift-Enter to evaluate a cell.)\n",
        "\n",
        "There are some gotchas compared to using a normal calculator, depending on the Python version you are using."
      ]
    },
    {
      "cell_type": "code",
      "execution_count": 3,
      "metadata": {
        "colab": {
          "base_uri": "https://localhost:8080/"
        },
        "id": "M-h47oOSfxlr",
        "outputId": "a735ffe5-3209-4c08-a5a1-d44328710191"
      },
      "outputs": [
        {
          "output_type": "execute_result",
          "data": {
            "text/plain": [
              "2.3333333333333335"
            ]
          },
          "metadata": {},
          "execution_count": 3
        }
      ],
      "source": [
        "7/3"
      ]
    },
    {
      "cell_type": "markdown",
      "metadata": {
        "id": "MrMyD87vfxls"
      },
      "source": [
        "Python integer division, like C or Fortran integer division, truncates the remainder and returns an integer. At least it does in version 2. In version 3, Python returns a floating point number. You can get a sneak preview of this feature in Python 2 by importing the module from the future features:\n",
        "\n",
        "`from __future__ import division`\n",
        "\n",
        "Alternatively, you can convert one of the integers to a floating point number, in which case the division function returns another floating point number."
      ]
    },
    {
      "cell_type": "code",
      "execution_count": 4,
      "metadata": {
        "colab": {
          "base_uri": "https://localhost:8080/"
        },
        "id": "yFcns557fxlz",
        "outputId": "8230d6b6-da79-4bd0-8cb8-b623ade1800b"
      },
      "outputs": [
        {
          "output_type": "execute_result",
          "data": {
            "text/plain": [
              "2.3333333333333335"
            ]
          },
          "metadata": {},
          "execution_count": 4
        }
      ],
      "source": [
        "7/3."
      ]
    },
    {
      "cell_type": "code",
      "execution_count": 5,
      "metadata": {
        "colab": {
          "base_uri": "https://localhost:8080/"
        },
        "id": "_mZjjt5xfxl0",
        "outputId": "fc7de170-c3a4-401f-b150-1d97117aab7c"
      },
      "outputs": [
        {
          "output_type": "execute_result",
          "data": {
            "text/plain": [
              "2.3333333333333335"
            ]
          },
          "metadata": {},
          "execution_count": 5
        }
      ],
      "source": [
        "7/float(3)"
      ]
    },
    {
      "cell_type": "markdown",
      "metadata": {
        "id": "6ivv-8lMfxl0"
      },
      "source": [
        "In the last few lines, we have sped by a lot of things that we should stop for a moment and explore a little more fully. We've seen, however briefly, two different data types: **integers**, also known as whole numbers to the non-programming world, and **floating point numbers**, also known (incorrectly) as *decimal numbers* to the rest of the world.\n",
        "\n",
        "We've also seen the first instance of an **import** statement. Python has a huge number of libraries included with the distribution. To keep things simple, most of these variables and functions are not accessible from a normal Python interactive session. Instead, you have to import the name. For example, there is a **math** module containing many useful functions. To access, say, the square root function, you can either first\n",
        "\n",
        "`from math import sqrt`\n",
        "\n",
        "that is,"
      ]
    },
    {
      "cell_type": "code",
      "execution_count": 6,
      "metadata": {
        "id": "H5hebejqfxl1"
      },
      "outputs": [],
      "source": [
        "from math import sqrt"
      ]
    },
    {
      "cell_type": "markdown",
      "metadata": {
        "id": "_K2Eb5Slfxl2"
      },
      "source": [
        "and then"
      ]
    },
    {
      "cell_type": "code",
      "execution_count": 7,
      "metadata": {
        "colab": {
          "base_uri": "https://localhost:8080/"
        },
        "id": "1unuOlsxfxl2",
        "outputId": "c1ebdf13-bd2f-4f76-cbda-8bfc357fa2e9"
      },
      "outputs": [
        {
          "output_type": "execute_result",
          "data": {
            "text/plain": [
              "9.0"
            ]
          },
          "metadata": {},
          "execution_count": 7
        }
      ],
      "source": [
        "sqrt(81)"
      ]
    },
    {
      "cell_type": "markdown",
      "metadata": {
        "id": "2Q-afAt4fxl2"
      },
      "source": [
        "or you can simply import the math library itself"
      ]
    },
    {
      "cell_type": "code",
      "execution_count": 8,
      "metadata": {
        "colab": {
          "base_uri": "https://localhost:8080/"
        },
        "id": "HAPbNbJVfxl3",
        "outputId": "98261246-de06-4a34-c5fb-1540522d6452"
      },
      "outputs": [
        {
          "output_type": "execute_result",
          "data": {
            "text/plain": [
              "9.0"
            ]
          },
          "metadata": {},
          "execution_count": 8
        }
      ],
      "source": [
        "import math\n",
        "math.sqrt(81)"
      ]
    },
    {
      "cell_type": "markdown",
      "metadata": {
        "id": "OILDSZjXfxl3"
      },
      "source": [
        "You can define variables using the equals (=) sign:"
      ]
    },
    {
      "cell_type": "code",
      "execution_count": 9,
      "metadata": {
        "colab": {
          "base_uri": "https://localhost:8080/"
        },
        "id": "_S0Huh8Zfxl3",
        "outputId": "745bc5cd-a909-4349-9b48-3a8904b034d4"
      },
      "outputs": [
        {
          "output_type": "execute_result",
          "data": {
            "text/plain": [
              "600"
            ]
          },
          "metadata": {},
          "execution_count": 9
        }
      ],
      "source": [
        "width = 20\n",
        "length = 30\n",
        "area = length*width\n",
        "area"
      ]
    },
    {
      "cell_type": "markdown",
      "metadata": {
        "id": "Zl3ojeQYfxl3"
      },
      "source": [
        "If you try to access a variable that you haven't yet defined, you get an error:"
      ]
    },
    {
      "cell_type": "code",
      "execution_count": 10,
      "metadata": {
        "colab": {
          "base_uri": "https://localhost:8080/",
          "height": 141
        },
        "id": "0TenqkkYfxl4",
        "outputId": "59ff1132-3e61-41de-b045-3e3fc14a2269"
      },
      "outputs": [
        {
          "output_type": "error",
          "ename": "NameError",
          "evalue": "name 'volume' is not defined",
          "traceback": [
            "\u001b[0;31m---------------------------------------------------------------------------\u001b[0m",
            "\u001b[0;31mNameError\u001b[0m                                 Traceback (most recent call last)",
            "\u001b[0;32m<ipython-input-10-6211527fe2c2>\u001b[0m in \u001b[0;36m<cell line: 1>\u001b[0;34m()\u001b[0m\n\u001b[0;32m----> 1\u001b[0;31m \u001b[0mvolume\u001b[0m\u001b[0;34m\u001b[0m\u001b[0;34m\u001b[0m\u001b[0m\n\u001b[0m",
            "\u001b[0;31mNameError\u001b[0m: name 'volume' is not defined"
          ]
        }
      ],
      "source": [
        "volume\n"
      ]
    },
    {
      "cell_type": "code",
      "execution_count": 18,
      "metadata": {
        "colab": {
          "base_uri": "https://localhost:8080/"
        },
        "id": "WA5vr6Tvfxl4",
        "outputId": "62e2a9c2-c64f-44d9-acdc-c41592e6e710"
      },
      "outputs": [
        {
          "output_type": "execute_result",
          "data": {
            "text/plain": [
              "6000"
            ]
          },
          "metadata": {},
          "execution_count": 18
        }
      ],
      "source": [
        "depth = 10\n",
        "volume = area*depth\n",
        "volume"
      ]
    },
    {
      "cell_type": "markdown",
      "metadata": {
        "id": "kKVO7kQmfxl4"
      },
      "source": [
        "You can name a variable almost anything you want. It needs to start with an alphabetical character or \"_\", can contain alphanumeric charcters plus underscores (\"_\"). Certain words, however, are reserved for the language:\n",
        "\n",
        "and, as, assert, break, class, continue, def, del, elif, else, except,\n",
        "exec, finally, for, from, global, if, import, in, is, lambda, not, or,\n",
        "pass, print, raise, return, try, while, with, yield\n",
        "\n",
        "Trying to define a variable using one of these will result in a syntax error:"
      ]
    },
    {
      "cell_type": "code",
      "execution_count": 19,
      "metadata": {
        "colab": {
          "base_uri": "https://localhost:8080/",
          "height": 106
        },
        "id": "kZnnEgNmfxl5",
        "outputId": "5d4a79f9-922c-41d3-f46d-0feec752e0e2"
      },
      "outputs": [
        {
          "output_type": "error",
          "ename": "SyntaxError",
          "evalue": "invalid syntax (<ipython-input-19-c7a05f6eb55e>, line 1)",
          "traceback": [
            "\u001b[0;36m  File \u001b[0;32m\"<ipython-input-19-c7a05f6eb55e>\"\u001b[0;36m, line \u001b[0;32m1\u001b[0m\n\u001b[0;31m    return = 0\u001b[0m\n\u001b[0m           ^\u001b[0m\n\u001b[0;31mSyntaxError\u001b[0m\u001b[0;31m:\u001b[0m invalid syntax\n"
          ]
        }
      ],
      "source": [
        "return = 0"
      ]
    },
    {
      "cell_type": "markdown",
      "metadata": {
        "id": "lQqjWSO9fxl5"
      },
      "source": [
        "## Strings"
      ]
    },
    {
      "cell_type": "markdown",
      "metadata": {
        "id": "q8nQ-yApfxl5"
      },
      "source": [
        "Strings are lists of printable characters, and can be defined using either single quotes\n"
      ]
    },
    {
      "cell_type": "code",
      "execution_count": 20,
      "metadata": {
        "colab": {
          "base_uri": "https://localhost:8080/",
          "height": 35
        },
        "id": "P2lCxeaBfxl5",
        "outputId": "84203766-1425-48d0-db5a-bbf402e48623"
      },
      "outputs": [
        {
          "output_type": "execute_result",
          "data": {
            "text/plain": [
              "'Hello, World!'"
            ],
            "application/vnd.google.colaboratory.intrinsic+json": {
              "type": "string"
            }
          },
          "metadata": {},
          "execution_count": 20
        }
      ],
      "source": [
        "'Hello, World!'"
      ]
    },
    {
      "cell_type": "markdown",
      "metadata": {
        "id": "NgTcSNccfxl5"
      },
      "source": [
        "or double quotes"
      ]
    },
    {
      "cell_type": "code",
      "execution_count": 21,
      "metadata": {
        "colab": {
          "base_uri": "https://localhost:8080/",
          "height": 35
        },
        "id": "RnXjII6kfxl5",
        "outputId": "73279502-ea5a-45da-e460-17751579fb4c"
      },
      "outputs": [
        {
          "output_type": "execute_result",
          "data": {
            "text/plain": [
              "'Hello, World!'"
            ],
            "application/vnd.google.colaboratory.intrinsic+json": {
              "type": "string"
            }
          },
          "metadata": {},
          "execution_count": 21
        }
      ],
      "source": [
        "\"Hello, World!\""
      ]
    },
    {
      "cell_type": "markdown",
      "metadata": {
        "id": "ycEbo38rfxl6"
      },
      "source": [
        "But not both at the same time, unless you want one of the symbols to be part of the string."
      ]
    },
    {
      "cell_type": "code",
      "execution_count": 22,
      "metadata": {
        "colab": {
          "base_uri": "https://localhost:8080/",
          "height": 35
        },
        "id": "ke90S5b0fxl6",
        "outputId": "19f72fde-d73c-4d98-d5e2-cabe65b51ca1"
      },
      "outputs": [
        {
          "output_type": "execute_result",
          "data": {
            "text/plain": [
              "\"He's a Rebel\""
            ],
            "application/vnd.google.colaboratory.intrinsic+json": {
              "type": "string"
            }
          },
          "metadata": {},
          "execution_count": 22
        }
      ],
      "source": [
        "\"He's a Rebel\""
      ]
    },
    {
      "cell_type": "code",
      "execution_count": 23,
      "metadata": {
        "colab": {
          "base_uri": "https://localhost:8080/",
          "height": 35
        },
        "id": "mFAnmQd0fxl6",
        "outputId": "6385ef6d-ed92-445c-c598-22349ab82b22"
      },
      "outputs": [
        {
          "output_type": "execute_result",
          "data": {
            "text/plain": [
              "'She asked, \"How are you today?\"'"
            ],
            "application/vnd.google.colaboratory.intrinsic+json": {
              "type": "string"
            }
          },
          "metadata": {},
          "execution_count": 23
        }
      ],
      "source": [
        "'She asked, \"How are you today?\"'"
      ]
    },
    {
      "cell_type": "markdown",
      "metadata": {
        "id": "pU5jICiJfxl7"
      },
      "source": [
        "Just like the other two data objects we're familiar with (ints and floats), you can assign a string to a variable\n"
      ]
    },
    {
      "cell_type": "code",
      "execution_count": 24,
      "metadata": {
        "id": "67-Sa3gvfxl7"
      },
      "outputs": [],
      "source": [
        "greeting = \"Hello, World!\""
      ]
    },
    {
      "cell_type": "markdown",
      "metadata": {
        "id": "xbr__I9Sfxl7"
      },
      "source": [
        "The **print** statement is often used for printing character strings:"
      ]
    },
    {
      "cell_type": "code",
      "execution_count": 25,
      "metadata": {
        "colab": {
          "base_uri": "https://localhost:8080/"
        },
        "id": "-m2W6o4xfxl8",
        "outputId": "a1cac26b-19d1-4236-f59c-cea8f3d62c36"
      },
      "outputs": [
        {
          "output_type": "stream",
          "name": "stdout",
          "text": [
            "Hello, World!\n"
          ]
        }
      ],
      "source": [
        "print(greeting)"
      ]
    },
    {
      "cell_type": "markdown",
      "metadata": {
        "id": "6srTSVobfxl8"
      },
      "source": [
        "But it can also print data types other than strings:"
      ]
    },
    {
      "cell_type": "code",
      "execution_count": 26,
      "metadata": {
        "colab": {
          "base_uri": "https://localhost:8080/"
        },
        "id": "0L2GEc-5fxl8",
        "outputId": "39043785-5e7f-4239-eec3-ff3a35b63ec4"
      },
      "outputs": [
        {
          "output_type": "stream",
          "name": "stdout",
          "text": [
            "The area is  600\n"
          ]
        }
      ],
      "source": [
        "print(\"The area is \",area)"
      ]
    },
    {
      "cell_type": "markdown",
      "metadata": {
        "id": "1sKLIYGBfxl9"
      },
      "source": [
        "In the above snippet, the number 600 (stored in the variable \"area\") is converted into a string before being printed out.\n",
        "\n",
        "You can use the + operator to concatenate strings together:"
      ]
    },
    {
      "cell_type": "code",
      "execution_count": 27,
      "metadata": {
        "colab": {
          "base_uri": "https://localhost:8080/"
        },
        "id": "WHnto9w_fxl9",
        "outputId": "68a167c3-b559-4784-e307-e6b331db6434"
      },
      "outputs": [
        {
          "output_type": "stream",
          "name": "stdout",
          "text": [
            "Hello,World!\n"
          ]
        }
      ],
      "source": [
        "statement = \"Hello,\" + \"World!\"\n",
        "print(statement)"
      ]
    },
    {
      "cell_type": "markdown",
      "metadata": {
        "id": "bAQCg3sgfxl9"
      },
      "source": [
        "Don't forget the space between the strings, if you want one there."
      ]
    },
    {
      "cell_type": "code",
      "execution_count": 28,
      "metadata": {
        "colab": {
          "base_uri": "https://localhost:8080/"
        },
        "id": "ODoGwo2Bfxl9",
        "outputId": "1d96abc0-3d9b-44ea-a6a4-deadbebde0fe"
      },
      "outputs": [
        {
          "output_type": "stream",
          "name": "stdout",
          "text": [
            "Hello, World!\n"
          ]
        }
      ],
      "source": [
        "statement = \"Hello, \" + \"World!\"\n",
        "print(statement)"
      ]
    },
    {
      "cell_type": "markdown",
      "metadata": {
        "id": "CNp-R_Orfxl-"
      },
      "source": [
        "You can use + to concatenate multiple strings in a single statement:"
      ]
    },
    {
      "cell_type": "code",
      "execution_count": 29,
      "metadata": {
        "colab": {
          "base_uri": "https://localhost:8080/"
        },
        "id": "gj-MJyklfxl-",
        "outputId": "9cef03ea-194c-49d9-a53c-8c7603fb6f20"
      },
      "outputs": [
        {
          "output_type": "stream",
          "name": "stdout",
          "text": [
            "This is a longer statement.\n"
          ]
        }
      ],
      "source": [
        "print(\"This \" + \"is \" + \"a \" + \"longer \" + \"statement.\")"
      ]
    },
    {
      "cell_type": "markdown",
      "metadata": {
        "id": "F7l0ZEWYfxl-"
      },
      "source": [
        "If you have a lot of words to concatenate together, there are other, more efficient ways to do this. But this is fine for linking a few strings together."
      ]
    },
    {
      "cell_type": "markdown",
      "metadata": {
        "id": "V7TGQHJ7fxl-"
      },
      "source": [
        "## Lists\n"
      ]
    },
    {
      "cell_type": "markdown",
      "metadata": {
        "id": "H-aoRGcHfxl-"
      },
      "source": [
        "Very often in a programming language, one wants to keep a group of similar items together. Python does this using a data type called lists.\n"
      ]
    },
    {
      "cell_type": "code",
      "execution_count": 30,
      "metadata": {
        "id": "lEVe_wiRfxl-"
      },
      "outputs": [],
      "source": [
        "days_of_the_week = [\"Sunday\",\"Monday\",\"Tuesday\",\"Wednesday\",\"Thursday\",\"Friday\",\"Saturday\"]"
      ]
    },
    {
      "cell_type": "markdown",
      "metadata": {
        "id": "kCA_xbnafxl_"
      },
      "source": [
        "You can access members of the list using the **index** of that item:\n"
      ]
    },
    {
      "cell_type": "code",
      "execution_count": 31,
      "metadata": {
        "colab": {
          "base_uri": "https://localhost:8080/",
          "height": 35
        },
        "id": "soxKmdJ8fxl_",
        "outputId": "623b926f-f662-411f-f9f9-62781b44f072"
      },
      "outputs": [
        {
          "output_type": "execute_result",
          "data": {
            "text/plain": [
              "'Tuesday'"
            ],
            "application/vnd.google.colaboratory.intrinsic+json": {
              "type": "string"
            }
          },
          "metadata": {},
          "execution_count": 31
        }
      ],
      "source": [
        "days_of_the_week[2]"
      ]
    },
    {
      "cell_type": "markdown",
      "metadata": {
        "id": "526dW1ikfxl_"
      },
      "source": [
        "Python lists, like C, but unlike Fortran, use 0 as the index of the first element of a list. Thus, in this example, the 0 element is \"Sunday\", 1 is \"Monday\", and so on. If you need to access the nth element from the end of the list, you can use a negative index. For example, the -1 element of a list is the last element:"
      ]
    },
    {
      "cell_type": "code",
      "execution_count": 32,
      "metadata": {
        "colab": {
          "base_uri": "https://localhost:8080/",
          "height": 35
        },
        "id": "HrqRMFJ-fxl_",
        "outputId": "2b1868c4-39bc-449c-d6ff-d4e5f816dfb8"
      },
      "outputs": [
        {
          "output_type": "execute_result",
          "data": {
            "text/plain": [
              "'Saturday'"
            ],
            "application/vnd.google.colaboratory.intrinsic+json": {
              "type": "string"
            }
          },
          "metadata": {},
          "execution_count": 32
        }
      ],
      "source": [
        "days_of_the_week[-1]"
      ]
    },
    {
      "cell_type": "markdown",
      "metadata": {
        "id": "JL4WYhY8fxmA"
      },
      "source": [
        "You can add additional items to the list using the .append() command:"
      ]
    },
    {
      "cell_type": "code",
      "execution_count": 33,
      "metadata": {
        "scrolled": true,
        "colab": {
          "base_uri": "https://localhost:8080/"
        },
        "id": "q-cRwSSqfxmA",
        "outputId": "15d5a7cb-28db-40df-add8-05042fb1e311"
      },
      "outputs": [
        {
          "output_type": "stream",
          "name": "stdout",
          "text": [
            "['Fortran', 'C', 'C++', 'Python']\n"
          ]
        }
      ],
      "source": [
        "languages = [\"Fortran\",\"C\",\"C++\"]\n",
        "languages.append(\"Python\")\n",
        "print(languages)"
      ]
    },
    {
      "cell_type": "markdown",
      "metadata": {
        "id": "PtwRL1RefxmA"
      },
      "source": [
        "The **range()** command can be used to generate a list of numbers, by using it in conjunction with **list()**:\n",
        "\n"
      ]
    },
    {
      "cell_type": "code",
      "execution_count": 34,
      "metadata": {
        "colab": {
          "base_uri": "https://localhost:8080/"
        },
        "id": "87mTnchhfxmA",
        "outputId": "6ce4dc63-2c3a-460e-f57d-33a9d5d91ec9"
      },
      "outputs": [
        {
          "output_type": "execute_result",
          "data": {
            "text/plain": [
              "[0, 1, 2, 3, 4, 5, 6, 7, 8, 9]"
            ]
          },
          "metadata": {},
          "execution_count": 34
        }
      ],
      "source": [
        "list(range(10))"
      ]
    },
    {
      "cell_type": "markdown",
      "metadata": {
        "id": "xCFA7kWrfxmB"
      },
      "source": [
        "Note that range(n) starts at 0 and gives the sequential list of integers less than n. If you want to start at a different number, use range(start,stop)"
      ]
    },
    {
      "cell_type": "code",
      "execution_count": 11,
      "metadata": {
        "colab": {
          "base_uri": "https://localhost:8080/"
        },
        "id": "MGc27z1OfxmB",
        "outputId": "fb93be1f-3dab-4a8b-bbd0-066bf6aa4543"
      },
      "outputs": [
        {
          "output_type": "execute_result",
          "data": {
            "text/plain": [
              "[2, 3, 4, 5, 6, 7]"
            ]
          },
          "metadata": {},
          "execution_count": 11
        }
      ],
      "source": [
        "list(range(2,8))"
      ]
    },
    {
      "cell_type": "markdown",
      "metadata": {
        "id": "VHgaXtHffxmB"
      },
      "source": [
        "The lists created above with range have a step of 1 between elements. You can also give a fixed step size via a third command:"
      ]
    },
    {
      "cell_type": "code",
      "execution_count": 12,
      "metadata": {
        "colab": {
          "base_uri": "https://localhost:8080/"
        },
        "id": "FqE5KdC2fxmB",
        "outputId": "5e04a486-759f-4e67-87ed-29471f5a1101"
      },
      "outputs": [
        {
          "output_type": "execute_result",
          "data": {
            "text/plain": [
              "[0, 2, 4, 6, 8, 10, 12, 14, 16, 18]"
            ]
          },
          "metadata": {},
          "execution_count": 12
        }
      ],
      "source": [
        "evens = list(range(0,20,2))\n",
        "evens"
      ]
    },
    {
      "cell_type": "code",
      "execution_count": 13,
      "metadata": {
        "colab": {
          "base_uri": "https://localhost:8080/"
        },
        "id": "7tWceNr8fxmB",
        "outputId": "416edec7-6ed0-4933-a704-15758883118a"
      },
      "outputs": [
        {
          "output_type": "execute_result",
          "data": {
            "text/plain": [
              "6"
            ]
          },
          "metadata": {},
          "execution_count": 13
        }
      ],
      "source": [
        "evens[3]"
      ]
    },
    {
      "cell_type": "markdown",
      "metadata": {
        "id": "Uqy5k-eLfxmB"
      },
      "source": [
        "Lists do not have to hold the same data type. For example,"
      ]
    },
    {
      "cell_type": "code",
      "execution_count": 14,
      "metadata": {
        "colab": {
          "base_uri": "https://localhost:8080/"
        },
        "id": "pngJ8tnwfxmC",
        "outputId": "34cf9c00-d8c2-4dc4-e7d4-728b80f94211"
      },
      "outputs": [
        {
          "output_type": "execute_result",
          "data": {
            "text/plain": [
              "['Today', 7, 99.3, '']"
            ]
          },
          "metadata": {},
          "execution_count": 14
        }
      ],
      "source": [
        "[\"Today\",7,99.3,\"\"]"
      ]
    },
    {
      "cell_type": "markdown",
      "metadata": {
        "id": "mLz6b056fxmC"
      },
      "source": [
        "However, it's good (but not essential) to use lists for similar objects that are somehow logically connected. If you want to group different data types together into a composite data object, it's best to use **tuples**, which we will learn about below.\n",
        "\n",
        "You can find out how long a list is using the **len()** command:"
      ]
    },
    {
      "cell_type": "code",
      "execution_count": 35,
      "metadata": {
        "colab": {
          "base_uri": "https://localhost:8080/"
        },
        "id": "2I-XCTpBfxmC",
        "outputId": "85a0b74b-6630-49a0-8e01-f2b767771d14"
      },
      "outputs": [
        {
          "output_type": "stream",
          "name": "stdout",
          "text": [
            "Help on built-in function len in module builtins:\n",
            "\n",
            "len(obj, /)\n",
            "    Return the number of items in a container.\n",
            "\n"
          ]
        }
      ],
      "source": [
        "help(len)"
      ]
    },
    {
      "cell_type": "code",
      "execution_count": 16,
      "metadata": {
        "colab": {
          "base_uri": "https://localhost:8080/"
        },
        "id": "Uf8vH5ypfxmD",
        "outputId": "f6360dd2-7b8d-4f81-c702-8b76221bea49"
      },
      "outputs": [
        {
          "output_type": "execute_result",
          "data": {
            "text/plain": [
              "10"
            ]
          },
          "metadata": {},
          "execution_count": 16
        }
      ],
      "source": [
        "len(evens)"
      ]
    },
    {
      "cell_type": "markdown",
      "metadata": {
        "id": "9NmcDtYFfxmD"
      },
      "source": [
        "## Iteration, Indentation, and Blocks"
      ]
    },
    {
      "cell_type": "markdown",
      "metadata": {
        "id": "uZIYrFDofxmD"
      },
      "source": [
        "One of the most useful things you can do with lists is to *iterate* through them, i.e. to go through each element one at a time. To do this in Python, we use the **for** statement:"
      ]
    },
    {
      "cell_type": "code",
      "execution_count": 36,
      "metadata": {
        "colab": {
          "base_uri": "https://localhost:8080/"
        },
        "id": "u6M8c3BrfxmD",
        "outputId": "70a73b29-11be-4938-d9c4-5a977d89309e"
      },
      "outputs": [
        {
          "output_type": "stream",
          "name": "stdout",
          "text": [
            "Sunday\n",
            "Monday\n",
            "Tuesday\n",
            "Wednesday\n",
            "Thursday\n",
            "Friday\n",
            "Saturday\n"
          ]
        }
      ],
      "source": [
        "for day in days_of_the_week:\n",
        "    print(day)"
      ]
    },
    {
      "cell_type": "markdown",
      "metadata": {
        "id": "-e7_tF7ffxmD"
      },
      "source": [
        "This code snippet goes through each element of the list called **days_of_the_week** and assigns it to the variable **day**. It then executes everything in the indented block (in this case only one line of code, the print statement) using those variable assignments. When the program has gone through every element of the list, it exists the block.\n",
        "\n",
        "(Almost) every programming language defines blocks of code in some way. In Fortran, one uses END statements (ENDDO, ENDIF, etc.) to define code blocks. In C, C++, and Perl, one uses curly braces {} to define these blocks.\n",
        "\n",
        "Python uses a colon (\":\"), followed by indentation level to define code blocks. Everything at a higher level of indentation is taken to be in the same block. In the above example the block was only a single line, but we could have had longer blocks as well:"
      ]
    },
    {
      "cell_type": "code",
      "execution_count": 37,
      "metadata": {
        "colab": {
          "base_uri": "https://localhost:8080/"
        },
        "id": "ltdW8p_NfxmE",
        "outputId": "89ab3c2f-8131-4018-d87b-1834a6ff5446"
      },
      "outputs": [
        {
          "output_type": "stream",
          "name": "stdout",
          "text": [
            "Today is Sunday\n",
            "Today is Monday\n",
            "Today is Tuesday\n",
            "Today is Wednesday\n",
            "Today is Thursday\n",
            "Today is Friday\n",
            "Today is Saturday\n"
          ]
        }
      ],
      "source": [
        "for day in days_of_the_week:\n",
        "    statement = \"Today is \" + day\n",
        "    print(statement)"
      ]
    },
    {
      "cell_type": "markdown",
      "metadata": {
        "id": "u_RHlNppfxmE"
      },
      "source": [
        "The **range()** command is particularly useful with the for statement to execute loops of a specified length:"
      ]
    },
    {
      "cell_type": "code",
      "execution_count": 38,
      "metadata": {
        "colab": {
          "base_uri": "https://localhost:8080/"
        },
        "id": "Dej_Rs0NfxmE",
        "outputId": "8379510a-7db7-4ef1-a26e-e19908add574"
      },
      "outputs": [
        {
          "output_type": "stream",
          "name": "stdout",
          "text": [
            "The square of  0  is  0\n",
            "The square of  1  is  1\n",
            "The square of  2  is  4\n",
            "The square of  3  is  9\n",
            "The square of  4  is  16\n",
            "The square of  5  is  25\n",
            "The square of  6  is  36\n",
            "The square of  7  is  49\n",
            "The square of  8  is  64\n",
            "The square of  9  is  81\n",
            "The square of  10  is  100\n",
            "The square of  11  is  121\n",
            "The square of  12  is  144\n",
            "The square of  13  is  169\n",
            "The square of  14  is  196\n",
            "The square of  15  is  225\n",
            "The square of  16  is  256\n",
            "The square of  17  is  289\n",
            "The square of  18  is  324\n",
            "The square of  19  is  361\n"
          ]
        }
      ],
      "source": [
        "for i in range(20):\n",
        "    print(\"The square of \",i,\" is \",i*i)"
      ]
    },
    {
      "cell_type": "markdown",
      "metadata": {
        "id": "na2ex2TffxmE"
      },
      "source": [
        "## Slicing"
      ]
    },
    {
      "cell_type": "markdown",
      "metadata": {
        "id": "AqeCOS0PfxmF"
      },
      "source": [
        "Lists and strings have something in common that you might not suspect: they can both be treated as sequences. You already know that you can iterate through the elements of a list. You can also iterate through the letters in a string:"
      ]
    },
    {
      "cell_type": "code",
      "execution_count": 39,
      "metadata": {
        "colab": {
          "base_uri": "https://localhost:8080/"
        },
        "id": "fsTcmaDGfxmF",
        "outputId": "5a10edf5-bd77-47b1-d8bf-baa222c0645e"
      },
      "outputs": [
        {
          "output_type": "stream",
          "name": "stdout",
          "text": [
            "S\n",
            "u\n",
            "n\n",
            "d\n",
            "a\n",
            "y\n"
          ]
        }
      ],
      "source": [
        "for letter in \"Sunday\":\n",
        "    print(letter)"
      ]
    },
    {
      "cell_type": "markdown",
      "metadata": {
        "id": "-TsGx7ACfxmF"
      },
      "source": [
        "This is only occasionally useful. Slightly more useful is the slicing operation, which you can also use on any sequence. We already know that we can use indexing to get the first element of a list:"
      ]
    },
    {
      "cell_type": "code",
      "execution_count": 40,
      "metadata": {
        "colab": {
          "base_uri": "https://localhost:8080/",
          "height": 35
        },
        "id": "kg9DSF8mfxmF",
        "outputId": "b22789f4-95e7-4e9d-f939-d7d8963db74a"
      },
      "outputs": [
        {
          "output_type": "execute_result",
          "data": {
            "text/plain": [
              "'Sunday'"
            ],
            "application/vnd.google.colaboratory.intrinsic+json": {
              "type": "string"
            }
          },
          "metadata": {},
          "execution_count": 40
        }
      ],
      "source": [
        "days_of_the_week[0]"
      ]
    },
    {
      "cell_type": "markdown",
      "metadata": {
        "id": "hvYdakc-fxmF"
      },
      "source": [
        "If we want the list containing the first two elements of a list, we can do this via"
      ]
    },
    {
      "cell_type": "code",
      "execution_count": 41,
      "metadata": {
        "colab": {
          "base_uri": "https://localhost:8080/"
        },
        "id": "AKmdyM6ffxmG",
        "outputId": "f6b3a301-1dd0-4a1e-d02e-2ca594aca97c"
      },
      "outputs": [
        {
          "output_type": "execute_result",
          "data": {
            "text/plain": [
              "['Sunday', 'Monday']"
            ]
          },
          "metadata": {},
          "execution_count": 41
        }
      ],
      "source": [
        "days_of_the_week[0:2]"
      ]
    },
    {
      "cell_type": "markdown",
      "metadata": {
        "id": "Cex4jgO8fxmG"
      },
      "source": [
        "or simply"
      ]
    },
    {
      "cell_type": "code",
      "execution_count": 42,
      "metadata": {
        "colab": {
          "base_uri": "https://localhost:8080/"
        },
        "id": "U0_B3wphfxmG",
        "outputId": "c43ce7ac-b912-4821-ebba-80a29d3f2334"
      },
      "outputs": [
        {
          "output_type": "execute_result",
          "data": {
            "text/plain": [
              "['Sunday', 'Monday']"
            ]
          },
          "metadata": {},
          "execution_count": 42
        }
      ],
      "source": [
        "days_of_the_week[:2]"
      ]
    },
    {
      "cell_type": "markdown",
      "metadata": {
        "id": "pmlZsXv0fxmG"
      },
      "source": [
        "If we want the last items of the list, we can do this with negative slicing:"
      ]
    },
    {
      "cell_type": "code",
      "execution_count": 43,
      "metadata": {
        "colab": {
          "base_uri": "https://localhost:8080/"
        },
        "id": "zgGZfldsfxmG",
        "outputId": "a139607c-058a-47fe-e5ee-c34b86902839"
      },
      "outputs": [
        {
          "output_type": "execute_result",
          "data": {
            "text/plain": [
              "['Friday', 'Saturday']"
            ]
          },
          "metadata": {},
          "execution_count": 43
        }
      ],
      "source": [
        "days_of_the_week[-2:]"
      ]
    },
    {
      "cell_type": "markdown",
      "metadata": {
        "id": "NKCFNnmlfxmH"
      },
      "source": [
        "which is somewhat logically consistent with negative indices accessing the last elements of the list.\n",
        "\n",
        "You can do:"
      ]
    },
    {
      "cell_type": "code",
      "execution_count": 44,
      "metadata": {
        "colab": {
          "base_uri": "https://localhost:8080/"
        },
        "id": "My_y_T4UfxmH",
        "outputId": "a2f71f29-eaec-485d-a03c-33fdae6c3afa"
      },
      "outputs": [
        {
          "output_type": "stream",
          "name": "stdout",
          "text": [
            "['Monday', 'Tuesday', 'Wednesday', 'Thursday', 'Friday']\n"
          ]
        }
      ],
      "source": [
        "workdays = days_of_the_week[1:6]\n",
        "print(workdays)"
      ]
    },
    {
      "cell_type": "markdown",
      "metadata": {
        "id": "-orP99DufxmH"
      },
      "source": [
        "Since strings are sequences, you can also do this to them:"
      ]
    },
    {
      "cell_type": "code",
      "execution_count": 45,
      "metadata": {
        "colab": {
          "base_uri": "https://localhost:8080/"
        },
        "id": "QkHsNJwjfxmH",
        "outputId": "a39e805e-95a9-4c97-df32-b53d1c9ebe34"
      },
      "outputs": [
        {
          "output_type": "stream",
          "name": "stdout",
          "text": [
            "Sun\n"
          ]
        }
      ],
      "source": [
        "day = \"Sunday\"\n",
        "abbreviation = day[:3]\n",
        "print(abbreviation)"
      ]
    },
    {
      "cell_type": "markdown",
      "metadata": {
        "id": "hstE0R65fxmH"
      },
      "source": [
        "If we really want to get fancy, we can pass a third element into the slice, which specifies a step length (just like a third argument to the **range()** function specifies the step):"
      ]
    },
    {
      "cell_type": "code",
      "execution_count": 46,
      "metadata": {
        "colab": {
          "base_uri": "https://localhost:8080/"
        },
        "id": "Oe2QCOQkfxmI",
        "outputId": "e6b2814b-9272-4835-bc34-c3182f66eda4"
      },
      "outputs": [
        {
          "output_type": "execute_result",
          "data": {
            "text/plain": [
              "[2, 4, 6, 8, 10, 12, 14, 16, 18, 20, 22, 24, 26, 28, 30, 32, 34, 36, 38]"
            ]
          },
          "metadata": {},
          "execution_count": 46
        }
      ],
      "source": [
        "numbers = range(0,40)\n",
        "evens = numbers[2::2]\n",
        "list(evens)"
      ]
    },
    {
      "cell_type": "markdown",
      "metadata": {
        "id": "C1xcao4lfxmI"
      },
      "source": [
        "Note that in this example I was even able to omit the second argument, so that the slice started at 2, went to the end of the list, and took every second element, to generate the list of even numbers less that 40."
      ]
    },
    {
      "cell_type": "markdown",
      "metadata": {
        "id": "mnehjMI-fxmI"
      },
      "source": [
        "## Booleans and Truth Testing"
      ]
    },
    {
      "cell_type": "markdown",
      "metadata": {
        "id": "2DCShdcBfxmI"
      },
      "source": [
        "We have now learned a few data types. We have integers and floating point numbers, strings, and lists to contain them. We have also learned about lists, a container that can hold any data type. We have learned to print things out, and to iterate over items in lists. We will now learn about **boolean** variables that can be either True or False.\n",
        "\n",
        "We invariably need some concept of conditions in programming to control branching behavior, to allow a program to react differently to different situations. If it's Monday, I'll go to work, but if it's Sunday, I'll sleep in. To do this in Python, we use a combination of **boolean** variables, which evaluate to either True or False, and if statements, that control branching based on boolean values.\n",
        "\n",
        "For example:"
      ]
    },
    {
      "cell_type": "code",
      "execution_count": 47,
      "metadata": {
        "colab": {
          "base_uri": "https://localhost:8080/"
        },
        "id": "uTZ6Mig-fxmI",
        "outputId": "94c31961-ab94-47ba-d0d8-cc149f30ab0c"
      },
      "outputs": [
        {
          "output_type": "stream",
          "name": "stdout",
          "text": [
            "Sleep in\n"
          ]
        }
      ],
      "source": [
        "if day == \"Sunday\":\n",
        "    print(\"Sleep in\")\n",
        "else:\n",
        "    print(\"Go to work\")"
      ]
    },
    {
      "cell_type": "markdown",
      "metadata": {
        "id": "lTanUhu_fxmJ"
      },
      "source": [
        "(Quick quiz: why did the snippet print \"Go to work\" here? What is the variable \"day\" set to?)\n",
        "\n",
        "Let's take the snippet apart to see what happened. First, note the statement"
      ]
    },
    {
      "cell_type": "code",
      "execution_count": 48,
      "metadata": {
        "colab": {
          "base_uri": "https://localhost:8080/"
        },
        "id": "2R1QDVOEfxmJ",
        "outputId": "58dd11ff-16ea-4a9e-d57f-1c8267f5337f"
      },
      "outputs": [
        {
          "output_type": "execute_result",
          "data": {
            "text/plain": [
              "True"
            ]
          },
          "metadata": {},
          "execution_count": 48
        }
      ],
      "source": [
        "day == \"Sunday\""
      ]
    },
    {
      "cell_type": "markdown",
      "metadata": {
        "id": "zZo5nx4yfxmJ"
      },
      "source": [
        "If we evaluate it by itself, as we just did, we see that it returns a boolean value, False. The \"==\" operator performs *equality testing*. If the two items are equal, it returns True, otherwise it returns False. In this case, it is comparing two variables, the string \"Sunday\", and whatever is stored in the variable \"day\", which, in this case, is the other string \"Saturday\". Since the two strings are not equal to each other, the truth test has the false value.\n",
        "\n",
        "The if statement that contains the truth test is followed by a code block (a colon followed by an indented block of code). If the boolean is true, it executes the code in that block. Since it is false in the above example, we don't see that code executed.\n",
        "\n",
        "The first block of code is followed by an **else** statement, which is executed if nothing else in the above if statement is true. Since the value was false, this code is executed, which is why we see \"Go to work\".\n",
        "\n",
        "You can compare any data types in Python:"
      ]
    },
    {
      "cell_type": "code",
      "execution_count": 49,
      "metadata": {
        "colab": {
          "base_uri": "https://localhost:8080/"
        },
        "id": "JjgtXp_HfxmJ",
        "outputId": "4ff4874f-1272-4730-cc0e-2563800641fc"
      },
      "outputs": [
        {
          "output_type": "execute_result",
          "data": {
            "text/plain": [
              "False"
            ]
          },
          "metadata": {},
          "execution_count": 49
        }
      ],
      "source": [
        "1 == 2"
      ]
    },
    {
      "cell_type": "code",
      "execution_count": 50,
      "metadata": {
        "colab": {
          "base_uri": "https://localhost:8080/"
        },
        "id": "dCr57zC0fxmJ",
        "outputId": "94a40b08-7687-4b0f-ed9e-15f262705963"
      },
      "outputs": [
        {
          "output_type": "execute_result",
          "data": {
            "text/plain": [
              "True"
            ]
          },
          "metadata": {},
          "execution_count": 50
        }
      ],
      "source": [
        "50 == 2*25"
      ]
    },
    {
      "cell_type": "code",
      "execution_count": 51,
      "metadata": {
        "colab": {
          "base_uri": "https://localhost:8080/"
        },
        "id": "VtFCW1G1fxmK",
        "outputId": "d08980ec-c3e6-411d-da2a-ffc2c06453ae"
      },
      "outputs": [
        {
          "output_type": "execute_result",
          "data": {
            "text/plain": [
              "True"
            ]
          },
          "metadata": {},
          "execution_count": 51
        }
      ],
      "source": [
        "3 < 3.14159"
      ]
    },
    {
      "cell_type": "code",
      "execution_count": 52,
      "metadata": {
        "colab": {
          "base_uri": "https://localhost:8080/"
        },
        "id": "spIf3H0zfxmK",
        "outputId": "6c795331-cf4f-41e4-e02a-fa673859b14c"
      },
      "outputs": [
        {
          "output_type": "execute_result",
          "data": {
            "text/plain": [
              "True"
            ]
          },
          "metadata": {},
          "execution_count": 52
        }
      ],
      "source": [
        "1 == 1.0"
      ]
    },
    {
      "cell_type": "code",
      "execution_count": 53,
      "metadata": {
        "colab": {
          "base_uri": "https://localhost:8080/"
        },
        "id": "LxFIKg8FfxmK",
        "outputId": "9a4ad9a5-7e8d-43c8-dbb4-ccee864767f0"
      },
      "outputs": [
        {
          "output_type": "execute_result",
          "data": {
            "text/plain": [
              "True"
            ]
          },
          "metadata": {},
          "execution_count": 53
        }
      ],
      "source": [
        "1 != 0"
      ]
    },
    {
      "cell_type": "code",
      "execution_count": 54,
      "metadata": {
        "colab": {
          "base_uri": "https://localhost:8080/"
        },
        "id": "CxLVoXKBfxmL",
        "outputId": "b41f5407-8719-4b5e-be96-12417c2b4543"
      },
      "outputs": [
        {
          "output_type": "execute_result",
          "data": {
            "text/plain": [
              "True"
            ]
          },
          "metadata": {},
          "execution_count": 54
        }
      ],
      "source": [
        "1 <= 2"
      ]
    },
    {
      "cell_type": "code",
      "execution_count": 55,
      "metadata": {
        "colab": {
          "base_uri": "https://localhost:8080/"
        },
        "id": "53dnvjSKfxmL",
        "outputId": "0ab6a679-c118-4064-99ab-191532f29ad1"
      },
      "outputs": [
        {
          "output_type": "execute_result",
          "data": {
            "text/plain": [
              "True"
            ]
          },
          "metadata": {},
          "execution_count": 55
        }
      ],
      "source": [
        "1 >= 1"
      ]
    },
    {
      "cell_type": "markdown",
      "metadata": {
        "id": "hi0ifXtcfxmL"
      },
      "source": [
        "\n",
        "We see a few other boolean operators here, all of which which should be self-explanatory. Less than, equality, non-equality, and so on.\n",
        "\n",
        "Particularly interesting is the 1 == 1.0 test, which is true, since even though the two objects are different data types (integer and floating point number), they have the same value. There is another boolean operator is, that tests whether two objects are the same object:"
      ]
    },
    {
      "cell_type": "code",
      "execution_count": 56,
      "metadata": {
        "colab": {
          "base_uri": "https://localhost:8080/"
        },
        "id": "2HJdIhWUfxmM",
        "outputId": "d1dc9a84-59a6-42b0-cdb2-d2dba5c1bfa1"
      },
      "outputs": [
        {
          "output_type": "stream",
          "name": "stderr",
          "text": [
            "<>:1: SyntaxWarning: \"is\" with a literal. Did you mean \"==\"?\n",
            "<>:1: SyntaxWarning: \"is\" with a literal. Did you mean \"==\"?\n",
            "<ipython-input-56-2ebf4c947f31>:1: SyntaxWarning: \"is\" with a literal. Did you mean \"==\"?\n",
            "  1 is 1.0\n"
          ]
        },
        {
          "output_type": "execute_result",
          "data": {
            "text/plain": [
              "False"
            ]
          },
          "metadata": {},
          "execution_count": 56
        }
      ],
      "source": [
        "1 is 1.0"
      ]
    },
    {
      "cell_type": "markdown",
      "metadata": {
        "id": "Ioc7UGFLfxmM"
      },
      "source": [
        "We can do boolean tests on lists as well:"
      ]
    },
    {
      "cell_type": "code",
      "execution_count": 57,
      "metadata": {
        "colab": {
          "base_uri": "https://localhost:8080/"
        },
        "id": "dmu4LpoefxmM",
        "outputId": "1057ff5e-972e-476f-892a-1fed70d3ccc9"
      },
      "outputs": [
        {
          "output_type": "execute_result",
          "data": {
            "text/plain": [
              "False"
            ]
          },
          "metadata": {},
          "execution_count": 57
        }
      ],
      "source": [
        "[1,2,3] == [1,2,4]"
      ]
    },
    {
      "cell_type": "code",
      "execution_count": 58,
      "metadata": {
        "colab": {
          "base_uri": "https://localhost:8080/"
        },
        "id": "TsWcVrJMfxmM",
        "outputId": "68221422-cc8d-4915-e802-c910ab28922b"
      },
      "outputs": [
        {
          "output_type": "execute_result",
          "data": {
            "text/plain": [
              "True"
            ]
          },
          "metadata": {},
          "execution_count": 58
        }
      ],
      "source": [
        "[1,2,3] < [1,2,4]"
      ]
    },
    {
      "cell_type": "markdown",
      "metadata": {
        "id": "1njGDFSqfxmM"
      },
      "source": [
        "Finally, note that you can also string multiple comparisons together, which can result in very intuitive tests:"
      ]
    },
    {
      "cell_type": "code",
      "execution_count": 59,
      "metadata": {
        "colab": {
          "base_uri": "https://localhost:8080/"
        },
        "id": "kGE84DtufxmN",
        "outputId": "eefba295-61fe-4fcc-c4c9-232717d2b5f9"
      },
      "outputs": [
        {
          "output_type": "execute_result",
          "data": {
            "text/plain": [
              "True"
            ]
          },
          "metadata": {},
          "execution_count": 59
        }
      ],
      "source": [
        "hours = 5\n",
        "0 < hours < 24"
      ]
    },
    {
      "cell_type": "markdown",
      "metadata": {
        "id": "sr7hvRzpfxmN"
      },
      "source": [
        "If statements can have **elif** parts (\"else if\"), in addition to if/else parts. For example:"
      ]
    },
    {
      "cell_type": "code",
      "execution_count": 60,
      "metadata": {
        "colab": {
          "base_uri": "https://localhost:8080/"
        },
        "id": "eYYfNWl-fxmN",
        "outputId": "ca1eb153-6110-4bd1-c675-1e11f2d15458"
      },
      "outputs": [
        {
          "output_type": "stream",
          "name": "stdout",
          "text": [
            "Sleep in\n"
          ]
        }
      ],
      "source": [
        "if day == \"Sunday\":\n",
        "    print(\"Sleep in\")\n",
        "elif day == \"Saturday\":\n",
        "    print(\"Do chores\")\n",
        "else:\n",
        "    print(\"Go to work\")"
      ]
    },
    {
      "cell_type": "markdown",
      "metadata": {
        "id": "gtQ1oE0EfxmN"
      },
      "source": [
        "Of course we can combine if statements with for loops, to make a snippet that is almost interesting:"
      ]
    },
    {
      "cell_type": "code",
      "execution_count": 61,
      "metadata": {
        "colab": {
          "base_uri": "https://localhost:8080/"
        },
        "id": "P4seMq8vfxmN",
        "outputId": "1d1b197d-1c6a-4f20-fdeb-9d0ee1af5911"
      },
      "outputs": [
        {
          "output_type": "stream",
          "name": "stdout",
          "text": [
            "Today is Sunday\n",
            "   Sleep in\n",
            "Today is Monday\n",
            "   Go to work\n",
            "Today is Tuesday\n",
            "   Go to work\n",
            "Today is Wednesday\n",
            "   Go to work\n",
            "Today is Thursday\n",
            "   Go to work\n",
            "Today is Friday\n",
            "   Go to work\n",
            "Today is Saturday\n",
            "   Do chores\n"
          ]
        }
      ],
      "source": [
        "for day in days_of_the_week:\n",
        "    statement = \"Today is \" + day\n",
        "    print(statement)\n",
        "    if day == \"Sunday\":\n",
        "        print(\"   Sleep in\")\n",
        "    elif day == \"Saturday\":\n",
        "        print(\"   Do chores\")\n",
        "    else:\n",
        "        print(\"   Go to work\")"
      ]
    },
    {
      "cell_type": "markdown",
      "metadata": {
        "id": "U2jUC9SdfxmO"
      },
      "source": [
        "This is something of an advanced topic, but ordinary data types have boolean values associated with them, and, indeed, in early versions of Python there was not a separate boolean object. Essentially, anything that was a 0 value (the integer or floating point 0, an empty string \"\", or an empty list []) was False, and everything else was true. You can see the boolean value of any data object using the **bool()** function."
      ]
    },
    {
      "cell_type": "code",
      "execution_count": 62,
      "metadata": {
        "colab": {
          "base_uri": "https://localhost:8080/"
        },
        "id": "meT-8yf1fxmO",
        "outputId": "e2fbf78a-e333-44fe-cfe4-170634eebcbb"
      },
      "outputs": [
        {
          "output_type": "execute_result",
          "data": {
            "text/plain": [
              "True"
            ]
          },
          "metadata": {},
          "execution_count": 62
        }
      ],
      "source": [
        "bool(1)"
      ]
    },
    {
      "cell_type": "code",
      "execution_count": 63,
      "metadata": {
        "colab": {
          "base_uri": "https://localhost:8080/"
        },
        "id": "ckZKKGv5fxmO",
        "outputId": "d4a05bbf-8040-4f29-e4bd-fca21a0fc377"
      },
      "outputs": [
        {
          "output_type": "execute_result",
          "data": {
            "text/plain": [
              "False"
            ]
          },
          "metadata": {},
          "execution_count": 63
        }
      ],
      "source": [
        "bool(0)"
      ]
    },
    {
      "cell_type": "code",
      "execution_count": 64,
      "metadata": {
        "colab": {
          "base_uri": "https://localhost:8080/"
        },
        "id": "-D76D8dtfxmP",
        "outputId": "599693f3-a9e0-4a12-bf0c-dcffcbe1f68b"
      },
      "outputs": [
        {
          "output_type": "execute_result",
          "data": {
            "text/plain": [
              "True"
            ]
          },
          "metadata": {},
          "execution_count": 64
        }
      ],
      "source": [
        "bool([\"This \",\" is \",\" a \",\" list\"])"
      ]
    },
    {
      "cell_type": "markdown",
      "metadata": {
        "id": "JZ318M6rfxmP"
      },
      "source": [
        "## Code Example: The Fibonacci Sequence"
      ]
    },
    {
      "cell_type": "markdown",
      "metadata": {
        "id": "PTTvyjEdfxmP"
      },
      "source": [
        "The [Fibonacci](https://en.wikipedia.org/wiki/Fibonacci_number) sequence is a sequence in math that starts with 0 and 1, and then each successive entry is the sum of the previous two. Thus, the sequence goes 0,1,1,2,3,5,8,13,21,34,55,89,...\n",
        "\n",
        "A very common exercise in programming books is to compute the Fibonacci sequence up to some number **n**. First I'll show the code, then I'll discuss what it is doing."
      ]
    },
    {
      "cell_type": "code",
      "execution_count": 65,
      "metadata": {
        "colab": {
          "base_uri": "https://localhost:8080/"
        },
        "id": "QrZyPB9WfxmP",
        "outputId": "9a5b0afd-fe24-4f27-bd6c-dca2ec746d7b"
      },
      "outputs": [
        {
          "output_type": "stream",
          "name": "stdout",
          "text": [
            "[0, 1, 1, 2, 3, 5, 8, 13, 21, 34]\n"
          ]
        }
      ],
      "source": [
        "n = 10\n",
        "sequence = [0,1]\n",
        "for i in range(2,n): # This is going to be a problem if we ever set n <= 2!\n",
        "    sequence.append(sequence[i-1]+sequence[i-2])\n",
        "print(sequence)"
      ]
    },
    {
      "cell_type": "markdown",
      "metadata": {
        "id": "TQbrG7rQfxmP"
      },
      "source": [
        "Let's go through this line by line. First, we define the variable **n**, and set it to the integer 20. n is the length of the sequence we're going to form, and should probably have a better variable name. We then create a variable called **sequence**, and initialize it to the list with the integers 0 and 1 in it, the first two elements of the Fibonacci sequence. We have to create these elements \"by hand\", since the iterative part of the sequence requires two previous elements.\n",
        "\n",
        "We then have a for loop over the list of integers from 2 (the next element of the list) to n (the length of the sequence). After the colon, we see a hash tag \"#\", and then a **comment** that if we had set **n** to some number less than 2 we would have a problem. Comments in Python start with #, and are good ways to make notes to yourself or to a user of your code explaining why you did what you did. Better than the comment here would be to test to make sure the value of n is valid, and to complain if it isn't; we'll try this later.\n",
        "\n",
        "In the body of the loop, we append to the list an integer equal to the sum of the two previous elements of the list.\n",
        "\n",
        "After exiting the loop (ending the indentation) we then print out the whole list. That's it!"
      ]
    },
    {
      "cell_type": "markdown",
      "metadata": {
        "id": "3ibIkxjqfxmQ"
      },
      "source": [
        "## Functions"
      ]
    },
    {
      "cell_type": "markdown",
      "metadata": {
        "id": "LMq78wwQfxmQ"
      },
      "source": [
        "We might want to use the Fibonacci snippet with different sequence lengths. We could cut an paste the code into another cell, changing the value of n, but it's easier and more useful to make a function out of the code. We do this with the **def** statement in Python:"
      ]
    },
    {
      "cell_type": "code",
      "execution_count": 67,
      "metadata": {
        "id": "bhlC4DPcfxmQ"
      },
      "outputs": [],
      "source": [
        "def fibonacci(sequence_length):\n",
        "    \"Return the Fibonacci sequence of length *sequence_length*\"\n",
        "    sequence = [0,1]\n",
        "    if sequence_length < 1:\n",
        "        print(\"Fibonacci sequence only defined for length 1 or greater\")\n",
        "        return\n",
        "    if 0 < sequence_length < 3:\n",
        "        return sequence[:sequence_length]\n",
        "    for i in range(2,sequence_length):\n",
        "        sequence.append(sequence[i-1]+sequence[i-2])\n",
        "    return sequence"
      ]
    },
    {
      "cell_type": "markdown",
      "metadata": {
        "id": "nh2BKZlwfxmQ"
      },
      "source": [
        "We can now call fibonacci() for different sequence_lengths:"
      ]
    },
    {
      "cell_type": "code",
      "execution_count": 68,
      "metadata": {
        "colab": {
          "base_uri": "https://localhost:8080/"
        },
        "id": "W9_mYzSsfxmQ",
        "outputId": "d0bc71e3-402b-4d40-daaa-5885fb75a19e"
      },
      "outputs": [
        {
          "output_type": "execute_result",
          "data": {
            "text/plain": [
              "[0, 1]"
            ]
          },
          "metadata": {},
          "execution_count": 68
        }
      ],
      "source": [
        "fibonacci(2)"
      ]
    },
    {
      "cell_type": "code",
      "execution_count": 69,
      "metadata": {
        "colab": {
          "base_uri": "https://localhost:8080/"
        },
        "id": "F1VVlFHVfxmQ",
        "outputId": "9f46eaa8-fa52-4ea1-8dba-c65fd9f33e78"
      },
      "outputs": [
        {
          "output_type": "execute_result",
          "data": {
            "text/plain": [
              "[0, 1, 1, 2, 3, 5, 8, 13, 21, 34, 55, 89]"
            ]
          },
          "metadata": {},
          "execution_count": 69
        }
      ],
      "source": [
        "fibonacci(12)"
      ]
    },
    {
      "cell_type": "markdown",
      "metadata": {
        "id": "R2uXkZfQfxmR"
      },
      "source": [
        "We've introduced a several new features here. First, note that the function itself is defined as a code block (a colon followed by an indented block). This is the standard way that Python delimits things. Next, note that the first line of the function is a single string. This is called a **docstring**, and is a special kind of comment that is often available to people using the function through the python command line:"
      ]
    },
    {
      "cell_type": "code",
      "execution_count": 70,
      "metadata": {
        "colab": {
          "base_uri": "https://localhost:8080/"
        },
        "id": "6QqioAc4fxmR",
        "outputId": "87c7dea2-79e2-4e1a-a0f0-ff69628fcde5"
      },
      "outputs": [
        {
          "output_type": "stream",
          "name": "stdout",
          "text": [
            "Help on function fibonacci in module __main__:\n",
            "\n",
            "fibonacci(sequence_length)\n",
            "    Return the Fibonacci sequence of length *sequence_length*\n",
            "\n"
          ]
        }
      ],
      "source": [
        "help(fibonacci)"
      ]
    },
    {
      "cell_type": "markdown",
      "metadata": {
        "id": "Er6kjIF8fxmR"
      },
      "source": [
        "If you define a docstring for all of your functions, it makes it easier for other people to use them, since they can get help on the arguments and return values of the function.\n",
        "\n",
        "Next, note that rather than putting a comment in about what input values lead to errors, we have some testing of these values, followed by a warning if the value is invalid, and some conditional code to handle special cases."
      ]
    },
    {
      "cell_type": "markdown",
      "metadata": {
        "id": "UmECYUC2fxmR"
      },
      "source": [
        "## Recursion and Factorials"
      ]
    },
    {
      "cell_type": "markdown",
      "metadata": {
        "id": "0cyxm8nefxmR"
      },
      "source": [
        "Recursion and Factorials\n",
        "Functions can also call themselves, something that is often called *recursion*. We're going to experiment with recursion by computing the factorial function. The factorial is defined for a positive integer n as\n",
        "\n",
        "$$n!=n(n−1)(n−2)⋯1$$\n",
        "\n",
        "First, note that we don't need to write a function at all, since this is a function built into the standard math library. Let's use the help function to find out about it:"
      ]
    },
    {
      "cell_type": "code",
      "execution_count": 71,
      "metadata": {
        "colab": {
          "base_uri": "https://localhost:8080/"
        },
        "id": "zUJOgtXLfxmS",
        "outputId": "7d973c9d-fa86-47c9-aa3a-7502631481b0"
      },
      "outputs": [
        {
          "output_type": "stream",
          "name": "stdout",
          "text": [
            "Help on built-in function factorial in module math:\n",
            "\n",
            "factorial(x, /)\n",
            "    Find x!.\n",
            "    \n",
            "    Raise a ValueError if x is negative or non-integral.\n",
            "\n"
          ]
        }
      ],
      "source": [
        "from math import factorial\n",
        "help(factorial)"
      ]
    },
    {
      "cell_type": "markdown",
      "metadata": {
        "id": "7e3m9az0fxmS"
      },
      "source": [
        "This is clearly what we want."
      ]
    },
    {
      "cell_type": "code",
      "execution_count": 72,
      "metadata": {
        "colab": {
          "base_uri": "https://localhost:8080/"
        },
        "id": "Yv1-8XR0fxmS",
        "outputId": "13345a6e-e75a-4a65-df79-46cfdef6663a"
      },
      "outputs": [
        {
          "output_type": "execute_result",
          "data": {
            "text/plain": [
              "2432902008176640000"
            ]
          },
          "metadata": {},
          "execution_count": 72
        }
      ],
      "source": [
        "factorial(20)"
      ]
    },
    {
      "cell_type": "markdown",
      "metadata": {
        "id": "T--4ae8TfxmT"
      },
      "source": [
        "However, if we did want to write a function ourselves, we could do recursively by noting that\n",
        "\n",
        "$$ n!=n(n−1)! $$\n",
        "The program then looks something like:"
      ]
    },
    {
      "cell_type": "code",
      "execution_count": 73,
      "metadata": {
        "id": "zmPw1IZrfxmT"
      },
      "outputs": [],
      "source": [
        "def fact(n):\n",
        "    if n <= 0:\n",
        "        return 1\n",
        "    return n*fact(n-1)"
      ]
    },
    {
      "cell_type": "markdown",
      "metadata": {
        "id": "dePzaRqYfxmT"
      },
      "source": [
        "Recursion can be very elegant, and can lead to very simple programs."
      ]
    },
    {
      "cell_type": "markdown",
      "metadata": {
        "id": "Ps5q0owgfxmT"
      },
      "source": [
        "## Two More Data Structures: Tuples and Dictionaries"
      ]
    },
    {
      "cell_type": "markdown",
      "metadata": {
        "id": "EuzgNyGVfxmT"
      },
      "source": [
        "Before we end the Python overview, I wanted to touch on two more data structures that are very useful (and thus very common) in Python programs.\n",
        "\n",
        "A **tuple** is a sequence object like a list or a string. It's constructed by grouping a sequence of objects together with commas, either without brackets, or with parentheses:"
      ]
    },
    {
      "cell_type": "code",
      "execution_count": null,
      "metadata": {
        "id": "2MG1pMg0fxmT"
      },
      "outputs": [],
      "source": [
        "t = (1,2,'hi',9.0)\n",
        "t"
      ]
    },
    {
      "cell_type": "markdown",
      "metadata": {
        "id": "HXtlMKNhfxmT"
      },
      "source": [
        "Tuples are like lists, in that you can access the elements using indices:"
      ]
    },
    {
      "cell_type": "code",
      "execution_count": null,
      "metadata": {
        "id": "vI50eixofxmU"
      },
      "outputs": [],
      "source": [
        "t[1]"
      ]
    },
    {
      "cell_type": "markdown",
      "metadata": {
        "id": "EPRiIoY0fxmU"
      },
      "source": [
        "However, tuples are immutable, you can't append to them or change the elements of them:"
      ]
    },
    {
      "cell_type": "code",
      "execution_count": null,
      "metadata": {
        "id": "KSALa9IKfxmU"
      },
      "outputs": [],
      "source": [
        "t.append(7)"
      ]
    },
    {
      "cell_type": "code",
      "execution_count": null,
      "metadata": {
        "id": "U8dvQv3BfxmU"
      },
      "outputs": [],
      "source": [
        "t[1]=77"
      ]
    },
    {
      "cell_type": "markdown",
      "metadata": {
        "id": "6NvhlGrHfxmU"
      },
      "source": [
        "Tuples are useful anytime you want to group different pieces of data together in an object, but don't want to create a full-fledged class (see below) for them. For example, let's say you want the Cartesian coordinates of some objects in your program. Tuples are a good way to do this:"
      ]
    },
    {
      "cell_type": "code",
      "execution_count": null,
      "metadata": {
        "id": "Gxkx4kvsfxmU"
      },
      "outputs": [],
      "source": [
        "('Bob',0.0,21.0)"
      ]
    },
    {
      "cell_type": "markdown",
      "metadata": {
        "id": "hTX84SVRfxmU"
      },
      "source": [
        "Again, it's not a necessary distinction, but one way to distinguish tuples and lists is that tuples are a collection of different things, here a name, and x and y coordinates, whereas a list is a collection of similar things, like if we wanted a list of those coordinates:"
      ]
    },
    {
      "cell_type": "code",
      "execution_count": null,
      "metadata": {
        "id": "YquayBrXfxmU"
      },
      "outputs": [],
      "source": [
        "positions = [\n",
        "             ('Bob',0.0,21.0),\n",
        "             ('Cat',2.5,13.1),\n",
        "             ('Dog',33.0,1.2)\n",
        "             ]"
      ]
    },
    {
      "cell_type": "markdown",
      "metadata": {
        "id": "QhPMzhYQfxmV"
      },
      "source": [
        "Tuples can be used when functions return more than one value. Say we wanted to compute the smallest x- and y-coordinates of the above list of objects. We could write:"
      ]
    },
    {
      "cell_type": "code",
      "execution_count": null,
      "metadata": {
        "id": "lyn1URGAfxmV"
      },
      "outputs": [],
      "source": [
        "def minmax(objects):\n",
        "    minx = 1e20 # These are set to really big numbers\n",
        "    miny = 1e20\n",
        "    for obj in objects:\n",
        "        name,x,y = obj\n",
        "        if x < minx:\n",
        "            minx = x\n",
        "        if y < miny:\n",
        "            miny = y\n",
        "    return minx,miny\n",
        "\n",
        "x,y = minmax(positions)\n",
        "print(x,y)"
      ]
    },
    {
      "cell_type": "markdown",
      "metadata": {
        "id": "Vvyygs3rfxmV"
      },
      "source": [
        "Here we did two things with tuples you haven't seen before. First, we unpacked an object into a set of named variables using *tuple assignment*:\n",
        "\n",
        "`name,x,y = obj`\n",
        "\n",
        "We also returned multiple values (minx,miny), which were then assigned to two other variables (x,y), again by tuple assignment. This makes what would have been complicated code in C++ rather simple.\n",
        "\n",
        "Tuple assignment is also a convenient way to swap variables:"
      ]
    },
    {
      "cell_type": "code",
      "execution_count": null,
      "metadata": {
        "id": "GplIWnwUfxmV"
      },
      "outputs": [],
      "source": [
        "x,y = 1,2\n",
        "y,x = x,y\n",
        "x,y"
      ]
    },
    {
      "cell_type": "markdown",
      "metadata": {
        "id": "tMJ-h5FZfxmV"
      },
      "source": [
        "Dictionaries are an object called \"mappings\" or \"associative arrays\" in other languages. Whereas a list associates an integer index with a set of objects:"
      ]
    },
    {
      "cell_type": "code",
      "execution_count": null,
      "metadata": {
        "id": "FUPJNWmdfxmW"
      },
      "outputs": [],
      "source": [
        "mylist = [1,2,9,21]"
      ]
    },
    {
      "cell_type": "markdown",
      "metadata": {
        "id": "P3W0sU5XfxmW"
      },
      "source": [
        "The index in a dictionary is called the *key*, and the corresponding dictionary entry is the *value*. A dictionary can use (almost) anything as the key. Whereas lists are formed with square brackets [], dictionaries use curly brackets {}:"
      ]
    },
    {
      "cell_type": "code",
      "execution_count": null,
      "metadata": {
        "id": "dA4G1b8qfxmW"
      },
      "outputs": [],
      "source": [
        "ages = {\"Rick\": 46, \"Bob\": 86, \"Fred\": 21}\n",
        "print(\"Rick's age is \",ages[\"Rick\"])"
      ]
    },
    {
      "cell_type": "markdown",
      "metadata": {
        "id": "ah8JVSekfxmW"
      },
      "source": [
        "There's also a convenient way to create dictionaries without having to quote the keys."
      ]
    },
    {
      "cell_type": "code",
      "execution_count": null,
      "metadata": {
        "id": "T0w8fGAjfxmW"
      },
      "outputs": [],
      "source": [
        "dict(Rick=46,Bob=86,Fred=20)"
      ]
    },
    {
      "cell_type": "markdown",
      "metadata": {
        "id": "loHlrgLRfxmW"
      },
      "source": [
        "The len() command works on both tuples and dictionaries:\n",
        "\n"
      ]
    },
    {
      "cell_type": "code",
      "execution_count": null,
      "metadata": {
        "id": "fBGYcrsGfxmW"
      },
      "outputs": [],
      "source": [
        "len(t)"
      ]
    },
    {
      "cell_type": "code",
      "execution_count": null,
      "metadata": {
        "id": "JhyVJLE_fxmW"
      },
      "outputs": [],
      "source": [
        "len(ages)"
      ]
    },
    {
      "cell_type": "markdown",
      "metadata": {
        "id": "jG2qO7YzfxmW"
      },
      "source": [
        "## Plotting with Matplotlib"
      ]
    },
    {
      "cell_type": "markdown",
      "metadata": {
        "id": "lkmThTYVfxmX"
      },
      "source": [
        "We can generally understand trends in data by using a plotting program to chart it. Python has a wonderful plotting library called [Matplotlib](https://matplotlib.org/).\n",
        "\n",
        "As an example, we have looked at two different functions, the Fibonacci function, and the factorial function, both of which grow faster than polynomially. Which one grows the fastest? Let's plot them. First, let's generate the Fibonacci sequence of length 20:"
      ]
    },
    {
      "cell_type": "code",
      "execution_count": null,
      "metadata": {
        "id": "HAavK4B_fxmX"
      },
      "outputs": [],
      "source": [
        "fibs = fibonacci(10)"
      ]
    },
    {
      "cell_type": "markdown",
      "metadata": {
        "id": "WdeygGekfxmX"
      },
      "source": [
        "Next lets generate the factorials.\n",
        "\n"
      ]
    },
    {
      "cell_type": "code",
      "execution_count": null,
      "metadata": {
        "id": "pGT_uxWrfxmX"
      },
      "outputs": [],
      "source": [
        "facts = []\n",
        "for i in range(10):\n",
        "    facts.append(factorial(i))"
      ]
    },
    {
      "cell_type": "markdown",
      "metadata": {
        "id": "2wbAZqQjfxmX"
      },
      "source": [
        "Now we use the Matplotlib function **plot** to compare the two. We need to import the matplotlib.pyplot library first.\n",
        "\n"
      ]
    },
    {
      "cell_type": "code",
      "execution_count": null,
      "metadata": {
        "id": "Kr_uDmonfxmX"
      },
      "outputs": [],
      "source": [
        "from matplotlib.pyplot import *\n",
        "plot(facts,label= \"Fact\")\n",
        "plot(fibs,label=\"Fibs\")\n",
        "xlabel('x')\n",
        "ylabel('y')\n",
        "title('title')\n",
        "legend()"
      ]
    },
    {
      "cell_type": "markdown",
      "metadata": {
        "id": "_Tdbt8WKfxmY"
      },
      "source": [
        "The factorial function grows much faster. In fact, you can't even see the Fibonacci sequence. It's not entirely surprising: a function where we multiply by n each iteration is bound to grow faster than one where we add (roughly) n each iteration.\n",
        "\n",
        "Let's plot these on a semilog plot so we can see them both a little more clearly:"
      ]
    },
    {
      "cell_type": "code",
      "execution_count": null,
      "metadata": {
        "id": "vUwuQaZtfxmY"
      },
      "outputs": [],
      "source": [
        "semilogy(facts,label=\"factorial\")\n",
        "semilogy(fibs,label=\"Fibonacci\")\n",
        "xlabel(\"n\")\n",
        "legend()"
      ]
    },
    {
      "cell_type": "markdown",
      "metadata": {
        "id": "kMdl0-AMfxmY"
      },
      "source": [
        "There are many more things you can do with Matplotlib. We'll be looking at some of them in the sections to come. In the meantime, if you want an idea of the different things you can do, look at the Matplotlib [Gallery](https://matplotlib.org/stable/gallery/index.html)."
      ]
    },
    {
      "cell_type": "markdown",
      "metadata": {
        "id": "OPUCASujfxmY"
      },
      "source": [
        "## Conclusion of the Python Overview\n"
      ]
    },
    {
      "cell_type": "markdown",
      "metadata": {
        "id": "yU1eMekzfxmY"
      },
      "source": [
        "There is, of course, much more to the language than I've covered here. I've tried to keep this brief enough so that you can jump in and start using Python to simplify your life and work. My own experience in learning new things is that the information doesn't \"stick\" unless you try and use it for something in real life.\n",
        "\n",
        "You will no doubt need to learn more as you go. I've listed several other good references, including the [Python Tutorial](https://docs.python.org/3/tutorial/index.html) and [Learn Python the Hard Way](https://learnpythonthehardway.org/python3/). Additionally, now is a good time to start familiarizing yourself with the [Python Documentation](https://learnpythonthehardway.org/python3/), and, in particular, the [Python Language Reference](https://docs.python.org/3/reference/index.html).\n",
        "\n",
        "Tim Peters, one of the earliest and most prolific Python contributors, wrote the \"Zen of Python\", which can be accessed via the \"import this\" command:"
      ]
    },
    {
      "cell_type": "code",
      "execution_count": null,
      "metadata": {
        "id": "t1N6uGjVfxmY"
      },
      "outputs": [],
      "source": [
        "import this"
      ]
    },
    {
      "cell_type": "markdown",
      "metadata": {
        "id": "6Y2LUXpSfxmZ"
      },
      "source": [
        "# II. Numpy and Scipy"
      ]
    },
    {
      "cell_type": "markdown",
      "metadata": {
        "id": "6W2XtOT4fxmZ"
      },
      "source": [
        "[Numpy](https://numpy.org/) contains core routines for doing fast vector, matrix, and linear algebra-type operations in Python. [Scipy](https://scipy.org/) contains additional routines for optimization, special functions, and so on. Both contain modules written in C and Fortran so that they're as fast as possible. Together, they give Python roughly the same capability that the [Matlab](https://www.mathworks.com/products/matlab.html) program offers. (In fact, if you're an experienced Matlab user, there a [guide](https://numpy.org/doc/stable/user/numpy-for-matlab-users.html) to Numpy for Matlab users just for you.)"
      ]
    },
    {
      "cell_type": "markdown",
      "metadata": {
        "id": "9FZE407UfxmZ"
      },
      "source": [
        "## Numerical Computing in Python\n",
        "\n",
        "Let's begin with a simple example and attempt to explain what happens. Assume two variables, x and y, are given the following values."
      ]
    },
    {
      "cell_type": "code",
      "execution_count": null,
      "metadata": {
        "id": "e0SdFlHffxmZ"
      },
      "outputs": [],
      "source": [
        "x = 0.1+0.2"
      ]
    },
    {
      "cell_type": "code",
      "execution_count": null,
      "metadata": {
        "id": "MS9A3U9JfxmZ"
      },
      "outputs": [],
      "source": [
        "y = 0.3"
      ]
    },
    {
      "cell_type": "markdown",
      "metadata": {
        "id": "ZR8XOxrefxmZ"
      },
      "source": [
        "Should we expect that these variables have obtained the same value? One would think so. Let's find out."
      ]
    },
    {
      "cell_type": "code",
      "execution_count": null,
      "metadata": {
        "id": "HSoaa46NfxmZ"
      },
      "outputs": [],
      "source": [
        "x == y"
      ]
    },
    {
      "cell_type": "code",
      "execution_count": null,
      "metadata": {
        "id": "XXtxwH8Efxma"
      },
      "outputs": [],
      "source": [
        "import numpy as np\n",
        "np.allclose(x,y)"
      ]
    },
    {
      "cell_type": "markdown",
      "metadata": {
        "id": "w2j9k3C8fxma"
      },
      "source": [
        "The explanation has to do with how numbers are stored in a digital computer with bounded memory. In particular, how floating point arithmetics is exploited. We can hardly ever eliminate rounding errors when use floating-point and the best we can do is to minimise the error.\n",
        "\n",
        "The function allclose() is used to check whether two arrays (or even two numbers) are element-wise equal within a tolerance parameter."
      ]
    },
    {
      "cell_type": "markdown",
      "metadata": {
        "id": "2x2FDNeNfxma"
      },
      "source": [
        "Let's see another example. Consider again two numbers, where one is much larger than the other."
      ]
    },
    {
      "cell_type": "code",
      "execution_count": null,
      "metadata": {
        "id": "MfFmCwWofxma"
      },
      "outputs": [],
      "source": [
        "x = 3.141592653589793"
      ]
    },
    {
      "cell_type": "code",
      "execution_count": null,
      "metadata": {
        "id": "0hP_tgeUfxma"
      },
      "outputs": [],
      "source": [
        "y = 3.14e18"
      ]
    },
    {
      "cell_type": "code",
      "execution_count": null,
      "metadata": {
        "id": "Kt12H99Cfxma"
      },
      "outputs": [],
      "source": [
        "x = (x+y) - y"
      ]
    },
    {
      "cell_type": "code",
      "execution_count": null,
      "metadata": {
        "id": "rZP7ort-fxma"
      },
      "outputs": [],
      "source": [
        "x"
      ]
    },
    {
      "cell_type": "markdown",
      "metadata": {
        "id": "lqGZArFDfxmb"
      },
      "source": [
        "Depending on where the code is executed, you might see the initial value of x as a response, but you might also see 3.125, or 4, or 0.0. Again, this is due to the bounded precision. Care is needed when programming for scientific applications (in any language), and also in finance.\n",
        "\n",
        "One should be very careful when subtracting two numbers that are almost identical!"
      ]
    },
    {
      "cell_type": "markdown",
      "metadata": {
        "id": "HtNsx5-zfxmb"
      },
      "source": [
        "## Making vectors and matrices"
      ]
    },
    {
      "cell_type": "markdown",
      "metadata": {
        "id": "55hIA3KWfxmb"
      },
      "source": [
        "Fundamental to both Numpy and Scipy is the ability to work with vectors and matrices. You can create vectors from lists using the **array** command. We need to import the numpy package first:"
      ]
    },
    {
      "cell_type": "code",
      "execution_count": null,
      "metadata": {
        "id": "jTtn-sOrfxmc"
      },
      "outputs": [],
      "source": [
        "from numpy import *\n",
        "array([1,2,3,4,5,6])"
      ]
    },
    {
      "cell_type": "markdown",
      "metadata": {
        "id": "3gkxhHXVfxmc"
      },
      "source": [
        "You can pass in a second argument to **array** that gives the numeric type. There are a number of types listed [here](https://numpy.org/doc/stable/user/basics.types.html) that your matrix can be. Some of these are aliased to single character codes. The most common ones are 'd' (double precision floating point number), 'D' (double precision complex number), and 'i' (int32). Thus,"
      ]
    },
    {
      "cell_type": "code",
      "execution_count": null,
      "metadata": {
        "id": "lBBWwC4ofxmc"
      },
      "outputs": [],
      "source": [
        "array([1,2,3,4,5,6],'d')"
      ]
    },
    {
      "cell_type": "code",
      "execution_count": null,
      "metadata": {
        "id": "SHOK-r9gfxmc"
      },
      "outputs": [],
      "source": [
        "array([1,2,3,4,5,6],'D')"
      ]
    },
    {
      "cell_type": "code",
      "execution_count": null,
      "metadata": {
        "id": "7HcnBwkKfxmc"
      },
      "outputs": [],
      "source": [
        "array([1,2,3,4,5,6],'i')"
      ]
    },
    {
      "cell_type": "markdown",
      "metadata": {
        "id": "RsyrVWnKfxmd"
      },
      "source": [
        "To build matrices, you can either use the array command with lists of lists:"
      ]
    },
    {
      "cell_type": "markdown",
      "metadata": {
        "id": "JFduZy2Ifxmd"
      },
      "source": [
        "You can also form empty (zero) matrices of arbitrary shape (including vectors, which Numpy treats as vectors with one row), using the **zeros** command:\n",
        "\n"
      ]
    },
    {
      "cell_type": "code",
      "execution_count": null,
      "metadata": {
        "id": "IMOtU5ZKfxmd"
      },
      "outputs": [],
      "source": [
        "zeros((3,3),'d')"
      ]
    },
    {
      "cell_type": "markdown",
      "metadata": {
        "id": "FNgMRgf_fxme"
      },
      "source": [
        "The first argument is a tuple containing the shape of the matrix, and the second is the data type argument, which follows the same conventions as in the array command. Thus, you can make row vectors:"
      ]
    },
    {
      "cell_type": "code",
      "execution_count": null,
      "metadata": {
        "id": "nrA--mPUfxme"
      },
      "outputs": [],
      "source": [
        "zeros(3,'d')"
      ]
    },
    {
      "cell_type": "code",
      "execution_count": null,
      "metadata": {
        "id": "6Q5LsE5Ifxme"
      },
      "outputs": [],
      "source": [
        "zeros((1,3),'d')"
      ]
    },
    {
      "cell_type": "code",
      "execution_count": null,
      "metadata": {
        "id": "geyg2IcRfxme"
      },
      "outputs": [],
      "source": [
        "zeros((3,1),'d')"
      ]
    },
    {
      "cell_type": "markdown",
      "metadata": {
        "id": "XEIY3ynEfxme"
      },
      "source": [
        "There's also an **identity** command that behaves as you'd expect:\n",
        "\n"
      ]
    },
    {
      "cell_type": "code",
      "execution_count": null,
      "metadata": {
        "id": "OAS_33Dpfxme"
      },
      "outputs": [],
      "source": [
        "identity(4,'d')"
      ]
    },
    {
      "cell_type": "markdown",
      "metadata": {
        "id": "w9RCK521fxme"
      },
      "source": [
        "as well as a **ones** command.\n",
        "\n"
      ]
    },
    {
      "cell_type": "markdown",
      "metadata": {
        "id": "mI8DzTn6fxme"
      },
      "source": [
        "## Vectorization"
      ]
    },
    {
      "cell_type": "markdown",
      "metadata": {
        "id": "UgNf22mkfxmf"
      },
      "source": [
        "Not all functions designed for scalars work automatically when the input is an array.\n",
        "\n",
        "Functions that work with arrays are called _vectorized_.\n",
        "Most of the functions in numpy are already vectorized.\n",
        "One can create the vectorized version of any function by using _numpy.vectorize()_\n",
        "\n",
        "Consider the following function."
      ]
    },
    {
      "cell_type": "code",
      "execution_count": null,
      "metadata": {
        "id": "KY3frxErfxmf"
      },
      "outputs": [],
      "source": [
        "def ReLU_Function(x):\n",
        "    if x>=0:\n",
        "        return x\n",
        "    else:\n",
        "        return 0.0"
      ]
    },
    {
      "cell_type": "markdown",
      "metadata": {
        "id": "Aqdat04Lfxmf"
      },
      "source": [
        "Let's test it with a scalar"
      ]
    },
    {
      "cell_type": "code",
      "execution_count": null,
      "metadata": {
        "id": "w8f3g8R3fxmf"
      },
      "outputs": [],
      "source": [
        "ReLU_Function(0.1)"
      ]
    },
    {
      "cell_type": "markdown",
      "metadata": {
        "id": "E6lzMLzFfxmg"
      },
      "source": [
        "Okay, this worked as expected. Let's now try with an array."
      ]
    },
    {
      "cell_type": "code",
      "execution_count": null,
      "metadata": {
        "id": "NIIUmOP5fxmg"
      },
      "outputs": [],
      "source": [
        "ReLU_Function([-0.5, -0.4, -0.3, -0.2, -0.1, 0, 0.1, 0.2, 0.3, 0.4, 0.5])"
      ]
    },
    {
      "cell_type": "markdown",
      "metadata": {
        "id": "j4DyEaMNfxmg"
      },
      "source": [
        "That didn't go as well. Perhaps we should vectorize the function?"
      ]
    },
    {
      "cell_type": "code",
      "execution_count": null,
      "metadata": {
        "id": "w4q1SgA2fxmg"
      },
      "outputs": [],
      "source": [
        "vectorizedReLU = np.vectorize(ReLU_Function)"
      ]
    },
    {
      "cell_type": "code",
      "execution_count": null,
      "metadata": {
        "id": "Y0ukjEewfxmg"
      },
      "outputs": [],
      "source": [
        "vectorizedReLU([-0.5, -0.4, -0.3, -0.2, -0.1, 0, 0.1, 0.2, 0.3, 0.4, 0.5])"
      ]
    },
    {
      "cell_type": "markdown",
      "metadata": {
        "id": "uFDE_vrNfxmh"
      },
      "source": [
        "Success!"
      ]
    },
    {
      "cell_type": "markdown",
      "metadata": {
        "id": "6IlaOdHtfxmh"
      },
      "source": [
        "## Linspace, matrix functions, and plotting\n"
      ]
    },
    {
      "cell_type": "markdown",
      "metadata": {
        "id": "UVKF0VRtfxmh"
      },
      "source": [
        "The linspace command makes a linear array of points from a starting to an ending value."
      ]
    },
    {
      "cell_type": "code",
      "execution_count": null,
      "metadata": {
        "id": "1JRhr99mfxmh"
      },
      "outputs": [],
      "source": [
        "linspace(0,1)"
      ]
    },
    {
      "cell_type": "markdown",
      "metadata": {
        "id": "_XjzVuR0fxmh"
      },
      "source": [
        "If you provide a third argument, it takes that as the number of points in the space. If you don't provide the argument, it gives a length 50 linear space.\n",
        "\n"
      ]
    },
    {
      "cell_type": "code",
      "execution_count": null,
      "metadata": {
        "id": "l4V8cTdMfxmh"
      },
      "outputs": [],
      "source": [
        "linspace(0,1,11)"
      ]
    },
    {
      "cell_type": "markdown",
      "metadata": {
        "id": "UFjBt96ifxmh"
      },
      "source": [
        "**linspace** is an easy way to make coordinates for plotting. Functions in the numpy library (all of which are imported into IPython notebook) can act on an entire vector (or even a matrix) of points at once. Thus,"
      ]
    },
    {
      "cell_type": "code",
      "execution_count": null,
      "metadata": {
        "id": "Ejlh-Rdnfxmh"
      },
      "outputs": [],
      "source": [
        "x = linspace(0,2*pi)\n",
        "sin(x)"
      ]
    },
    {
      "cell_type": "markdown",
      "metadata": {
        "id": "U2MJ_J9Yfxmh"
      },
      "source": [
        "In conjunction with **matplotlib**, this is a nice way to plot things:"
      ]
    },
    {
      "cell_type": "code",
      "execution_count": null,
      "metadata": {
        "id": "DyH6v74ifxmh"
      },
      "outputs": [],
      "source": [
        "plot(x,sin(x))"
      ]
    },
    {
      "cell_type": "markdown",
      "metadata": {
        "id": "ZOhVQFkVfxmi"
      },
      "source": [
        "## Matrix operations¶\n"
      ]
    },
    {
      "cell_type": "markdown",
      "metadata": {
        "id": "EPq7AyOJfxmi"
      },
      "source": [
        "Matrix objects act sensibly when multiplied by scalars:\n",
        "\n"
      ]
    },
    {
      "cell_type": "code",
      "execution_count": null,
      "metadata": {
        "id": "jx2Wv1I5fxmi"
      },
      "outputs": [],
      "source": [
        "0.125*identity(3,'d')"
      ]
    },
    {
      "cell_type": "markdown",
      "metadata": {
        "id": "tyUwdqj-fxmi"
      },
      "source": [
        "as well as when you add two matrices together. (However, the matrices have to be the same shape.)\n",
        "\n"
      ]
    },
    {
      "cell_type": "code",
      "execution_count": null,
      "metadata": {
        "id": "J258u-a9fxmj"
      },
      "outputs": [],
      "source": [
        "identity(2,'d') + array([[1,1],[1,2]])"
      ]
    },
    {
      "cell_type": "markdown",
      "metadata": {
        "id": "PDGq8f79fxmj"
      },
      "source": [
        "Something that confuses Matlab users is that the times (*) operator give element-wise multiplication rather than matrix multiplication:\n",
        "\n"
      ]
    },
    {
      "cell_type": "code",
      "execution_count": null,
      "metadata": {
        "id": "i3BwIJ9_fxmj"
      },
      "outputs": [],
      "source": [
        "identity(2)*ones((2,2))"
      ]
    },
    {
      "cell_type": "markdown",
      "metadata": {
        "id": "Fl0XDpTOfxmj"
      },
      "source": [
        "To get matrix multiplication, you need the **dot** command:\n",
        "\n"
      ]
    },
    {
      "cell_type": "code",
      "execution_count": null,
      "metadata": {
        "id": "xwELJbuifxmj"
      },
      "outputs": [],
      "source": [
        "dot(identity(2),ones((2,2)))"
      ]
    },
    {
      "cell_type": "markdown",
      "metadata": {
        "id": "9pZY9S2Kfxmj"
      },
      "source": [
        "**dot** can also do dot products (duh!):"
      ]
    },
    {
      "cell_type": "code",
      "execution_count": null,
      "metadata": {
        "id": "gDnMWqLlfxmj"
      },
      "outputs": [],
      "source": [
        "v = array([3,4],'d')\n",
        "sqrt(dot(v,v))"
      ]
    },
    {
      "cell_type": "markdown",
      "metadata": {
        "id": "SnBGuNi4fxmj"
      },
      "source": [
        "as well as matrix-vector products."
      ]
    },
    {
      "cell_type": "markdown",
      "metadata": {
        "id": "vAUyUXuGfxmj"
      },
      "source": [
        "There are **determinant**, **inverse**, and **transpose** functions that act as you would suppose. Transpose can be abbreviated with \".T\" at the end of a matrix object:\n",
        "\n"
      ]
    },
    {
      "cell_type": "code",
      "execution_count": null,
      "metadata": {
        "id": "rsKy9Wgxfxmk"
      },
      "outputs": [],
      "source": [
        "m = array([[1,2],[3,4]])\n",
        "m.T"
      ]
    },
    {
      "cell_type": "markdown",
      "metadata": {
        "id": "Eyi7Ev-wfxmk"
      },
      "source": [
        "There's also a **diag()** function that takes a list or a vector and puts it along the diagonal of a square matrix."
      ]
    },
    {
      "cell_type": "code",
      "execution_count": null,
      "metadata": {
        "id": "FAXnG_fwfxmk"
      },
      "outputs": [],
      "source": [
        "diag([1,2,3,4,5])"
      ]
    },
    {
      "cell_type": "markdown",
      "metadata": {
        "id": "uTcSQPZHfxmk"
      },
      "source": [
        "We'll find this useful later on."
      ]
    },
    {
      "cell_type": "markdown",
      "metadata": {
        "id": "UJI7K7Xqfxmk"
      },
      "source": [
        "## Matrix Solvers¶\n"
      ]
    },
    {
      "cell_type": "markdown",
      "metadata": {
        "id": "9n7nEaLwfxmk"
      },
      "source": [
        "You can solve systems of linear equations using the **solve** command, in the numpy.linalg package:\n",
        "\n"
      ]
    },
    {
      "cell_type": "code",
      "execution_count": null,
      "metadata": {
        "id": "f0K0kC__fxmk"
      },
      "outputs": [],
      "source": [
        "from numpy.linalg import *\n",
        "A = array([[1,1,1],[0,2,5],[2,5,-1]])\n",
        "b = array([6,-4,27])\n",
        "solve(A,b)"
      ]
    },
    {
      "cell_type": "markdown",
      "metadata": {
        "id": "Txc99EkRfxml"
      },
      "source": [
        "There are a number of routines to compute eigenvalues and eigenvectors\n",
        "<ul>\n",
        "    <li> <b>eigvals</b> returns the eigenvalues of a matrix\n",
        "    <li> <b>eigvalsh</b> returns the eigenvalues of a Hermitian matrix\n",
        "    <li> <b>eig</b> returns the eigenvalues and eigenvectors of a matrix\n",
        "    <li> <b>eigh</b> returns the eigenvalues and eigenvectors of a Hermitian matrix.\n",
        " </ul>"
      ]
    },
    {
      "cell_type": "code",
      "execution_count": null,
      "metadata": {
        "id": "kABWSt84fxml"
      },
      "outputs": [],
      "source": [
        "A = array([[13,-4],[-4,7]],'d')\n",
        "eigvalsh(A)"
      ]
    },
    {
      "cell_type": "code",
      "execution_count": null,
      "metadata": {
        "id": "GKcGE6uufxmm"
      },
      "outputs": [],
      "source": [
        "eigh(A)"
      ]
    },
    {
      "cell_type": "markdown",
      "metadata": {
        "id": "RcMWDXRgfxmm"
      },
      "source": [
        "## Least squares fitting\n"
      ]
    },
    {
      "cell_type": "markdown",
      "metadata": {
        "id": "VVSZ55A0fxmn"
      },
      "source": [
        "Very often we deal with some data that we want to fit to some sort of expected behavior. Say we have the following:\n",
        "\n"
      ]
    },
    {
      "cell_type": "code",
      "execution_count": null,
      "metadata": {
        "id": "-y_CSEowfxmn"
      },
      "outputs": [],
      "source": [
        "raw_data = \"\"\"\\\n",
        "3.1905781584582433,0.028208609537968457\n",
        "4.346895074946466,0.007160804747670053\n",
        "5.374732334047101,0.0046962988461934805\n",
        "8.201284796573875,0.0004614473299618756\n",
        "10.899357601713055,0.00005038370219939726\n",
        "16.295503211991434,4.377451812785309e-7\n",
        "21.82012847965739,3.0799922117601088e-9\n",
        "32.48394004282656,1.524776208284536e-13\n",
        "43.53319057815846,5.5012073588707224e-18\"\"\""
      ]
    },
    {
      "cell_type": "markdown",
      "metadata": {
        "id": "sKW-fC0_fxmn"
      },
      "source": [
        "There's a section below on parsing CSV data. We'll steal the parser from that. For an explanation, skip ahead to that section. Otherwise, just assume that this is a way to parse that text into a numpy array that we can plot and do other analyses with."
      ]
    },
    {
      "cell_type": "code",
      "execution_count": null,
      "metadata": {
        "id": "nskvtFFnfxmn"
      },
      "outputs": [],
      "source": [
        "data = []\n",
        "for line in raw_data.splitlines():\n",
        "    words = line.split(',')\n",
        "    data.append(list(map(float,words)))\n",
        "data = array(data)"
      ]
    },
    {
      "cell_type": "code",
      "execution_count": null,
      "metadata": {
        "id": "qk8hStoXfxmo"
      },
      "outputs": [],
      "source": [
        "title(\"Raw Data\")\n",
        "xlabel(\"Distance\")\n",
        "plot(data[:,0],data[:,1],'bo')"
      ]
    },
    {
      "cell_type": "markdown",
      "metadata": {
        "id": "iqZk6MoUfxmo"
      },
      "source": [
        "Since we expect the data to have an exponential decay, we can plot it using a semi-log plot.\n",
        "\n"
      ]
    },
    {
      "cell_type": "code",
      "execution_count": null,
      "metadata": {
        "id": "Zt8FqFnzfxmo"
      },
      "outputs": [],
      "source": [
        "title(\"Raw Data\")\n",
        "xlabel(\"Distance\")\n",
        "semilogy(data[:,0],data[:,1],'bo')"
      ]
    },
    {
      "cell_type": "markdown",
      "metadata": {
        "id": "5MmAS91cfxmo"
      },
      "source": [
        "For a pure exponential decay like this, we can fit the log of the data to a straight line. The above plot suggests this is a good approximation. Given a function\n",
        "$$y=Ae^{−ax}$$\n",
        "$$\\log(y)=\\log(A)−ax$$\n",
        "Thus, if we fit the log of the data versus $x$, we should get a straight line with slope $a$, and an intercept that gives the constant $A$.\n",
        "There's a numpy function called **polyfit** that will fit data to a polynomial form. We'll use this to fit to a straight line (a polynomial of order $1$)."
      ]
    },
    {
      "cell_type": "code",
      "execution_count": null,
      "metadata": {
        "id": "8PbvEsVkfxmo"
      },
      "outputs": [],
      "source": [
        "params = polyfit(data[:,0],log(data[:,1]),1)\n",
        "a = params[0]\n",
        "A = exp(params[1])"
      ]
    },
    {
      "cell_type": "markdown",
      "metadata": {
        "id": "U6jrGhpkfxmo"
      },
      "source": [
        "Let's see whether this curve fits the data.\n"
      ]
    },
    {
      "cell_type": "code",
      "execution_count": null,
      "metadata": {
        "id": "TEa71LBZfxmp"
      },
      "outputs": [],
      "source": [
        "x = linspace(1,45)\n",
        "title(\"Raw Data\")\n",
        "xlabel(\"Distance\")\n",
        "semilogy(data[:,0],data[:,1],'bo')\n",
        "semilogy(x,A*exp(a*x),'b-')"
      ]
    },
    {
      "cell_type": "markdown",
      "metadata": {
        "id": "RR-uxc0Tfxmp"
      },
      "source": [
        "If we have more complicated functions, we may not be able to get away with fitting to a simple polynomial. Consider the following data:\n",
        "\n"
      ]
    },
    {
      "cell_type": "code",
      "execution_count": null,
      "metadata": {
        "id": "-9FTlxyqfxmp"
      },
      "outputs": [],
      "source": [
        "gauss_data = \"\"\"\\\n",
        "-0.9902286902286903,1.4065274110372852e-19\n",
        "-0.7566104566104566,2.2504438576596563e-18\n",
        "-0.5117810117810118,1.9459459459459454\n",
        "-0.31887271887271884,10.621621621621626\n",
        "-0.250997150997151,15.891891891891893\n",
        "-0.1463309463309464,23.756756756756754\n",
        "-0.07267267267267263,28.135135135135133\n",
        "-0.04426734426734419,29.02702702702703\n",
        "-0.0015939015939017698,29.675675675675677\n",
        "0.04689304689304685,29.10810810810811\n",
        "0.0840994840994842,27.324324324324326\n",
        "0.1700546700546699,22.216216216216214\n",
        "0.370878570878571,7.540540540540545\n",
        "0.5338338338338338,1.621621621621618\n",
        "0.722014322014322,0.08108108108108068\n",
        "0.9926849926849926,-0.08108108108108646\"\"\"\n",
        "\n",
        "data = []\n",
        "for line in gauss_data.splitlines():\n",
        "    words = line.split(',')\n",
        "    data.append(list(map(float,words)))\n",
        "data = array(data)\n",
        "\n",
        "plot(data[:,0],data[:,1],'bo')"
      ]
    },
    {
      "cell_type": "markdown",
      "metadata": {
        "id": "QlJqnWzdfxmp"
      },
      "source": [
        "This data looks more Gaussian than exponential. If we wanted to, we could use **polyfit** for this as well, but let's use the **curve_fit** function from Scipy, which can fit to arbitrary functions. You can learn more using help(curve_fit).\n",
        "\n",
        "First define a general Gaussian function to fit to."
      ]
    },
    {
      "cell_type": "code",
      "execution_count": null,
      "metadata": {
        "id": "fFkZS7R8fxmp"
      },
      "outputs": [],
      "source": [
        "def gauss(x,A,a): return A*exp(a*x**2)"
      ]
    },
    {
      "cell_type": "markdown",
      "metadata": {
        "id": "Ytyt3Dt8fxmp"
      },
      "source": [
        "Now fit to it using **curve_fit**:"
      ]
    },
    {
      "cell_type": "code",
      "execution_count": null,
      "metadata": {
        "id": "HkQ139xtfxmp"
      },
      "outputs": [],
      "source": [
        "from scipy.optimize import curve_fit\n",
        "\n",
        "params,conv = curve_fit(gauss,data[:,0],data[:,1])\n",
        "x = linspace(-1,1)\n",
        "plot(data[:,0],data[:,1],'bo')\n",
        "A,a = params\n",
        "plot(x,gauss(x,A,a),'b-')"
      ]
    },
    {
      "cell_type": "markdown",
      "metadata": {
        "id": "8XaxFafefxmp"
      },
      "source": [
        "The **curve_fit** routine we just used is built on top of a very good general **minimization** capability in Scipy. You can learn more at the [scipy documentation pages](https://docs.scipy.org/doc/scipy/reference/generated/scipy.optimize.minimize.html).\n",
        "\n"
      ]
    },
    {
      "cell_type": "markdown",
      "metadata": {
        "id": "eoLGsIzZfxmq"
      },
      "source": [
        "## Monte Carlo, random numbers, and computing $\\pi$"
      ]
    },
    {
      "cell_type": "markdown",
      "metadata": {
        "id": "kSUPmLYqfxmq"
      },
      "source": [
        "Many methods in scientific computing rely on Monte Carlo integration, where a sequence of (pseudo) random numbers are used to approximate the integral of a function. Python has good random number generators in the standard library. The **random()** function gives pseudorandom numbers uniformly distributed between 0 and 1:"
      ]
    },
    {
      "cell_type": "code",
      "execution_count": null,
      "metadata": {
        "id": "nQwUVvosfxmq"
      },
      "outputs": [],
      "source": [
        "from random import random\n",
        "rands = []\n",
        "for i in range(100):\n",
        "    rands.append(random())\n",
        "plot(rands)"
      ]
    },
    {
      "cell_type": "markdown",
      "metadata": {
        "id": "8YMqmkjrfxmq"
      },
      "source": [
        "random() uses the [Mersenne Twister](http://www.math.sci.hiroshima-u.ac.jp/m-mat/MT/emt.html) algorithm, which is a highly regarded pseudorandom number generator. There are also functions to generate random integers, to randomly shuffle a list, and functions to pick random numbers from a particular distribution, like the normal distribution:"
      ]
    },
    {
      "cell_type": "code",
      "execution_count": null,
      "metadata": {
        "id": "ChdOHCaxfxmq"
      },
      "outputs": [],
      "source": [
        "from random import gauss\n",
        "grands = []\n",
        "for i in range(100):\n",
        "    grands.append(gauss(0,1))\n",
        "plot(grands)"
      ]
    },
    {
      "cell_type": "markdown",
      "metadata": {
        "id": "PUwegllKfxmq"
      },
      "source": [
        "It is generally more efficient to generate a list of random numbers all at once, particularly if you're drawing from a non-uniform distribution. Numpy has functions to generate vectors and matrices of particular types of random distributions."
      ]
    },
    {
      "cell_type": "code",
      "execution_count": null,
      "metadata": {
        "id": "Ap4O4XkZfxmq"
      },
      "outputs": [],
      "source": [
        "from numpy.random import *\n",
        "plot(rand(100))"
      ]
    },
    {
      "cell_type": "markdown",
      "metadata": {
        "id": "gvyK7H3pfxmq"
      },
      "source": [
        "One of the first programs I ever wrote was a program to compute $π$ by taking random numbers as $x$ and $y$ coordinates, and counting how many of them were in the unit circle. For example:"
      ]
    },
    {
      "cell_type": "code",
      "execution_count": null,
      "metadata": {
        "id": "pajTY_9tfxmq"
      },
      "outputs": [],
      "source": [
        "npts = 5000\n",
        "xs = 2*rand(npts)-1\n",
        "ys = 2*rand(npts)-1\n",
        "r = xs**2+ys**2\n",
        "ninside = (r<1).sum()\n",
        "figure(figsize=(6,6)) # make the figure square\n",
        "title(\"Approximation to pi = %f\" % (4*ninside/float(npts)))\n",
        "plot(xs[r<1],ys[r<1],'b.')\n",
        "plot(xs[r>1],ys[r>1],'r.')\n",
        "figure(figsize=(8,6)) # change the figsize back to 4x3 for the rest of the notebook"
      ]
    },
    {
      "cell_type": "markdown",
      "metadata": {
        "id": "Qv61UGQWfxmq"
      },
      "source": [
        "The idea behind the program is that the ratio of the area of the unit circle to the square that inscribes it is $\\pi/4$, so by counting the fraction of the random points in the square that are inside the circle, we get increasingly good estimates to $\\pi$.\n",
        "\n",
        "The above code uses some higher level Numpy tricks to compute the radius of each point in a single line, to count how many radii are below one in a single line, and to filter the $x$,$y$ points based on their radii. To be honest, I rarely write code like this: I find some of these Numpy tricks a little too cute to remember them, and I'm more likely to use a list comprehension (see below) to filter the points I want, since I can remember that.\n",
        "\n",
        "As methods of computing π go, this is among the worst. A much better method is to use Leibniz's expansion of arctan(1):\n",
        "\n",
        "$$\\frac{\\pi}{4}=\\sum_k{\\frac{(-1)^k}{2k+1}}$$"
      ]
    },
    {
      "cell_type": "code",
      "execution_count": null,
      "metadata": {
        "id": "6SXQY3MIfxmr"
      },
      "outputs": [],
      "source": [
        "n = 100\n",
        "total = 0\n",
        "for k in range(n):\n",
        "    total += pow(-1,k)/(2*k+1.0)\n",
        "print(4*total)"
      ]
    },
    {
      "cell_type": "markdown",
      "metadata": {
        "id": "fAi1v-nFfxmr"
      },
      "source": [
        "If you're interested a great method, check out [Ramanujan's method](https://en.wikipedia.org/wiki/Approximations_of_%CF%80). This converges so fast you really need arbitrary precision math to display enough decimal places. You can do this with the Python **decimal** module, if you're interested."
      ]
    },
    {
      "cell_type": "markdown",
      "metadata": {
        "id": "6-PkhSfBfxmr"
      },
      "source": [
        "## Numerical Integration¶\n"
      ]
    },
    {
      "cell_type": "markdown",
      "metadata": {
        "id": "2Y_hCxEhfxmr"
      },
      "source": [
        "Integration can be hard, and sometimes it's easier to work out a definite integral using an approximation. For example, suppose we wanted to figure out the integral:\n",
        "\n",
        "$$\\int_0^\\infty{exp(-x)\\, dx} = 1$$"
      ]
    },
    {
      "cell_type": "code",
      "execution_count": null,
      "metadata": {
        "id": "CzJ6kIx5fxmr"
      },
      "outputs": [],
      "source": [
        "from numpy import sqrt\n",
        "def f(x): return exp(-x)\n",
        "x = linspace(0,10)\n",
        "plot(x,exp(-x))"
      ]
    },
    {
      "cell_type": "markdown",
      "metadata": {
        "id": "opvqy1AWfxmr"
      },
      "source": [
        "Scipy has a numerical integration routine **quad** (since sometimes numerical integration is called *quadrature*), that we can use for this:\n",
        "\n"
      ]
    },
    {
      "cell_type": "code",
      "execution_count": null,
      "metadata": {
        "id": "_B7iXVKufxmr"
      },
      "outputs": [],
      "source": [
        "from scipy.integrate import quad\n",
        "quad(f,0,inf)"
      ]
    },
    {
      "cell_type": "markdown",
      "metadata": {
        "id": "Mv9LawDbfxmr"
      },
      "source": [
        "There are also 2d and 3d numerical integrators in Scipy. See the [docs](https://docs.scipy.org/doc/scipy/reference/integrate.html) for more information."
      ]
    },
    {
      "cell_type": "markdown",
      "metadata": {
        "id": "M-1HoZhtfxmr"
      },
      "source": [
        "## Fast Fourier Transform and Signal Processing¶\n"
      ]
    },
    {
      "cell_type": "markdown",
      "metadata": {
        "id": "uLMNG2OXfxms"
      },
      "source": [
        "Very often we want to use FFT techniques to help obtain the signal from noisy data. Scipy has several different options for this.\n",
        "\n"
      ]
    },
    {
      "cell_type": "code",
      "execution_count": null,
      "metadata": {
        "id": "WJtDkqaXfxms"
      },
      "outputs": [],
      "source": [
        "from scipy.fftpack import fft,fftfreq\n",
        "\n",
        "npts = 4000\n",
        "nplot = 400\n",
        "t = linspace(0,120,npts)\n",
        "def acc(t): return 10*sin(2*pi*2.0*t) + 5*sin(2*pi*8.0*t) + 2*rand(npts)\n",
        "\n",
        "signal = acc(t)\n",
        "\n",
        "FFT = abs(fft(signal))\n",
        "freqs = fftfreq(npts, t[1]-t[0])\n",
        "\n",
        "subplot(211)\n",
        "plot(t[:nplot], signal[:nplot])\n",
        "subplot(212)\n",
        "plot(freqs,20*log10(FFT),',')\n",
        "show()"
      ]
    },
    {
      "cell_type": "markdown",
      "metadata": {
        "id": "zYPISmCVfxms"
      },
      "source": [
        "There are additional signal processing routines in Scipy that you can read about [here](https://docs.scipy.org/doc/scipy/reference/tutorial/signal.html).\n",
        "\n"
      ]
    },
    {
      "cell_type": "markdown",
      "metadata": {
        "id": "B6quHnR_fxms"
      },
      "source": [
        "# III. Intermediate Python\n"
      ]
    },
    {
      "cell_type": "markdown",
      "metadata": {
        "id": "BBfNCsS3fxms"
      },
      "source": [
        "## Output Parsing"
      ]
    },
    {
      "cell_type": "markdown",
      "metadata": {
        "id": "d-3eyLjSfxms"
      },
      "source": [
        "As more and more of our day-to-day work is being done on and through computers, we increasingly have output that one program writes, often in a text file, that we need to analyze in one way or another, and potentially feed that output into another file.\n",
        "\n",
        "Suppose we have the following output:"
      ]
    },
    {
      "cell_type": "code",
      "execution_count": null,
      "metadata": {
        "id": "IG4Ga7rKfxms"
      },
      "outputs": [],
      "source": [
        "myoutput = \"\"\"\\\n",
        "@ Step       Energy      Delta E   Gmax     Grms     Xrms     Xmax   Walltime\n",
        "@ ---- ---------------- -------- -------- -------- -------- -------- --------\n",
        "@    0   -6095.12544083  0.0D+00  0.03686  0.00936  0.00000  0.00000   1391.5\n",
        "@    1   -6095.25762870 -1.3D-01  0.00732  0.00168  0.32456  0.84140  10468.0\n",
        "@    2   -6095.26325979 -5.6D-03  0.00233  0.00056  0.06294  0.14009  11963.5\n",
        "@    3   -6095.26428124 -1.0D-03  0.00109  0.00024  0.03245  0.10269  13331.9\n",
        "@    4   -6095.26463203 -3.5D-04  0.00057  0.00013  0.02737  0.09112  14710.8\n",
        "@    5   -6095.26477615 -1.4D-04  0.00043  0.00009  0.02259  0.08615  20211.1\n",
        "@    6   -6095.26482624 -5.0D-05  0.00015  0.00002  0.00831  0.03147  21726.1\n",
        "@    7   -6095.26483584 -9.6D-06  0.00021  0.00004  0.01473  0.05265  24890.5\n",
        "@    8   -6095.26484405 -8.2D-06  0.00005  0.00001  0.00555  0.01929  26448.7\n",
        "@    9   -6095.26484599 -1.9D-06  0.00003  0.00001  0.00164  0.00564  27258.1\n",
        "@   10   -6095.26484676 -7.7D-07  0.00003  0.00001  0.00161  0.00553  28155.3\n",
        "@   11   -6095.26484693 -1.8D-07  0.00002  0.00000  0.00054  0.00151  28981.7\n",
        "@   11   -6095.26484693 -1.8D-07  0.00002  0.00000  0.00054  0.00151  28981.7\"\"\""
      ]
    },
    {
      "cell_type": "markdown",
      "metadata": {
        "id": "x6lXtLqDfxmt"
      },
      "source": [
        "This output actually came from a geometry optimization of a Silicon cluster using the [NWChem](https://www.nwchem-sw.org/) quantum chemistry suite. At every step the program computes the energy of the molecular geometry, and then changes the geometry to minimize the computed forces, until the energy converges. I obtained this output via the unix command\n",
        "\n",
        "`% grep @ nwchem.out`\n",
        "\n",
        "since NWChem is nice enough to precede the lines that you need to monitor job progress with the '@' symbol.\n",
        "\n",
        "We could do the entire analysis in Python; I'll show how to do this later on, but first let's focus on turning this code into a usable Python object that we can plot.\n",
        "\n",
        "First, note that the data is entered into a multi-line string. When Python sees three quote marks \"\"\" or ''' it treats everything following as part of a single string, including newlines, tabs, and anything else, until it sees the same three quote marks (\"\"\" has to be followed by another \"\"\", and ''' has to be followed by another ''') again. This is a convenient way to quickly dump data into Python, and it also reinforces the important idea that you don't have to open a file and deal with it one line at a time. You can read everything in, and deal with it as one big chunk.\n",
        "\n",
        "The first thing we'll do, though, is to split the big string into a list of strings, since each line corresponds to a separate piece of data. We will use the **splitlines()** function on the big myout string to break it into a new element every time it sees a newline (\\n) character:"
      ]
    },
    {
      "cell_type": "code",
      "execution_count": null,
      "metadata": {
        "id": "nxoet8Zcfxmt"
      },
      "outputs": [],
      "source": [
        "lines = myoutput.splitlines()\n",
        "lines"
      ]
    },
    {
      "cell_type": "markdown",
      "metadata": {
        "id": "Y7ZhGspafxmt"
      },
      "source": [
        "Splitting is a big concept in text processing. We used **splitlines()** here, and we will use the more general **split()** function below to split each line into whitespace-delimited words.\n",
        "\n",
        "We now want to do three things:\n",
        "<ul>\n",
        "<li> Skip over the lines that don't carry any information\n",
        "<li> Break apart each line that does carry information and grab the pieces we want\n",
        "<li> Turn the resulting data into something that we can plot.\n",
        "</ul>\n",
        "For this data, we really only want the Energy column, the Gmax column (which contains the maximum gradient at each step), and perhaps the Walltime column.\n",
        "\n",
        "Since the data is now in a list of lines, we can iterate over it:"
      ]
    },
    {
      "cell_type": "code",
      "execution_count": null,
      "metadata": {
        "id": "97BHjmW4fxmt"
      },
      "outputs": [],
      "source": [
        "for line in lines[2:]:\n",
        "    # do something with each line\n",
        "    words = line.split()"
      ]
    },
    {
      "cell_type": "markdown",
      "metadata": {
        "id": "kB9YhF26fxmu"
      },
      "source": [
        "Let's examine what we just did: first, we used a **for** loop to iterate over each line. However, we skipped the first two (the lines[2:] only takes the lines starting from index 2), since lines[0] contained the title information, and lines[1] contained underscores.\n",
        "\n",
        "We then split each line into chunks (which we're calling \"words\", even though in most cases they're numbers) using the string **split()** command. Here's what split does:"
      ]
    },
    {
      "cell_type": "code",
      "execution_count": null,
      "metadata": {
        "id": "CO_6BDSofxmu"
      },
      "outputs": [],
      "source": [
        "from string import *\n",
        "help(split)"
      ]
    },
    {
      "cell_type": "markdown",
      "metadata": {
        "id": "bE7ZiIckfxmu"
      },
      "source": [
        "Here we're implicitly passing in the first argument (s, in the doctext) by calling a method .split() on a string object. In this instance, we're not passing in a sep character, which means that the function splits on whitespace. Let's see what that does to one of our lines:"
      ]
    },
    {
      "cell_type": "code",
      "execution_count": null,
      "metadata": {
        "id": "dLfPeHkdfxmu"
      },
      "outputs": [],
      "source": [
        "lines[2].split()"
      ]
    },
    {
      "cell_type": "markdown",
      "metadata": {
        "id": "nJNYdqoofxmu"
      },
      "source": [
        "This is almost exactly what we want. We just have to now pick the fields we want:"
      ]
    },
    {
      "cell_type": "code",
      "execution_count": null,
      "metadata": {
        "id": "8N_qtnrefxmu"
      },
      "outputs": [],
      "source": [
        "for line in lines[2:]:\n",
        "    # do something with each line\n",
        "    words = line.split()\n",
        "    energy = words[2]\n",
        "    gmax = words[4]\n",
        "    time = words[8]\n",
        "    print(energy,gmax,time)"
      ]
    },
    {
      "cell_type": "markdown",
      "metadata": {
        "id": "2koluRSnfxmv"
      },
      "source": [
        "This is fine for printing things out, but if we want to do something with the data, either make a calculation with it or pass it into a plotting, we need to convert the strings into regular floating point numbers. We can use the **float()** command for this. We also need to save it in some form. I'll do this as follows:"
      ]
    },
    {
      "cell_type": "code",
      "execution_count": null,
      "metadata": {
        "id": "pA17SOL8fxmv"
      },
      "outputs": [],
      "source": [
        "data = []\n",
        "for line in lines[2:]:\n",
        "    # do something with each line\n",
        "    words = line.split()\n",
        "    energy = float(words[2])\n",
        "    gmax = float(words[4])\n",
        "    time = float(words[8])\n",
        "    data.append((energy,gmax,time))\n",
        "data = array(data)"
      ]
    },
    {
      "cell_type": "markdown",
      "metadata": {
        "id": "XQnkpA0_fxmv"
      },
      "source": [
        "We now have our data in a numpy array, so we can choose columns to print:\n",
        "\n"
      ]
    },
    {
      "cell_type": "code",
      "execution_count": null,
      "metadata": {
        "id": "B6jXeZ0Ufxmv"
      },
      "outputs": [],
      "source": [
        "plot(data[:,0])\n",
        "xlabel('step')\n",
        "ylabel('Energy (hartrees)')\n",
        "title('Convergence of NWChem geometry optimization for Si cluster')"
      ]
    },
    {
      "cell_type": "markdown",
      "metadata": {
        "id": "KLxEKnQFfxmv"
      },
      "source": [
        "I would write the code a little more succinctly if I were doing this for myself, but this is essentially a snippet I use repeatedly.\n",
        "\n",
        "Suppose our data was in CSV (comma separated values) format, a format that originally came from Microsoft Excel, and is increasingly used as a data interchange format in big data applications. How would we parse that?"
      ]
    },
    {
      "cell_type": "code",
      "execution_count": null,
      "metadata": {
        "id": "RQnpvopffxmv"
      },
      "outputs": [],
      "source": [
        "csv = \"\"\"\\\n",
        "-6095.12544083, 0.03686, 1391.5\n",
        "-6095.25762870, 0.00732, 10468.0\n",
        "-6095.26325979, 0.00233, 11963.5\n",
        "-6095.26428124, 0.00109, 13331.9\n",
        "-6095.26463203, 0.00057, 14710.8\n",
        "-6095.26477615, 0.00043, 20211.1\n",
        "-6095.26482624, 0.00015, 21726.1\n",
        "-6095.26483584, 0.00021, 24890.5\n",
        "-6095.26484405, 0.00005, 26448.7\n",
        "-6095.26484599, 0.00003, 27258.1\n",
        "-6095.26484676, 0.00003, 28155.3\n",
        "-6095.26484693, 0.00002, 28981.7\n",
        "-6095.26484693, 0.00002, 28981.7\"\"\""
      ]
    },
    {
      "cell_type": "markdown",
      "metadata": {
        "id": "oRjFs_C9fxmw"
      },
      "source": [
        "We can do much the same as before:\n"
      ]
    },
    {
      "cell_type": "code",
      "execution_count": null,
      "metadata": {
        "id": "KENQ4FgFfxmw"
      },
      "outputs": [],
      "source": [
        "data = []\n",
        "for line in csv.splitlines():\n",
        "    words = line.split(',')\n",
        "    data.append(list(map(float,words)))\n",
        "data = array(data)"
      ]
    },
    {
      "cell_type": "markdown",
      "metadata": {
        "id": "5KEs8UrJfxmw"
      },
      "source": [
        "There are two significant changes over what we did earlier. First, I'm passing the comma character ',' into the split function, so that it breaks to a new word every time it sees a comma. Next, to simplify things a big, I'm using the **map()** command to repeatedly apply a single function (**float()**) to a list, and to return the output as a list."
      ]
    },
    {
      "cell_type": "code",
      "execution_count": null,
      "metadata": {
        "id": "8VcsTUOqfxmw"
      },
      "outputs": [],
      "source": [
        "help(map)"
      ]
    },
    {
      "cell_type": "markdown",
      "metadata": {
        "id": "aB_KinAHfxmw"
      },
      "source": [
        "Despite the differences, the resulting plot should be the same:\n",
        "\n"
      ]
    },
    {
      "cell_type": "code",
      "execution_count": null,
      "metadata": {
        "id": "VNjCxJxXfxmw"
      },
      "outputs": [],
      "source": [
        "plot(data[:,0])\n",
        "xlabel('step')\n",
        "ylabel('Energy (hartrees)')\n",
        "title('Convergence of NWChem geometry optimization for Si cluster')"
      ]
    },
    {
      "cell_type": "markdown",
      "metadata": {
        "id": "26Lg_Rfafxmx"
      },
      "source": [
        "Hartrees (what most quantum chemistry programs use by default) are really stupid units. We really want this in kcal/mol or eV or something we use. So let's quickly replot this in terms of eV above the minimum energy, which will give us a much more useful plot:"
      ]
    },
    {
      "cell_type": "code",
      "execution_count": null,
      "metadata": {
        "id": "IOVZtNVxfxmx"
      },
      "outputs": [],
      "source": [
        "energies = data[:,0]\n",
        "minE = min(energies)\n",
        "energies_eV = 27.211*(energies-minE)\n",
        "plot(energies_eV)\n",
        "xlabel('step')\n",
        "ylabel('Energy (eV)')\n",
        "title('Convergence of NWChem geometry optimization for Si cluster')"
      ]
    },
    {
      "cell_type": "markdown",
      "metadata": {
        "id": "-EFDntcCfxmx"
      },
      "source": [
        "This gives us the output in a form that we can think about: 4 eV is a fairly substantial energy change (chemical bonds are roughly this magnitude of energy), and most of the energy decrease was obtained in the first geometry iteration.\n",
        "\n",
        "We mentioned earlier that we don't have to rely on **grep** to pull out the relevant lines for us. The **string** module has a lot of useful functions we can use for this. Among them is the **startswith** function. For example:"
      ]
    },
    {
      "cell_type": "code",
      "execution_count": null,
      "metadata": {
        "id": "fITYSPUtfxmx"
      },
      "outputs": [],
      "source": [
        "lines = \"\"\"\\\n",
        "                 ----------------------------------------\n",
        "                 |  WALL  |       0.45   |     443.61   |\n",
        "                 ----------------------------------------\n",
        "\n",
        "@ Step       Energy      Delta E   Gmax     Grms     Xrms     Xmax   Walltime\n",
        "@ ---- ---------------- -------- -------- -------- -------- -------- --------\n",
        "@    0   -6095.12544083  0.0D+00  0.03686  0.00936  0.00000  0.00000   1391.5\n",
        "                                                       ok       ok\n",
        "\n",
        "\n",
        "\n",
        "                                Z-matrix (autoz)\n",
        "                                --------\n",
        "\"\"\".splitlines()\n",
        "\n",
        "for line in lines:\n",
        "    if line.startswith('@'):\n",
        "        print(line)"
      ]
    },
    {
      "cell_type": "markdown",
      "metadata": {
        "id": "7ktwdWBzfxmy"
      },
      "source": [
        "and we've successfully grabbed all of the lines that begin with the @ symbol.\n",
        "\n",
        "The real value in a language like Python is that it makes it easy to take additional steps to analyze data in this fashion, which means you are thinking more about your data, and are more likely to see important patterns."
      ]
    },
    {
      "cell_type": "markdown",
      "metadata": {
        "id": "2XlBmxsofxmy"
      },
      "source": [
        "## More Sophisticated String Formatting and Processing"
      ]
    },
    {
      "cell_type": "markdown",
      "metadata": {
        "id": "o95tA6iUfxmy"
      },
      "source": [
        "Strings are a big deal in most modern languages, and hopefully the previous sections helped underscore how versatile Python's string processing techniques are. We will continue this topic in this chapter.\n",
        "\n",
        "We can print out lines in Python using the print command."
      ]
    },
    {
      "cell_type": "code",
      "execution_count": null,
      "metadata": {
        "id": "1pfdd71Ofxmy"
      },
      "outputs": [],
      "source": [
        "print(\"I have 3 errands to run\")"
      ]
    },
    {
      "cell_type": "markdown",
      "metadata": {
        "id": "ZPzq2EzBfxmy"
      },
      "source": [
        "In IPython we don't even need the print command, since it will display the last expression not assigned to a variable.\n",
        "\n"
      ]
    },
    {
      "cell_type": "code",
      "execution_count": null,
      "metadata": {
        "id": "JEgTDUAJfxmz"
      },
      "outputs": [],
      "source": [
        "\"I have 3 errands to run\""
      ]
    },
    {
      "cell_type": "markdown",
      "metadata": {
        "id": "byBDh_JZfxmz"
      },
      "source": [
        "**print** even converts some arguments to strings for us:\n",
        "\n"
      ]
    },
    {
      "cell_type": "code",
      "execution_count": null,
      "metadata": {
        "id": "ElA5tEIafxmz"
      },
      "outputs": [],
      "source": [
        "a,b,c = 1,2,3\n",
        "print(\"The variables are \",1,2,3)"
      ]
    },
    {
      "cell_type": "markdown",
      "metadata": {
        "id": "qRB7gKZNfxmz"
      },
      "source": [
        "As versatile as this is, you typically need more freedom over the data you print out. For example, what if we want to print a bunch of data to exactly 4 decimal places? We can do this using formatted strings.\n",
        "\n",
        "Formatted strings share a syntax with the C **printf** statement. We make a string that has some funny *format characters* in it, and then pass a bunch of variables into the string that fill out those characters in different ways.\n",
        "\n",
        "For example,"
      ]
    },
    {
      "cell_type": "code",
      "execution_count": null,
      "metadata": {
        "id": "lNhVCZTVfxm0"
      },
      "outputs": [],
      "source": [
        "print(\"Pi as a decimal = %d\" % pi)\n",
        "print(\"Pi as a float = %f\" % pi)\n",
        "print(\"Pi with 4 decimal places = %.4f\" % pi)\n",
        "print(\"Pi with overall fixed length of 10 spaces, with 6 decimal places = %10.6f\" % pi)\n",
        "print(\"Pi as in exponential format = %e\" % pi)"
      ]
    },
    {
      "cell_type": "markdown",
      "metadata": {
        "id": "faWhN5F1fxm0"
      },
      "source": [
        "We use a percent sign in two different ways here. First, the format character itself starts with a percent sign. %d or %i are for integers, %f is for floats, %e is for numbers in exponential formats. All of the numbers can take number immediately after the percent that specifies the total spaces used to print the number. Formats with a decimal can take an additional number after a dot . to specify the number of decimal places to print.\n",
        "\n",
        "The other use of the percent sign is after the string, to pipe a set of variables in. You can pass in multiple variables (if your formatting string supports it) by putting a tuple after the percent. Thus,"
      ]
    },
    {
      "cell_type": "code",
      "execution_count": null,
      "metadata": {
        "id": "7Y9v_msnfxm0"
      },
      "outputs": [],
      "source": [
        "print(\"The variables specified earlier are %d, %d, and %d\" % (a,b,c))"
      ]
    },
    {
      "cell_type": "markdown",
      "metadata": {
        "id": "LBAofw5afxm0"
      },
      "source": [
        "Recall we discussed multiline strings. We can put format characters in these as well, and fill them with the percent sign as before.\n",
        "\n"
      ]
    },
    {
      "cell_type": "code",
      "execution_count": null,
      "metadata": {
        "id": "BFBIl9Ymfxm0"
      },
      "outputs": [],
      "source": [
        "form_letter = \"\"\"\\\n",
        "\n",
        "          %s\n",
        "\n",
        "Dear %s,\n",
        "\n",
        "We regret to inform you that your product did not\n",
        "ship today due to %s.\n",
        "\n",
        "We hope to remedy this as soon as possible.\n",
        "\n",
        "          From,\n",
        "          Your Supplier\n",
        "\"\"\"\n",
        "\n",
        "print(form_letter % (\"July 1, 2013\",\"Valued Customer Bob\",\"alien attack\"))"
      ]
    },
    {
      "cell_type": "markdown",
      "metadata": {
        "id": "GS8A2USRfxm0"
      },
      "source": [
        "The problem with a long block of text like this is that it's often hard to keep track of what all of the variables are supposed to stand for. There's an alternate format where you can pass a dictionary into the formatted string, and give a little bit more information to the formatted string itself. This method looks like:"
      ]
    },
    {
      "cell_type": "code",
      "execution_count": null,
      "metadata": {
        "id": "U9Yzu1F4fxm1"
      },
      "outputs": [],
      "source": [
        "form_letter = \"\"\"\\\n",
        "\n",
        "          %(date)s\n",
        "\n",
        "Dear %(customer)s,\n",
        "\n",
        "We regret to inform you that your product did not\n",
        "ship today due to %(lame_excuse)s.\n",
        "\n",
        "We hope to remedy this as soon as possible.\n",
        "\n",
        "          From,\n",
        "          Your Supplier\n",
        "\"\"\"\n",
        "\n",
        "print(form_letter % {\"date\" : \"July 1, 2013\",\"customer\":\"Valued Customer Bob\",\"lame_excuse\":\"alien attack\"})"
      ]
    },
    {
      "cell_type": "markdown",
      "metadata": {
        "id": "vjmublCMfxm1"
      },
      "source": [
        "By providing a little bit more information, you're less likely to make mistakes, like referring to your customer as \"alien attack\".\n",
        "\n",
        "As a scientist, you're less likely to be sending bulk mailings to a bunch of customers. But these are great methods for generating and submitting lots of similar runs, say scanning a bunch of different structures to find the optimal configuration for something.\n",
        "\n",
        "For example, you can use the following template for NWChem input files:"
      ]
    },
    {
      "cell_type": "code",
      "execution_count": null,
      "metadata": {
        "id": "Sqq6ZsGefxm1"
      },
      "outputs": [],
      "source": [
        "nwchem_format = \"\"\"\n",
        "start %(jobname)s\n",
        "\n",
        "title \"%(thetitle)s\"\n",
        "charge %(charge)d\n",
        "\n",
        "geometry units angstroms print xyz autosym\n",
        "%(geometry)s\n",
        "end\n",
        "\n",
        "basis\n",
        "  * library 6-31G**\n",
        "end\n",
        "\n",
        "dft\n",
        "  xc %(dft_functional)s\n",
        "  mult %(multiplicity)d\n",
        "end\n",
        "\n",
        "task dft %(jobtype)s\n",
        "\"\"\""
      ]
    },
    {
      "cell_type": "markdown",
      "metadata": {
        "id": "Vq9ATCoCfxm2"
      },
      "source": [
        "If you want to submit a sequence of runs to a computer somewhere, it's pretty easy to put together a little script, maybe even with some more string formatting in it:\n",
        "\n"
      ]
    },
    {
      "cell_type": "code",
      "execution_count": null,
      "metadata": {
        "id": "npzGQ0T8fxm2"
      },
      "outputs": [],
      "source": [
        "oxygen_xy_coords = [(0,0),(0,0.1),(0.1,0),(0.1,0.1)]\n",
        "charge = 0\n",
        "multiplicity = 1\n",
        "dft_functional = \"b3lyp\"\n",
        "jobtype = \"optimize\"\n",
        "\n",
        "geometry_template = \"\"\"\\\n",
        "  O    %f     %f      0.0\n",
        "  H    0.0    1.0     0.0\n",
        "  H    1.0    0.0     0.0\"\"\"\n",
        "\n",
        "for i,xy in enumerate(oxygen_xy_coords):\n",
        "    thetitle = \"Water run #%d\" % i\n",
        "    jobname = \"h2o-%d\" % i\n",
        "    geometry = geometry_template % xy\n",
        "    print(\"---------\")\n",
        "    print(nwchem_format % dict(thetitle=thetitle,charge=charge,jobname=jobname,jobtype=jobtype,\n",
        "                               geometry=geometry,dft_functional=dft_functional,multiplicity=multiplicity))"
      ]
    },
    {
      "cell_type": "markdown",
      "metadata": {
        "id": "NuG8vSNPfxm2"
      },
      "source": [
        "This is a very bad geometry for a water molecule, and it would be silly to run so many geometry optimizations of structures that are guaranteed to converge to the same single geometry, but you get the idea of how you can run vast numbers of simulations with a technique like this.\n",
        "\n",
        "We used the **enumerate** function to loop over both the indices and the items of a sequence, which is valuable when you want a clean way of getting both. **enumerate** is roughly equivalent to:"
      ]
    },
    {
      "cell_type": "code",
      "execution_count": null,
      "metadata": {
        "id": "EFdlU6ywfxm2"
      },
      "outputs": [],
      "source": [
        "def my_enumerate(seq):\n",
        "    l = []\n",
        "    for i in range(len(seq)):\n",
        "        l.append((i,seq[i]))\n",
        "    return l\n",
        "my_enumerate(oxygen_xy_coords)"
      ]
    },
    {
      "cell_type": "markdown",
      "metadata": {
        "id": "hgDM6SIhfxm2"
      },
      "source": [
        "Although enumerate uses **generators** (see below) so that it doesn't have to create a big list, which makes it faster for really long sequenes.\n",
        "\n"
      ]
    },
    {
      "cell_type": "markdown",
      "metadata": {
        "id": "p-cjJYg1fxm2"
      },
      "source": [
        "## Optional arguments\n"
      ]
    },
    {
      "cell_type": "markdown",
      "metadata": {
        "id": "4JX8YDDDfxm2"
      },
      "source": [
        "You will recall that the **linspace** function can take either two arguments (for the starting and ending points):\n",
        "\n"
      ]
    },
    {
      "cell_type": "code",
      "execution_count": null,
      "metadata": {
        "id": "0-jmUjX5fxm2"
      },
      "outputs": [],
      "source": [
        "linspace(0,1)"
      ]
    },
    {
      "cell_type": "markdown",
      "metadata": {
        "id": "vd2az0xgfxm3"
      },
      "source": [
        "or it can take three arguments, for the starting point, the ending point, and the number of points:\n",
        "\n"
      ]
    },
    {
      "cell_type": "code",
      "execution_count": null,
      "metadata": {
        "id": "mKQDdtivfxm3"
      },
      "outputs": [],
      "source": [
        "linspace(0,1,5)"
      ]
    },
    {
      "cell_type": "markdown",
      "metadata": {
        "id": "_30WdbNIfxm3"
      },
      "source": [
        "You can also pass in keywords to exclude the endpoint:\n"
      ]
    },
    {
      "cell_type": "code",
      "execution_count": null,
      "metadata": {
        "id": "JeD2iONJfxm3"
      },
      "outputs": [],
      "source": [
        "linspace(0,1,5,endpoint=False)"
      ]
    },
    {
      "cell_type": "markdown",
      "metadata": {
        "id": "oC8GJ3eJfxm3"
      },
      "source": [
        "Right now, we only know how to specify functions that have a fixed number of arguments. We'll learn how to do the more general cases here.\n",
        "\n",
        "If we're defining a simple version of linspace, we would start with:"
      ]
    },
    {
      "cell_type": "code",
      "execution_count": null,
      "metadata": {
        "id": "qZSxecwafxm3"
      },
      "outputs": [],
      "source": [
        "def my_linspace(start,end):\n",
        "    npoints = 50\n",
        "    v = []\n",
        "    d = (end-start)/float(npoints-1)\n",
        "    for i in range(npoints):\n",
        "        v.append(start + i*d)\n",
        "    return v\n",
        "my_linspace(0,1)"
      ]
    },
    {
      "cell_type": "markdown",
      "metadata": {
        "id": "rhOe1x_Hfxm4"
      },
      "source": [
        "We can add an optional argument by specifying a default value in the argument list:\n",
        "\n"
      ]
    },
    {
      "cell_type": "code",
      "execution_count": null,
      "metadata": {
        "id": "m0KlP4c6fxm4"
      },
      "outputs": [],
      "source": [
        "def my_linspace(start,end,npoints = 50):\n",
        "    v = []\n",
        "    d = (end-start)/float(npoints-1)\n",
        "    for i in range(npoints):\n",
        "        v.append(start + i*d)\n",
        "    return v"
      ]
    },
    {
      "cell_type": "markdown",
      "metadata": {
        "id": "aB4TSpn8fxm4"
      },
      "source": [
        "This gives exactly the same result if we don't specify anything:\n",
        "\n"
      ]
    },
    {
      "cell_type": "code",
      "execution_count": null,
      "metadata": {
        "id": "7q9mJ_-Kfxm4"
      },
      "outputs": [],
      "source": [
        "my_linspace(0,1)"
      ]
    },
    {
      "cell_type": "markdown",
      "metadata": {
        "id": "vS0vteJ0fxm4"
      },
      "source": [
        "But also let's us override the default value with a third argument:\n",
        "\n"
      ]
    },
    {
      "cell_type": "code",
      "execution_count": null,
      "metadata": {
        "id": "Wo55HdE6fxm4"
      },
      "outputs": [],
      "source": [
        "my_linspace(0,1,5)\n"
      ]
    },
    {
      "cell_type": "markdown",
      "metadata": {
        "id": "KOFp5MuJfxm4"
      },
      "source": [
        "We can add arbitrary keyword arguments to the function definition by putting a keyword argument **kwargs handle in:\n",
        "\n"
      ]
    },
    {
      "cell_type": "code",
      "execution_count": null,
      "metadata": {
        "id": "HJx2aogPfxm5"
      },
      "outputs": [],
      "source": [
        "def my_linspace(start,end,npoints=50,**kwargs):\n",
        "    endpoint = kwargs.get('endpoint',True)\n",
        "    v = []\n",
        "    if endpoint:\n",
        "        d = (end-start)/float(npoints-1)\n",
        "    else:\n",
        "        d = (end-start)/float(npoints)\n",
        "    for i in range(npoints):\n",
        "        v.append(start + i*d)\n",
        "    return v\n",
        "my_linspace(0,1,5,endpoint=False)"
      ]
    },
    {
      "cell_type": "markdown",
      "metadata": {
        "id": "FSTiAKInfxm5"
      },
      "source": [
        "What the keyword argument construction does is to take any additional keyword arguments (i.e. arguments specified by name, like \"endpoint=False\"), and stick them into a dictionary called \"kwargs\" (you can call it anything you like, but it has to be preceded by two stars). You can then grab items out of the dictionary using the **get** command, which also lets you specify a default value. I realize it takes a little getting used to, but it is a common construction in Python code, and you should be able to recognize it.\n",
        "\n",
        "There's an analogous *args that dumps any additional arguments into a list called \"args\". Think about the **range** function: it can take one (the endpoint), two (starting and ending points), or three (starting, ending, and step) arguments. How would we define this?"
      ]
    },
    {
      "cell_type": "code",
      "execution_count": null,
      "metadata": {
        "id": "iTPxSLMMfxm5"
      },
      "outputs": [],
      "source": [
        "def my_range(*args):\n",
        "    start = 0\n",
        "    step = 1\n",
        "    if len(args) == 1:\n",
        "        end = args[0]\n",
        "    elif len(args) == 2:\n",
        "        start,end = args\n",
        "    elif len(args) == 3:\n",
        "        start,end,step = args\n",
        "    else:\n",
        "        raise Exception(\"Unable to parse arguments\")\n",
        "    v = []\n",
        "    value = start\n",
        "    while True:\n",
        "        v.append(value)\n",
        "        value += step\n",
        "        if value > end: break\n",
        "    return v"
      ]
    },
    {
      "cell_type": "markdown",
      "metadata": {
        "id": "4WUJuSQqfxm5"
      },
      "source": [
        "Note that we have defined a few new things you haven't seen before: a break statement, that allows us to exit a for loop if some conditions are met, and an exception statement, that causes the interpreter to exit with an error message. For example:"
      ]
    },
    {
      "cell_type": "code",
      "execution_count": null,
      "metadata": {
        "id": "R9JSlLb5fxm5"
      },
      "outputs": [],
      "source": [
        "my_range()"
      ]
    },
    {
      "cell_type": "markdown",
      "metadata": {
        "id": "uKYlK7qRfxm5"
      },
      "source": [
        "## List Comprehensions and Generators\n"
      ]
    },
    {
      "cell_type": "markdown",
      "metadata": {
        "id": "maWyREXtfxm5"
      },
      "source": [
        "List comprehensions are a streamlined way to make lists. They look something like a list definition, with some logic thrown in. For example:\n",
        "\n"
      ]
    },
    {
      "cell_type": "code",
      "execution_count": null,
      "metadata": {
        "id": "eC7_7Wv4fxm5"
      },
      "outputs": [],
      "source": [
        "evens1 = [2*i for i in range(10)]\n",
        "print(evens1)"
      ]
    },
    {
      "cell_type": "markdown",
      "metadata": {
        "id": "2vfhGKfSfxm6"
      },
      "source": [
        "You can also put some boolean testing into the construct:\n",
        "\n"
      ]
    },
    {
      "cell_type": "code",
      "execution_count": null,
      "metadata": {
        "id": "53ubU37Rfxm6"
      },
      "outputs": [],
      "source": [
        "odds = [i for i in range(20) if i%2==1]\n",
        "odds"
      ]
    },
    {
      "cell_type": "markdown",
      "metadata": {
        "id": "K-LDuONAfxm6"
      },
      "source": [
        "Here i%2 is the remainder when i is divided by 2, so that i%2==1 is true if the number is odd. Even though this is a relative new addition to the language, it is now fairly common since it's so convenient.\n",
        "\n",
        "**iterators** are a way of making virtual sequence objects. For example, the **range** function is an iterator. It simply makes a counter that is looped through in sequence.\n",
        "\n",
        "We can define our own iterators using the **yield** statement:"
      ]
    },
    {
      "cell_type": "code",
      "execution_count": null,
      "metadata": {
        "id": "kqLBpwt-fxm6"
      },
      "outputs": [],
      "source": [
        "def evens_below(n):\n",
        "    for i in range(n):\n",
        "        if i%2 == 0:\n",
        "            yield i\n",
        "    return\n",
        "\n",
        "for i in evens_below(9):\n",
        "    print(i)"
      ]
    },
    {
      "cell_type": "markdown",
      "metadata": {
        "id": "VLFHioUdfxm6"
      },
      "source": [
        "We can always turn an iterator into a list using the **list** command:\n",
        "\n"
      ]
    },
    {
      "cell_type": "code",
      "execution_count": null,
      "metadata": {
        "id": "uIDnqbsMfxm7"
      },
      "outputs": [],
      "source": [
        "list(evens_below(9))"
      ]
    },
    {
      "cell_type": "markdown",
      "metadata": {
        "id": "fDG1fDoYfxm7"
      },
      "source": [
        "There's a special syntax called a **generator expression** that looks a lot like a list comprehension:\n",
        "\n"
      ]
    },
    {
      "cell_type": "code",
      "execution_count": null,
      "metadata": {
        "id": "mlZq3Y_bfxm8"
      },
      "outputs": [],
      "source": [
        "evens_gen = (i for i in range(9) if i%2==0)\n",
        "for i in evens_gen:\n",
        "    print(i)"
      ]
    },
    {
      "cell_type": "markdown",
      "metadata": {
        "id": "kOjWJvoKfxm8"
      },
      "source": [
        "## Factory Functions\n"
      ]
    },
    {
      "cell_type": "markdown",
      "metadata": {
        "id": "J_WA74ADfxm8"
      },
      "source": [
        "A factory function is a function that returns a function. They have the fancy name *lexical closure*, which makes you sound really intelligent in front of your CS friends. But, despite the arcane names, factory functions can play a very practical role.\n",
        "\n",
        "Suppose you want the Gaussian function centered at 0.5, with height 99 and width 1.0. You could write a general function."
      ]
    },
    {
      "cell_type": "code",
      "execution_count": null,
      "metadata": {
        "id": "ovBcU__kfxm9"
      },
      "outputs": [],
      "source": [
        "def gauss(x,A,a,x0):\n",
        "    return A*exp(-a*(x-x0)**2)"
      ]
    },
    {
      "cell_type": "markdown",
      "metadata": {
        "id": "Kc1C1v8qfxm9"
      },
      "source": [
        "But what if you need a function with only one argument, like f(x) rather than f(x,y,z,...)? You can do this with Factory Functions:\n",
        "\n"
      ]
    },
    {
      "cell_type": "code",
      "execution_count": null,
      "metadata": {
        "id": "2yERdhOWfxm9"
      },
      "outputs": [],
      "source": [
        "def gauss_maker(A,a,x0):\n",
        "    def f(x):\n",
        "        return A*exp(-a*(x-x0)**2)\n",
        "    return f"
      ]
    },
    {
      "cell_type": "code",
      "execution_count": null,
      "metadata": {
        "id": "n3cokfIUfxm-"
      },
      "outputs": [],
      "source": [
        "x = linspace(0,1)\n",
        "g = gauss_maker(99.0,1.0,0.5)\n",
        "plot(x,g(x))"
      ]
    },
    {
      "cell_type": "markdown",
      "metadata": {
        "id": "pQdEDWAffxm-"
      },
      "source": [
        "Everything in Python is an object, including functions. This means that functions can be returned by other functions. (They can also be passed into other functions, which is also useful, but a topic for another discussion.) In the **gauss_maker** example, the g function that is output \"remembers\" the A, a, x0 values it was constructed with, since they're all stored in the local memory space (this is what the lexical closure really refers to) of that function.\n",
        "\n",
        "Factories are one of the more important of the [Software Design Patterns](https://en.wikipedia.org/wiki/Software_design_pattern), which are a set of guidelines to follow to make high-quality, portable, readable, stable software. It's beyond the scope of the current work to go more into either factories or design patterns, but I thought I would mention them for people interested in software design."
      ]
    },
    {
      "cell_type": "markdown",
      "metadata": {
        "id": "mx5ShLqgfxm-"
      },
      "source": [
        "## Serialization: Save it for later\n"
      ]
    },
    {
      "cell_type": "markdown",
      "metadata": {
        "id": "61CaEp37fxm-"
      },
      "source": [
        "*Serialization* refers to the process of outputting data (and occasionally functions) to a database or a regular file, for the purpose of using it later on. In the very early days of programming languages, this was normally done in regular text files. Python is excellent at text processing, and you probably already know enough to get started with this.\n",
        "\n",
        "When accessing large amounts of data became important, people developed database software based around the Structured Query Language (SQL) standard. As data interchange became important, the eXtensible Markup Language (XML) has emerged. XML makes data formats that are easy to write parsers for, greatly simplifying the ambiguity that sometimes arises in the process. Again, I'm not going to cover XML here, but if you're interested in learning more, look into [Element Trees](https://docs.python.org/3/library/xml.etree.elementtree.html), now part of the Python standard library.\n",
        "\n",
        "Python has a very general serialization format called **pickle** that can turn any Python object, even a function or a class, into a representation that can be written to a file and read in later. But, again, I'm not going to talk about this, since I rarely use it myself. Again, the standard library documentation for pickle is the place to go.\n",
        "\n",
        "What I am going to talk about is a relatively recent format call [JavaScript Object Notation](https://www.json.org/json-en.html) (JSON) that has become very popular over the past few years. There's a [module in the standard library](https://docs.python.org/3/library/json.html) for encoding and decoding JSON formats. The reason I like JSON so much is that it looks almost like Python, so that, unlike the other options, you can look at your data and edit it, use it in another program, etc.\n",
        "\n",
        "Here's a little example:"
      ]
    },
    {
      "cell_type": "code",
      "execution_count": null,
      "metadata": {
        "id": "MkxcvKztfxm-"
      },
      "outputs": [],
      "source": [
        "# Data in a json format:\n",
        "json_data = \"\"\"\\\n",
        "{\n",
        "    \"a\": [1,2,3],\n",
        "    \"b\": [4,5,6],\n",
        "    \"greeting\" : \"Hello\"\n",
        "}\"\"\"\n",
        "import json\n",
        "json.loads(json_data)"
      ]
    },
    {
      "cell_type": "markdown",
      "metadata": {
        "id": "yIHqSXzefxm-"
      },
      "source": [
        "Ignore the little u's before the strings, these just mean the strings are in UNICODE. Your data sits in something that looks like a Python dictionary, and in a single line of code, you can load it into a Python dictionary for use later.\n",
        "\n",
        "In the same way, you can, with a single line of code, put a bunch of variables into a dictionary, and then output to a file using json:"
      ]
    },
    {
      "cell_type": "code",
      "execution_count": null,
      "metadata": {
        "id": "ebw4vG7rfxm_"
      },
      "outputs": [],
      "source": [
        "json.dumps({\"a\":[1,2,3],\"b\":[9,10,11],\"greeting\":\"Hola\"})"
      ]
    },
    {
      "cell_type": "markdown",
      "metadata": {
        "id": "VXYV6WeVfxm_"
      },
      "source": [
        "## Functional programming"
      ]
    },
    {
      "cell_type": "markdown",
      "metadata": {
        "id": "lEp17efSfxm_"
      },
      "source": [
        "Functional programming is a very broad subject. The idea is to have a series of functions, each of which generates a new data structure from an input, without changing the input structure at all. By not modifying the input structure (something that is called not having *side effects*), many guarantees can be made about how independent the processes are, which can help parallelization and guarantees of program accuracy. There is a [Python Functional Programming HOWTO](https://docs.python.org/3/howto/functional.html) in the standard docs that goes into more details on functional programming. I just wanted to touch on a few of the most important ideas here.\n",
        "\n",
        "There is an **operator** module that has function versions of most of the Python operators. For example:"
      ]
    },
    {
      "cell_type": "code",
      "execution_count": null,
      "metadata": {
        "id": "mPVJNnnmfxm_"
      },
      "outputs": [],
      "source": [
        "from operator import add, mul\n",
        "add(1,2)"
      ]
    },
    {
      "cell_type": "code",
      "execution_count": null,
      "metadata": {
        "id": "rxQDl0LefxnA"
      },
      "outputs": [],
      "source": [
        "mul(3,4)"
      ]
    },
    {
      "cell_type": "markdown",
      "metadata": {
        "id": "-Z6wpDoafxnA"
      },
      "source": [
        "These are useful building blocks for functional programming.\n",
        "\n"
      ]
    },
    {
      "cell_type": "markdown",
      "metadata": {
        "id": "QGPnZSztfxnA"
      },
      "source": [
        "The **lambda** operator allows us to build *anonymous functions*, which are simply functions that aren't defined by a normal **def** statement with a name. For example, a function that doubles the input is:"
      ]
    },
    {
      "cell_type": "code",
      "execution_count": null,
      "metadata": {
        "id": "s5QPjbqnfxnA"
      },
      "outputs": [],
      "source": [
        "def doubler(x): return 2*x\n",
        "doubler(17)"
      ]
    },
    {
      "cell_type": "markdown",
      "metadata": {
        "id": "18wCphFhfxnA"
      },
      "source": [
        "We could also write this as:\n",
        "\n"
      ]
    },
    {
      "cell_type": "code",
      "execution_count": null,
      "metadata": {
        "id": "Q7v0FTd-fxnA"
      },
      "outputs": [],
      "source": [
        "lambda x: 2*x"
      ]
    },
    {
      "cell_type": "code",
      "execution_count": null,
      "metadata": {
        "id": "ic5J70ntfxnB"
      },
      "outputs": [],
      "source": [
        "another_doubler = lambda x: 2*x\n",
        "another_doubler(19)"
      ]
    },
    {
      "cell_type": "markdown",
      "metadata": {
        "id": "0Dceuqk4fxnB"
      },
      "source": [
        "**lambda** is particularly convenient (as we'll see below) in passing simple functions as arguments to other functions.\n",
        "\n",
        "**map** is a way to repeatedly apply a function to a list:"
      ]
    },
    {
      "cell_type": "code",
      "execution_count": null,
      "metadata": {
        "id": "0UA3FaLmfxnB"
      },
      "outputs": [],
      "source": [
        "list(map(float,'1 2 3 4 5'.split()))"
      ]
    },
    {
      "cell_type": "markdown",
      "metadata": {
        "id": "3SUcMg31fxnB"
      },
      "source": [
        "**reduce** is a way to repeatedly apply a function to the first two items of the list. There already is a **sum** function in Python that is a reduction:\n",
        "\n"
      ]
    },
    {
      "cell_type": "code",
      "execution_count": null,
      "metadata": {
        "id": "Ti-dNLbGfxnB"
      },
      "outputs": [],
      "source": [
        "sum([1,2,3,4,5])"
      ]
    },
    {
      "cell_type": "markdown",
      "metadata": {
        "id": "jh8MX_bLfxnB"
      },
      "source": [
        "We can use reduce, in the functools library, to define an analogous **prod** function:\n",
        "\n"
      ]
    },
    {
      "cell_type": "code",
      "execution_count": null,
      "metadata": {
        "id": "4GTTHfrnfxnC"
      },
      "outputs": [],
      "source": [
        "from functools import *\n",
        "def prod(l): return reduce(mul,l)\n",
        "prod([1,2,3,4,5])"
      ]
    },
    {
      "cell_type": "markdown",
      "metadata": {
        "id": "Q_DRCcx8fxnC"
      },
      "source": [
        "## Object Oriented Programming"
      ]
    },
    {
      "cell_type": "markdown",
      "metadata": {
        "id": "ZRpVVbfdfxnC"
      },
      "source": [
        "We've seen a lot of examples of **objects** in Python. We create a string object with quote marks:\n",
        "\n"
      ]
    },
    {
      "cell_type": "code",
      "execution_count": null,
      "metadata": {
        "id": "NdNZc6nMfxnC"
      },
      "outputs": [],
      "source": [
        "mystring = \"Hi there\""
      ]
    },
    {
      "cell_type": "markdown",
      "metadata": {
        "id": "XzQYMd92fxnC"
      },
      "source": [
        "and we have a bunch of methods we can use on the object:\n",
        "\n"
      ]
    },
    {
      "cell_type": "code",
      "execution_count": null,
      "metadata": {
        "id": "kXpXgckMfxnD"
      },
      "outputs": [],
      "source": [
        "mystring.split()"
      ]
    },
    {
      "cell_type": "code",
      "execution_count": null,
      "metadata": {
        "id": "vVJHXVwRfxnD"
      },
      "outputs": [],
      "source": [
        "mystring.startswith('Hi')"
      ]
    },
    {
      "cell_type": "code",
      "execution_count": null,
      "metadata": {
        "id": "HFvs_LmvfxnD"
      },
      "outputs": [],
      "source": [
        "len(mystring)"
      ]
    },
    {
      "cell_type": "markdown",
      "metadata": {
        "id": "XeaXR2nofxnE"
      },
      "source": [
        "Object oriented programming simply gives you the tools to define objects and methods for yourself. It's useful anytime you want to keep some data (like the characters in the string) tightly coupled to the functions that act on the data (length, split, startswith, etc.).\n",
        "\n",
        "As an example, we're going to bundle the functions we did to make the 1d harmonic oscillator eigenfunctions with arbitrary potentials, so we can pass in a function defining that potential, some additional specifications, and get out something that can plot the orbitals, as well as do other things with them, if desired."
      ]
    },
    {
      "cell_type": "code",
      "execution_count": null,
      "metadata": {
        "id": "Bq2L58-zfxnE"
      },
      "outputs": [],
      "source": [
        "class Schrod1d:\n",
        "    \"\"\"\\\n",
        "    Schrod1d: Solver for the one-dimensional Schrodinger equation.\n",
        "    \"\"\"\n",
        "    def __init__(self,V,start=0,end=1,npts=50,**kwargs):\n",
        "        m = kwargs.get('m',1.0)\n",
        "        self.x = linspace(start,end,npts)\n",
        "        self.Vx = V(self.x)\n",
        "        self.H = (-0.5/m)*self.laplacian() + diag(self.Vx)\n",
        "        return\n",
        "\n",
        "    def plot(self,*args,**kwargs):\n",
        "        titlestring = kwargs.get('titlestring',\"Eigenfunctions of the 1d Potential\")\n",
        "        xstring = kwargs.get('xstring',\"Displacement (bohr)\")\n",
        "        ystring = kwargs.get('ystring',\"Energy (hartree)\")\n",
        "        if not args:\n",
        "            args = [3]\n",
        "        x = self.x\n",
        "        E,U = eigh(self.H)\n",
        "        h = x[1]-x[0]\n",
        "\n",
        "        # Plot the Potential\n",
        "        plot(x,self.Vx,color='k')\n",
        "\n",
        "        for i in range(*args):\n",
        "            # For each of the first few solutions, plot the energy level:\n",
        "            axhline(y=E[i],color='k',ls=\":\")\n",
        "            # as well as the eigenfunction, displaced by the energy level so they don't\n",
        "            # all pile up on each other:\n",
        "            plot(x,U[:,i]/sqrt(h)+E[i])\n",
        "        title(titlestring)\n",
        "        xlabel(xstring)\n",
        "        ylabel(ystring)\n",
        "        return\n",
        "\n",
        "    def laplacian(self):\n",
        "        x = self.x\n",
        "        h = x[1]-x[0] # assume uniformly spaced points\n",
        "        n = len(x)\n",
        "        M = -2*identity(n,'d')\n",
        "        for i in range(1,n):\n",
        "            M[i,i-1] = M[i-1,i] = 1\n",
        "        return M/h**2"
      ]
    },
    {
      "cell_type": "markdown",
      "metadata": {
        "id": "RE7U8zkjfxnE"
      },
      "source": [
        "The **init()** function specifies what operations go on when the object is created. The **self** argument is the object itself, and we don't pass it in. The only required argument is the function that defines the QM potential. We can also specify additional arguments that define the numerical grid that we're going to use for the calculation.\n",
        "\n",
        "For example, to do an infinite square well potential, we have a function that is 0 everywhere. We don't have to specify the barriers, since we'll only define the potential in the well, which means that it can't be defined anywhere else."
      ]
    },
    {
      "cell_type": "code",
      "execution_count": null,
      "metadata": {
        "id": "k3NXin5_fxnE"
      },
      "outputs": [],
      "source": [
        "square_well = Schrod1d(lambda x: 0*x,m=10)\n",
        "square_well.plot(4,titlestring=\"Square Well Potential\")"
      ]
    },
    {
      "cell_type": "markdown",
      "metadata": {
        "id": "n1VwjaRWfxnF"
      },
      "source": [
        "We can similarly redefine the Harmonic Oscillator potential.\n",
        "\n"
      ]
    },
    {
      "cell_type": "code",
      "execution_count": null,
      "metadata": {
        "id": "TdD6bLB0fxnF"
      },
      "outputs": [],
      "source": [
        "ho = Schrod1d(lambda x: x**2,start=-3,end=3)\n",
        "ho.plot(6,titlestring=\"Harmonic Oscillator\")"
      ]
    },
    {
      "cell_type": "markdown",
      "metadata": {
        "id": "MQ5lBCFWfxnF"
      },
      "source": [
        "Let's define a finite well potential:\n",
        "\n"
      ]
    },
    {
      "cell_type": "code",
      "execution_count": null,
      "metadata": {
        "id": "pfvkHnFffxnF"
      },
      "outputs": [],
      "source": [
        "def finite_well(x,V_left=1,V_well=0,V_right=1,d_left=10,d_well=10,d_right=10):\n",
        "    V = zeros(x.size,'d')\n",
        "    for i in range(x.size):\n",
        "        if x[i] < d_left:\n",
        "            V[i] = V_left\n",
        "        elif x[i] > (d_left+d_well):\n",
        "            V[i] = V_right\n",
        "        else:\n",
        "            V[i] = V_well\n",
        "    return V\n",
        "\n",
        "fw = Schrod1d(finite_well,start=0,end=30,npts=100)\n",
        "fw.plot()"
      ]
    },
    {
      "cell_type": "markdown",
      "metadata": {
        "id": "qOWaoECWfxnF"
      },
      "source": [
        "A triangular well:\n",
        "\n"
      ]
    },
    {
      "cell_type": "code",
      "execution_count": null,
      "metadata": {
        "id": "BZV7ri9GfxnG"
      },
      "outputs": [],
      "source": [
        "def triangular(x,F=30): return F*x\n",
        "\n",
        "tw = Schrod1d(triangular,m=10)\n",
        "tw.plot()"
      ]
    },
    {
      "cell_type": "markdown",
      "metadata": {
        "id": "E_tAr2dYfxnG"
      },
      "source": [
        "Or we can combine the two, making something like a semiconductor quantum well with a top gate:\n",
        "\n"
      ]
    },
    {
      "cell_type": "code",
      "execution_count": null,
      "metadata": {
        "id": "T3O5s01MfxnG"
      },
      "outputs": [],
      "source": [
        "def tri_finite(x): return finite_well(x)+triangular(x,F=0.025)\n",
        "\n",
        "tfw = Schrod1d(tri_finite,start=0,end=30,npts=100)\n",
        "tfw.plot()"
      ]
    },
    {
      "cell_type": "markdown",
      "metadata": {
        "id": "qyD4E1FmfxnG"
      },
      "source": [
        "There's a lot of philosophy behind object oriented programming. Since I'm trying to focus on just the basics here, I won't go into them, but the internet is full of lots of resources on OO programming and theory. The best of this is contained in the [Design Patterns](https://en.wikipedia.org/wiki/Design_Patterns) book, which I highly recommend."
      ]
    },
    {
      "cell_type": "markdown",
      "metadata": {
        "id": "DzkbIw0KfxnG"
      },
      "source": [
        "# IV. Speeding Python: Timeit, Profiling, Cython, SWIG, and PyPy\n"
      ]
    },
    {
      "cell_type": "markdown",
      "metadata": {
        "id": "BpV9VyfHfxnG"
      },
      "source": [
        "The first rule of speeding up your code is not to do it at all. As Donald Knuth said:\n",
        "\n",
        "`\"We should forget about small efficiencies, say about 97% of the time: premature optimization is the root of all evil.\"`\n",
        "\n",
        "The second rule of speeding up your code is to only do it if you really think you need to do it. Python has two tools to help with this process: a timing program called timeit, and a very good code profiler. We will discuss both of these tools in this section, as well as techniques to use to speed up your code once you know it's too slow."
      ]
    },
    {
      "cell_type": "markdown",
      "metadata": {
        "id": "g6ZcG3ZJfxnH"
      },
      "source": [
        "## Timeit"
      ]
    },
    {
      "cell_type": "markdown",
      "metadata": {
        "id": "ZC5VtNFffxnH"
      },
      "source": [
        "**timeit** helps determine which of two similar routines is faster. Recall that some time ago we wrote a factorial routine, but also pointed out that Python had its own routine built into the math module. Is there any difference in the speed of the two? **timeit** helps us determine this. For example, **timeit** tells how long each method takes:"
      ]
    },
    {
      "cell_type": "code",
      "execution_count": null,
      "metadata": {
        "id": "ohk1yQzOfxnH"
      },
      "outputs": [],
      "source": [
        "%timeit factorial(20)"
      ]
    },
    {
      "cell_type": "markdown",
      "metadata": {
        "id": "3K4P04QQfxnH"
      },
      "source": [
        "The little % sign that we have in front of the timeit call is an example of an IPython magic function, which we don't have time to go into here, but it's just some little extra mojo that IPython adds to the functions to make it run better in the IPython environment. You can read more about it in the [IPython tutorial](https://ipython.readthedocs.io/en/stable/).\n",
        "\n",
        "In any case, the timeit function runs 7 loops, and tells us that it took on the average of 662 ns (or whatever your output reads) to compute 20!. In contrast:"
      ]
    },
    {
      "cell_type": "code",
      "execution_count": null,
      "metadata": {
        "id": "dmss72bGfxnH"
      },
      "outputs": [],
      "source": [
        "%timeit fact(20)"
      ]
    },
    {
      "cell_type": "markdown",
      "metadata": {
        "id": "adRrn7-9fxnH"
      },
      "source": [
        "the factorial function we wrote is much slower. This is because the built-in factorial function is written in C code and called from Python, and the version we wrote is written in plain old Python. A Python program has a lot of stuff in it that make it nice to interact with, but all that friendliness slows down the code. In contrast, the C code is less friendly but more efficient. If you want speed with as little effort as possible, write your code in an easy to program language like Python, but dump the slow parts into a faster language like C, and call it from Python. We'll go through some tricks to do this in this section."
      ]
    },
    {
      "cell_type": "markdown",
      "metadata": {
        "id": "bYB8FGUxfxnW"
      },
      "source": [
        "## Profiling"
      ]
    },
    {
      "cell_type": "markdown",
      "metadata": {
        "id": "OfmemdZ7fxnW"
      },
      "source": [
        "\n",
        "Profiling complements what **timeit** does by splitting the overall timing into the time spent in each function. It can give us a better understanding of what our program is really spending its time on.\n",
        "\n",
        "Suppose we want to create a list of even numbers. Our first effort yields this:"
      ]
    },
    {
      "cell_type": "code",
      "execution_count": null,
      "metadata": {
        "id": "HCBTOHqufxnX"
      },
      "outputs": [],
      "source": [
        "def evens(n):\n",
        "    \"Return a list of even numbers below n\"\n",
        "    l = []\n",
        "    for x in range(n):\n",
        "        if x % 2 == 0:\n",
        "            l.append(x)\n",
        "    return l"
      ]
    },
    {
      "cell_type": "markdown",
      "metadata": {
        "id": "DN9nvbmafxnX"
      },
      "source": [
        "Is this code fast enough? We find out by running the Python profiler on a longer run:\n",
        "\n"
      ]
    },
    {
      "cell_type": "code",
      "execution_count": null,
      "metadata": {
        "id": "TyeS9-XcfxnX"
      },
      "outputs": [],
      "source": [
        "import cProfile\n",
        "cProfile.run('evens(100000)')"
      ]
    },
    {
      "cell_type": "markdown",
      "metadata": {
        "id": "jS4BSlI-fxnX"
      },
      "source": [
        "This looks okay, 0.015 seconds (or whatever you read in your output) isn't a huge amount of time, but looking at the profiling shows that the append function is taking almost 20% of the time. Can we do better? Let's try a list comprehension."
      ]
    },
    {
      "cell_type": "code",
      "execution_count": null,
      "metadata": {
        "id": "jGnjiqBQfxnX"
      },
      "outputs": [],
      "source": [
        "def evens2(n):\n",
        "    \"Return a list of even numbers below n\"\n",
        "    return [x for x in range(n) if x % 2 == 0]"
      ]
    },
    {
      "cell_type": "code",
      "execution_count": null,
      "metadata": {
        "id": "e4qjWSQnfxnY"
      },
      "outputs": [],
      "source": [
        "import cProfile\n",
        "cProfile.run('evens2(100000)')"
      ]
    },
    {
      "cell_type": "markdown",
      "metadata": {
        "id": "lreNFpzTfxnY"
      },
      "source": [
        "By removing a small part of the code using a list comprehension, we've increased the overall speed of the code!\n",
        "\n",
        "It seems like **range** is taking a long time, still. Can we get rid of it? We can, using the **range** generator:"
      ]
    },
    {
      "cell_type": "code",
      "execution_count": null,
      "metadata": {
        "id": "aPz2yhkyfxnY"
      },
      "outputs": [],
      "source": [
        "def evens3(n):\n",
        "    \"Return a list of even numbers below n\"\n",
        "    return [x for x in range(n) if x % 2 == 0]"
      ]
    },
    {
      "cell_type": "code",
      "execution_count": null,
      "metadata": {
        "id": "ZizbCb9ifxnY"
      },
      "outputs": [],
      "source": [
        "import cProfile\n",
        "cProfile.run('evens3(100000)')"
      ]
    },
    {
      "cell_type": "markdown",
      "metadata": {
        "id": "9QvjIkwEfxnY"
      },
      "source": [
        "This is where profiling can be useful. Our code now runs much faster by making trivial changes. We wouldn't have thought to look in these places had we not had access to easy profiling. Imagine what you would find in more complicated programs."
      ]
    },
    {
      "cell_type": "markdown",
      "metadata": {
        "id": "OHDh9IlbfxnY"
      },
      "source": [
        "## Other Ways to Speed Python"
      ]
    },
    {
      "cell_type": "markdown",
      "metadata": {
        "id": "9ECgc8rXfxnY"
      },
      "source": [
        "When we compared the fact and factorial functions, above, we noted that C routines are often faster because they're more streamlined. Once we've determined that one routine is a bottleneck for the performance of a program, we can replace it with a faster version by writing it in C. This is called *extending* Python, and there's a [good section](https://docs.python.org/3/extending/extending.html) in the standard documents. This can be a tedious process if you have many different routines to convert. Fortunately, there are several other options.\n",
        "\n",
        "[Swig](http://swig.org/) (the simplified wrapper and interface generator) is a method to generate binding not only for Python but also for Matlab, Perl, Ruby, and other scripting languages. Swig can scan the header files of a C project and generate Python binding for it. Using Swig is substantially easier than writing the routines in C.\n",
        "\n",
        "[Cython](https://cython.org/) is a C-extension language. You can start by compiling a Python routine into a shared object libraries that can be imported into faster versions of the routines. You can then add additional static typing and make other restrictions to further speed the code. Cython is generally easier than using Swig.\n",
        "\n",
        "[PyPy](https://www.pypy.org/) is the easiest way of obtaining fast code. PyPy compiles Python to a subset of the Python language called RPython that can be efficiently compiled and optimized. Over a wide range of tests, PyPy is [much faster than the standard Python Distribution](https://speed.pypy.org/)."
      ]
    },
    {
      "cell_type": "markdown",
      "metadata": {
        "id": "4NarHdfhfxnY"
      },
      "source": [
        "# VII. References"
      ]
    },
    {
      "cell_type": "markdown",
      "metadata": {
        "id": "zbHH0mZRfxnY"
      },
      "source": [
        "## Learning Resources\n",
        "<ul>\n",
        "    <li><a href=\"https://docs.python.org/3/index.html\">Official Python Documentation</a>, including\n",
        "<ul>\n",
        "    <li><a href=\"https://docs.python.org/3/tutorial/index.html\">Python Tutorial</a>\n",
        "    <li><a href=\"https://docs.python.org/3/reference/index.html\">Python Language Reference<a>\n",
        "        </ul>\n",
        "        </ul>\n",
        "        \n"
      ]
    },
    {
      "cell_type": "markdown",
      "metadata": {
        "id": "kv3d66COfxnZ"
      },
      "source": [
        "## Packages for Scientists\n"
      ]
    },
    {
      "cell_type": "markdown",
      "metadata": {
        "id": "1cyUib-SfxnZ"
      },
      "source": [
        "Important libraries\n",
        "<ul>\n",
        "    <li><a href=\"https://www.python.org/\">Python</a>;\n",
        "    <li><a href=\"https://numpy.org/\">Numpy</a>, the core numerical extensions for linear algebra and multidimensional arrays;\n",
        "    <li><a href=\"https://scipy.org/\">Scipy</a>, additional libraries for scientific programming;\n",
        "    <li><a href=\"https://matplotlib.org/\">Matplotlib</a>, excellent plotting and graphing libraries;\n",
        "    <li><a href=\"http://ipython.org/\">IPython</a>, with the additional libraries required for the notebook interface.\n",
        "    <li><a href=\"http://ipython.org/\">Sympy</a>, symbolic math in Python\n",
        "    <li><a href=\"https://pandas.pydata.org/\">Pandas</a> library for big data in Python\n",
        "</ul>"
      ]
    },
    {
      "cell_type": "markdown",
      "metadata": {
        "id": "PVt_7PpcfxnZ"
      },
      "source": [
        "## Cool Stuff\n"
      ]
    },
    {
      "cell_type": "markdown",
      "metadata": {
        "id": "gazM7yIKfxnZ"
      },
      "source": [
        "<ul>\n",
        "    <li><a href=\"http://moinmo.in/\">Moin Moin</a>, a wiki written in Python\n",
        "    <li><a href=\"https://projecteuler.net/\">Project Euler</a>, programming problems that would (?) have interested Euler. Python is one of the most commonly used languages there.\n",
        "        </ul>"
      ]
    }
  ],
  "metadata": {
    "kernelspec": {
      "display_name": "Python 3 (ipykernel)",
      "language": "python",
      "name": "python3"
    },
    "language_info": {
      "codemirror_mode": {
        "name": "ipython",
        "version": 3
      },
      "file_extension": ".py",
      "mimetype": "text/x-python",
      "name": "python",
      "nbconvert_exporter": "python",
      "pygments_lexer": "ipython3",
      "version": "3.12.2"
    },
    "colab": {
      "provenance": [],
      "include_colab_link": true
    }
  },
  "nbformat": 4,
  "nbformat_minor": 0
}