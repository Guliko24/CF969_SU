{
  "cells": [
    {
      "cell_type": "markdown",
      "metadata": {
        "id": "view-in-github",
        "colab_type": "text"
      },
      "source": [
        "<a href=\"https://colab.research.google.com/github/Guliko24/CF969_SU/blob/main/Lab_5_Tensorflow_ipynb_json.ipynb\" target=\"_parent\"><img src=\"https://colab.research.google.com/assets/colab-badge.svg\" alt=\"Open In Colab\"/></a>"
      ]
    },
    {
      "cell_type": "markdown",
      "metadata": {
        "id": "uRIRwDxnhUjr"
      },
      "source": [
        "### CF969 - Big Data for Computational Finance\n",
        "## Lab 5: Introduction to TensorFlow\n",
        "\n",
        "TensorFlow is a Python library developed by Google which is ideal for working with neural networks and deep learning.\n",
        "It has the following especially useful features:\n",
        "* Fast tensor and matrix multiplication (using GPU if present)\n",
        "* Built-in automatic symbolic differentiation\n",
        "    * In particular, built-in algorithms for back-propagation\n",
        "* Lots of neural network structures are included:\n",
        "    * Feed-forward neural networks,\n",
        "    * Convolutional Networks,\n",
        "    * Recurrent Neural Networks,\n",
        "    * LSTMs.\n",
        "    * (You might not be familiar with some of the above items in the list. We will learn about these in later lectures.)\n",
        "* Lots of optimisation algorithms are included\n",
        "    * Stochastic Gradient Descent,\n",
        "    * RMSprop,\n",
        "    * Adam.\n",
        "    * (In the lectures we only cover Stochastic Gradient Descent. The other two I just mentioned are in some sense variations on this, and in general this holds for most optimisation algorithms used for training neural networks.)\n",
        "\n",
        "The present Notebook for this lab is based on a corresponding notebook written by Bart de Keijzer and on a tutorial and a big set of slides created by Dr. Michael Fairbank. Some of the Python code scripts here are based on code from tensorflow.org and from https://github.com/aymericdamien/TensorFlow-Examples/, by Aymeric Damien.\n",
        "\n",
        "When going through these notes, please experiment with the pieces of code, take your time with them, and look up the meaning of the various statements in the online TensorFlow documentation whenever you do not fully understand what is happening.\n",
        "\n",
        "## Basics\n",
        "\n",
        "We start with writing a simple program in TensorFlow that outputs the string \"Hello world!\"."
      ]
    },
    {
      "cell_type": "code",
      "execution_count": 1,
      "metadata": {
        "colab": {
          "base_uri": "https://localhost:8080/"
        },
        "id": "L21KyPgPhUjs",
        "outputId": "fd2665e6-acc2-4057-9d13-220d4054c0e9"
      },
      "outputs": [
        {
          "output_type": "stream",
          "name": "stdout",
          "text": [
            "tf.Tensor(b'Hello World!', shape=(), dtype=string)\n",
            "b'Hello World!'\n"
          ]
        }
      ],
      "source": [
        "import tensorflow as tf\n",
        "import numpy as np\n",
        "hello = tf.constant(\"Hello World!\")\n",
        "print(hello)\n",
        "print(hello.numpy())"
      ]
    },
    {
      "cell_type": "markdown",
      "metadata": {
        "id": "g363rfbGhUjt"
      },
      "source": [
        "TensorFlow works with tensors as its elementary data object. A tensor is a generalisation of a matrix to higher dimensions. The number of dimensions of a tensor is called the _rank_ of the tensor. Here are some examples.\n",
        "* The rank of [1 2 3 4] is 1;\n",
        "* The rank of [[1 2],[3 4]] is 2 (Here I wrote down a 2 by 2 matrix on a single line);\n",
        "* The rank of 2 (i.e., a scalar) is 0.\n",
        "\n",
        "In TensorFlow the aim should be to build our code as much as possible out of tensors and matrix multiplications. This ultimately allows to \"outsource\" such operations to the GPU of your computer, as GPUs are generally very efficient at executing fast matrix multiplications.\n",
        "\n",
        "(For an explanation of the meaning of the 'b' in front of the output, see: https://stackoverflow.com/questions/6269765/what-does-the-b-character-do-in-front-of-a-string-literal)\n",
        "\n",
        "Let's go over some simple example code and analyse it."
      ]
    },
    {
      "cell_type": "code",
      "execution_count": 2,
      "metadata": {
        "colab": {
          "base_uri": "https://localhost:8080/"
        },
        "id": "5LXnFJXwhUjt",
        "outputId": "b01e9c5b-5fc0-4c73-87f1-14c75485b71f"
      },
      "outputs": [
        {
          "output_type": "stream",
          "name": "stdout",
          "text": [
            "tf.Tensor(5, shape=(), dtype=int32)\n",
            "5\n"
          ]
        }
      ],
      "source": [
        "a=tf.constant(2)\n",
        "b=tf.constant(3)\n",
        "c=tf.add(a,b)\n",
        "print(c)\n",
        "print(c.numpy())"
      ]
    },
    {
      "cell_type": "markdown",
      "metadata": {
        "id": "cdTHkCAQhUju"
      },
      "source": [
        "The first two lines define two tensors of rank 0, i.e., two _scalars_. The next line adds them together to form the rank 0 tensor named _c_. The final two lines print the content of c. Observe that if we care only about the numerical value of c, we must call c.numpy()."
      ]
    },
    {
      "cell_type": "markdown",
      "metadata": {
        "id": "L4a2EN0WhUjv"
      },
      "source": [
        "We can do the same with 2D tensors, i.e., matrices. Addition of tensors in TensorFlow is defined element-wise."
      ]
    },
    {
      "cell_type": "code",
      "execution_count": 14,
      "metadata": {
        "colab": {
          "base_uri": "https://localhost:8080/"
        },
        "id": "AWqH9m02hUjv",
        "outputId": "2c008a63-b383-4e5c-c8e6-4f8d4849f566"
      },
      "outputs": [
        {
          "output_type": "stream",
          "name": "stdout",
          "text": [
            "tf.Tensor(\n",
            "[[ 6  8]\n",
            " [11 13]], shape=(2, 2), dtype=int32)\n",
            "[[ 6  8]\n",
            " [11 13]]\n"
          ]
        }
      ],
      "source": [
        "a=tf.constant([[1,2],[3,4]])\n",
        "b=tf.constant([[5,6],[8,9]])\n",
        "c=tf.add(a,b)\n",
        "print(c)\n",
        "print(c.numpy())"
      ]
    },
    {
      "cell_type": "markdown",
      "metadata": {
        "id": "HbYvP0Z3hUjv"
      },
      "source": [
        "Observe the above syntax for specifying a 2D tensor. You should be able to infer from this example how to define a 3D tensor."
      ]
    },
    {
      "cell_type": "code",
      "execution_count": 16,
      "metadata": {
        "colab": {
          "base_uri": "https://localhost:8080/"
        },
        "id": "MWd0GxL7hUjw",
        "outputId": "7002351d-9a20-4a84-ba1e-007d4409ca17"
      },
      "outputs": [
        {
          "output_type": "stream",
          "name": "stdout",
          "text": [
            "TensorFlow tensor c:\n",
            "tf.Tensor(\n",
            "[[[14 16 18]\n",
            "  [20 22 24]]\n",
            "\n",
            " [[26 28 30]\n",
            "  [32 34 36]]], shape=(2, 2, 3), dtype=int32)\n",
            "NumPy array c:\n",
            "[[[14 16 18]\n",
            "  [20 22 24]]\n",
            "\n",
            " [[26 28 30]\n",
            "  [32 34 36]]]\n"
          ]
        }
      ],
      "source": [
        "# Exercise: Define two 3D tensors of the same shape and add them together.\n",
        "\n",
        "import tensorflow as tf\n",
        "\n",
        "# Define the 3D constant tensors\n",
        "a = tf.constant([[[1, 2, 3], [4, 5, 6]], [[7, 8, 9], [10, 11, 12]]])\n",
        "b = tf.constant([[[13, 14, 15], [16, 17, 18]], [[19, 20, 21], [22, 23, 24]]])\n",
        "\n",
        "d=tf.constant([[[1, 2, 3], [4, 5, 6]], [[7, 8, 9], [10, 11, 12]]])\n",
        "\n",
        "# Add the tensors\n",
        "c = tf.add(a, b, d)\n",
        "\n",
        "# Print the TensorFlow tensor\n",
        "print(\"TensorFlow tensor c:\")\n",
        "print(c)\n",
        "\n",
        "# Convert the TensorFlow tensor to a NumPy array and print it\n",
        "print(\"NumPy array c:\")\n",
        "print(c.numpy())\n",
        "\n",
        "#NOTE the 3rd tensor was NOT added because tf.add can only add 2 tensors, for more I need to do sequential additions"
      ]
    },
    {
      "cell_type": "markdown",
      "metadata": {
        "id": "gGjNxSLChUjw"
      },
      "source": [
        "The function _multiply_ in tensorflow performs element-wise multiplication on tensors. This operations is also referred to as the [Hadamard product](https://en.wikipedia.org/wiki/Hadamard_product_(matrices)). Note that this is _not_ the same as matrix multiplication when performed on 2D tensors."
      ]
    },
    {
      "cell_type": "code",
      "execution_count": 17,
      "metadata": {
        "colab": {
          "base_uri": "https://localhost:8080/"
        },
        "id": "dxkAN7gVhUjx",
        "outputId": "9aad7df6-3b4e-4c4d-b009-9dd8a254f81f"
      },
      "outputs": [
        {
          "output_type": "stream",
          "name": "stdout",
          "text": [
            "tf.Tensor(\n",
            "[[ 5 12]\n",
            " [24 36]], shape=(2, 2), dtype=int32)\n",
            "[[ 5 12]\n",
            " [24 36]]\n"
          ]
        }
      ],
      "source": [
        "a=tf.constant([[1,2],[3,4]])\n",
        "b=tf.constant([[5,6],[8,9]])\n",
        "c=tf.multiply(a,b)\n",
        "print(c)\n",
        "print(c.numpy())"
      ]
    },
    {
      "cell_type": "markdown",
      "metadata": {
        "id": "32smJLBQhUjx"
      },
      "source": [
        "The function _matmul_ performs matrix multiplication. It works whenever the number of columns of the first 2D tensor equals the number of rows of the second 2D tensor. In case we only care directly about the numerical result, we can use np.matmul instead of tf.matmul (see below)."
      ]
    },
    {
      "cell_type": "code",
      "execution_count": 18,
      "metadata": {
        "colab": {
          "base_uri": "https://localhost:8080/"
        },
        "id": "A2jiQNDvhUjx",
        "outputId": "c554ee9f-d384-4c20-dbe7-eb95875aa689"
      },
      "outputs": [
        {
          "output_type": "stream",
          "name": "stdout",
          "text": [
            "tf.Tensor(\n",
            "[[ 6.5]\n",
            " [13. ]], shape=(2, 1), dtype=float32)\n",
            "[[ 6.5]\n",
            " [13. ]]\n"
          ]
        }
      ],
      "source": [
        "a=tf.constant([[1.5,2],[3,4]], tf.float32)\n",
        "b=tf.constant([[1],[2.5]], tf.float32)\n",
        "c=tf.matmul(a,b)\n",
        "print(c)\n",
        "print(c.numpy())"
      ]
    },
    {
      "cell_type": "code",
      "execution_count": 7,
      "metadata": {
        "colab": {
          "base_uri": "https://localhost:8080/"
        },
        "id": "dkY1dk8ghUjy",
        "outputId": "d60db25a-c501-4920-ff38-6709b02f1c81"
      },
      "outputs": [
        {
          "output_type": "stream",
          "name": "stdout",
          "text": [
            "[[ 6.5]\n",
            " [13. ]]\n"
          ]
        }
      ],
      "source": [
        "a=tf.constant([[1.5,2],[3,4]], tf.float32)\n",
        "b=tf.constant([[1],[2.5]], tf.float32)\n",
        "c=np.matmul(a,b)\n",
        "print(c)"
      ]
    },
    {
      "cell_type": "markdown",
      "metadata": {
        "id": "Lj-07VBHhUjy"
      },
      "source": [
        "## Types and Casting\n",
        "\n",
        "When you create a tensor, it is good practice to specify its datatype, in our above code we did so in some cases (where we specified *tf.float32*), but there were also cases where we omitted this. Omitting it will make TensorFlow default to using the _int32_ (i.e., a 32 bit integer number) or _float32_ datatype, depending on whether you write a number with a decimal point included."
      ]
    },
    {
      "cell_type": "code",
      "execution_count": 8,
      "metadata": {
        "id": "UjbMRwmAhUjy"
      },
      "outputs": [],
      "source": [
        "a=tf.constant(3.2, tf.float32)\n",
        "b=tf.constant(3, tf.int32)\n",
        "c=tf.constant([1,2,3], tf.float32)\n",
        "d=tf.constant(5)\n",
        "e=tf.constant(5.0)"
      ]
    },
    {
      "cell_type": "markdown",
      "metadata": {
        "id": "mOaxNiBWhUjy"
      },
      "source": [
        "In the first three lines of the code above, we specified the datatype. In the fourth line, d has type _int32_ and in the fifth line, e has type _float32_. There are other data types, such as *float64*, *int64*, and *bool*.\n",
        "Data types can be converted to each other using _cast_."
      ]
    },
    {
      "cell_type": "code",
      "execution_count": 9,
      "metadata": {
        "colab": {
          "base_uri": "https://localhost:8080/"
        },
        "id": "AdaDSRG_hUjy",
        "outputId": "6c516214-fb2d-45e2-99d8-c2500da931be"
      },
      "outputs": [
        {
          "output_type": "stream",
          "name": "stdout",
          "text": [
            "tf.Tensor(\n",
            "[[ 1  2]\n",
            " [ 3 -4]], shape=(2, 2), dtype=int32)\n"
          ]
        }
      ],
      "source": [
        "a=tf.constant([[1.0,2.0],[3.0,-4.0]],tf.float32)\n",
        "print(tf.cast(a,tf.int32))"
      ]
    },
    {
      "cell_type": "markdown",
      "metadata": {
        "id": "-vByLY8ShUjy"
      },
      "source": [
        "Note that the output matrix is indeed an _int32_ matrix, otherwise the decimal points would be shown in the output. Casting floats to ints will result in rounding down the fractional parts of the numbers."
      ]
    },
    {
      "cell_type": "code",
      "execution_count": 10,
      "metadata": {
        "colab": {
          "base_uri": "https://localhost:8080/"
        },
        "id": "sbSSE-IMhUjz",
        "outputId": "d2f93c14-4074-442d-8ea5-c46181976ed3"
      },
      "outputs": [
        {
          "output_type": "stream",
          "name": "stdout",
          "text": [
            "tf.Tensor(\n",
            "[[ 1  2]\n",
            " [ 3 -4]], shape=(2, 2), dtype=int32)\n"
          ]
        }
      ],
      "source": [
        "a=tf.constant([[1.7,2.3],[3.0,-4.0]],tf.float32)\n",
        "print(tf.cast(a,tf.int32))"
      ]
    },
    {
      "cell_type": "markdown",
      "metadata": {
        "id": "ooIbiT4chUj0"
      },
      "source": [
        "Casting bools to ints will result in conversion of _true_ values to 1s, and _false_ values to 0s."
      ]
    },
    {
      "cell_type": "code",
      "execution_count": 11,
      "metadata": {
        "colab": {
          "base_uri": "https://localhost:8080/"
        },
        "id": "htUFK-IYhUj0",
        "outputId": "961b8368-489a-401f-f1e3-9263a2c09e76"
      },
      "outputs": [
        {
          "output_type": "stream",
          "name": "stdout",
          "text": [
            "tf.Tensor([1 0 1], shape=(3,), dtype=int32)\n"
          ]
        }
      ],
      "source": [
        "b=tf.constant([True, False, True], tf.bool)\n",
        "print(tf.cast(b,tf.int32))"
      ]
    },
    {
      "cell_type": "markdown",
      "metadata": {
        "id": "FufHYSO9hUj0"
      },
      "source": [
        "If datatypes do not match, many basic operations will fail:"
      ]
    },
    {
      "cell_type": "code",
      "execution_count": 19,
      "metadata": {
        "colab": {
          "base_uri": "https://localhost:8080/",
          "height": 322
        },
        "id": "cj7RAmtkhUj0",
        "outputId": "cc616de6-8797-4195-a71a-426feb30bfdc"
      },
      "outputs": [
        {
          "output_type": "error",
          "ename": "InvalidArgumentError",
          "evalue": "cannot compute AddV2 as input #1(zero-based) was expected to be a float tensor but is a int32 tensor [Op:AddV2] name: ",
          "traceback": [
            "\u001b[0;31m---------------------------------------------------------------------------\u001b[0m",
            "\u001b[0;31mInvalidArgumentError\u001b[0m                      Traceback (most recent call last)",
            "\u001b[0;32m<ipython-input-19-469ef3b5f18b>\u001b[0m in \u001b[0;36m<cell line: 3>\u001b[0;34m()\u001b[0m\n\u001b[1;32m      1\u001b[0m \u001b[0ma\u001b[0m\u001b[0;34m=\u001b[0m\u001b[0mtf\u001b[0m\u001b[0;34m.\u001b[0m\u001b[0mconstant\u001b[0m\u001b[0;34m(\u001b[0m\u001b[0;36m3.0\u001b[0m\u001b[0;34m,\u001b[0m \u001b[0mtf\u001b[0m\u001b[0;34m.\u001b[0m\u001b[0mfloat32\u001b[0m\u001b[0;34m)\u001b[0m\u001b[0;34m\u001b[0m\u001b[0;34m\u001b[0m\u001b[0m\n\u001b[1;32m      2\u001b[0m \u001b[0mb\u001b[0m\u001b[0;34m=\u001b[0m\u001b[0mtf\u001b[0m\u001b[0;34m.\u001b[0m\u001b[0mconstant\u001b[0m\u001b[0;34m(\u001b[0m\u001b[0;36m3\u001b[0m\u001b[0;34m,\u001b[0m \u001b[0mtf\u001b[0m\u001b[0;34m.\u001b[0m\u001b[0mint32\u001b[0m\u001b[0;34m)\u001b[0m\u001b[0;34m\u001b[0m\u001b[0;34m\u001b[0m\u001b[0m\n\u001b[0;32m----> 3\u001b[0;31m \u001b[0mc\u001b[0m\u001b[0;34m=\u001b[0m\u001b[0mtf\u001b[0m\u001b[0;34m.\u001b[0m\u001b[0madd\u001b[0m\u001b[0;34m(\u001b[0m\u001b[0ma\u001b[0m\u001b[0;34m,\u001b[0m\u001b[0mb\u001b[0m\u001b[0;34m)\u001b[0m\u001b[0;34m\u001b[0m\u001b[0;34m\u001b[0m\u001b[0m\n\u001b[0m",
            "\u001b[0;32m/usr/local/lib/python3.10/dist-packages/tensorflow/python/ops/weak_tensor_ops.py\u001b[0m in \u001b[0;36mwrapper\u001b[0;34m(*args, **kwargs)\u001b[0m\n\u001b[1;32m    140\u001b[0m   \u001b[0;32mdef\u001b[0m \u001b[0mwrapper\u001b[0m\u001b[0;34m(\u001b[0m\u001b[0;34m*\u001b[0m\u001b[0margs\u001b[0m\u001b[0;34m,\u001b[0m \u001b[0;34m**\u001b[0m\u001b[0mkwargs\u001b[0m\u001b[0;34m)\u001b[0m\u001b[0;34m:\u001b[0m\u001b[0;34m\u001b[0m\u001b[0;34m\u001b[0m\u001b[0m\n\u001b[1;32m    141\u001b[0m     \u001b[0;32mif\u001b[0m \u001b[0;32mnot\u001b[0m \u001b[0mops\u001b[0m\u001b[0;34m.\u001b[0m\u001b[0mis_auto_dtype_conversion_enabled\u001b[0m\u001b[0;34m(\u001b[0m\u001b[0;34m)\u001b[0m\u001b[0;34m:\u001b[0m\u001b[0;34m\u001b[0m\u001b[0;34m\u001b[0m\u001b[0m\n\u001b[0;32m--> 142\u001b[0;31m       \u001b[0;32mreturn\u001b[0m \u001b[0mop\u001b[0m\u001b[0;34m(\u001b[0m\u001b[0;34m*\u001b[0m\u001b[0margs\u001b[0m\u001b[0;34m,\u001b[0m \u001b[0;34m**\u001b[0m\u001b[0mkwargs\u001b[0m\u001b[0;34m)\u001b[0m\u001b[0;34m\u001b[0m\u001b[0;34m\u001b[0m\u001b[0m\n\u001b[0m\u001b[1;32m    143\u001b[0m     \u001b[0mbound_arguments\u001b[0m \u001b[0;34m=\u001b[0m \u001b[0msignature\u001b[0m\u001b[0;34m.\u001b[0m\u001b[0mbind\u001b[0m\u001b[0;34m(\u001b[0m\u001b[0;34m*\u001b[0m\u001b[0margs\u001b[0m\u001b[0;34m,\u001b[0m \u001b[0;34m**\u001b[0m\u001b[0mkwargs\u001b[0m\u001b[0;34m)\u001b[0m\u001b[0;34m\u001b[0m\u001b[0;34m\u001b[0m\u001b[0m\n\u001b[1;32m    144\u001b[0m     \u001b[0mbound_arguments\u001b[0m\u001b[0;34m.\u001b[0m\u001b[0mapply_defaults\u001b[0m\u001b[0;34m(\u001b[0m\u001b[0;34m)\u001b[0m\u001b[0;34m\u001b[0m\u001b[0;34m\u001b[0m\u001b[0m\n",
            "\u001b[0;32m/usr/local/lib/python3.10/dist-packages/tensorflow/python/util/traceback_utils.py\u001b[0m in \u001b[0;36merror_handler\u001b[0;34m(*args, **kwargs)\u001b[0m\n\u001b[1;32m    151\u001b[0m     \u001b[0;32mexcept\u001b[0m \u001b[0mException\u001b[0m \u001b[0;32mas\u001b[0m \u001b[0me\u001b[0m\u001b[0;34m:\u001b[0m\u001b[0;34m\u001b[0m\u001b[0;34m\u001b[0m\u001b[0m\n\u001b[1;32m    152\u001b[0m       \u001b[0mfiltered_tb\u001b[0m \u001b[0;34m=\u001b[0m \u001b[0m_process_traceback_frames\u001b[0m\u001b[0;34m(\u001b[0m\u001b[0me\u001b[0m\u001b[0;34m.\u001b[0m\u001b[0m__traceback__\u001b[0m\u001b[0;34m)\u001b[0m\u001b[0;34m\u001b[0m\u001b[0;34m\u001b[0m\u001b[0m\n\u001b[0;32m--> 153\u001b[0;31m       \u001b[0;32mraise\u001b[0m \u001b[0me\u001b[0m\u001b[0;34m.\u001b[0m\u001b[0mwith_traceback\u001b[0m\u001b[0;34m(\u001b[0m\u001b[0mfiltered_tb\u001b[0m\u001b[0;34m)\u001b[0m \u001b[0;32mfrom\u001b[0m \u001b[0;32mNone\u001b[0m\u001b[0;34m\u001b[0m\u001b[0;34m\u001b[0m\u001b[0m\n\u001b[0m\u001b[1;32m    154\u001b[0m     \u001b[0;32mfinally\u001b[0m\u001b[0;34m:\u001b[0m\u001b[0;34m\u001b[0m\u001b[0;34m\u001b[0m\u001b[0m\n\u001b[1;32m    155\u001b[0m       \u001b[0;32mdel\u001b[0m \u001b[0mfiltered_tb\u001b[0m\u001b[0;34m\u001b[0m\u001b[0;34m\u001b[0m\u001b[0m\n",
            "\u001b[0;32m/usr/local/lib/python3.10/dist-packages/tensorflow/python/framework/ops.py\u001b[0m in \u001b[0;36mraise_from_not_ok_status\u001b[0;34m(e, name)\u001b[0m\n\u001b[1;32m   5881\u001b[0m \u001b[0;32mdef\u001b[0m \u001b[0mraise_from_not_ok_status\u001b[0m\u001b[0;34m(\u001b[0m\u001b[0me\u001b[0m\u001b[0;34m,\u001b[0m \u001b[0mname\u001b[0m\u001b[0;34m)\u001b[0m \u001b[0;34m->\u001b[0m \u001b[0mNoReturn\u001b[0m\u001b[0;34m:\u001b[0m\u001b[0;34m\u001b[0m\u001b[0;34m\u001b[0m\u001b[0m\n\u001b[1;32m   5882\u001b[0m   \u001b[0me\u001b[0m\u001b[0;34m.\u001b[0m\u001b[0mmessage\u001b[0m \u001b[0;34m+=\u001b[0m \u001b[0;34m(\u001b[0m\u001b[0;34m\" name: \"\u001b[0m \u001b[0;34m+\u001b[0m \u001b[0mstr\u001b[0m\u001b[0;34m(\u001b[0m\u001b[0mname\u001b[0m \u001b[0;32mif\u001b[0m \u001b[0mname\u001b[0m \u001b[0;32mis\u001b[0m \u001b[0;32mnot\u001b[0m \u001b[0;32mNone\u001b[0m \u001b[0;32melse\u001b[0m \u001b[0;34m\"\"\u001b[0m\u001b[0;34m)\u001b[0m\u001b[0;34m)\u001b[0m\u001b[0;34m\u001b[0m\u001b[0;34m\u001b[0m\u001b[0m\n\u001b[0;32m-> 5883\u001b[0;31m   \u001b[0;32mraise\u001b[0m \u001b[0mcore\u001b[0m\u001b[0;34m.\u001b[0m\u001b[0m_status_to_exception\u001b[0m\u001b[0;34m(\u001b[0m\u001b[0me\u001b[0m\u001b[0;34m)\u001b[0m \u001b[0;32mfrom\u001b[0m \u001b[0;32mNone\u001b[0m  \u001b[0;31m# pylint: disable=protected-access\u001b[0m\u001b[0;34m\u001b[0m\u001b[0;34m\u001b[0m\u001b[0m\n\u001b[0m\u001b[1;32m   5884\u001b[0m \u001b[0;34m\u001b[0m\u001b[0m\n\u001b[1;32m   5885\u001b[0m \u001b[0;34m\u001b[0m\u001b[0m\n",
            "\u001b[0;31mInvalidArgumentError\u001b[0m: cannot compute AddV2 as input #1(zero-based) was expected to be a float tensor but is a int32 tensor [Op:AddV2] name: "
          ]
        }
      ],
      "source": [
        "a=tf.constant(3.0, tf.float32)\n",
        "b=tf.constant(3, tf.int32)\n",
        "c=tf.add(a,b)"
      ]
    },
    {
      "cell_type": "markdown",
      "metadata": {
        "id": "_ATgq70LhUj0"
      },
      "source": [
        "In order to do the above successfully, we should use _cast_."
      ]
    },
    {
      "cell_type": "code",
      "execution_count": 20,
      "metadata": {
        "colab": {
          "base_uri": "https://localhost:8080/"
        },
        "id": "J1K46UzehUj1",
        "outputId": "a29ca0c1-e26c-4bf7-ee4c-a69fcbb35a7c"
      },
      "outputs": [
        {
          "output_type": "stream",
          "name": "stdout",
          "text": [
            "tf.Tensor(6.0, shape=(), dtype=float32)\n"
          ]
        }
      ],
      "source": [
        "c=tf.add(a,tf.cast(b,tf.float32))\n",
        "print(c)"
      ]
    },
    {
      "cell_type": "markdown",
      "metadata": {
        "id": "xwKW0kRKhUj1"
      },
      "source": [
        "## Shapes, Broadcasting, and Shorthands\n",
        "\n",
        "The shape of a tensor denotes the rank $r$ and the number of entries in each of the $r$ dimensions. For many basic operations on two tensors, the shapes must match. (But not for all, such as for _matmul_. For _matmul_ there are other constraints on the shape of the operands.)"
      ]
    },
    {
      "cell_type": "code",
      "execution_count": 21,
      "metadata": {
        "colab": {
          "base_uri": "https://localhost:8080/",
          "height": 322
        },
        "id": "IEooRUCAhUj1",
        "outputId": "a2cdb146-753a-47bf-f49a-b15a57c7a48c"
      },
      "outputs": [
        {
          "output_type": "error",
          "ename": "InvalidArgumentError",
          "evalue": "{{function_node __wrapped__AddV2_device_/job:localhost/replica:0/task:0/device:CPU:0}} Incompatible shapes: [2] vs. [3] [Op:AddV2] name: ",
          "traceback": [
            "\u001b[0;31m---------------------------------------------------------------------------\u001b[0m",
            "\u001b[0;31mInvalidArgumentError\u001b[0m                      Traceback (most recent call last)",
            "\u001b[0;32m<ipython-input-21-9986a52507cb>\u001b[0m in \u001b[0;36m<cell line: 3>\u001b[0;34m()\u001b[0m\n\u001b[1;32m      1\u001b[0m \u001b[0ma\u001b[0m\u001b[0;34m=\u001b[0m\u001b[0mtf\u001b[0m\u001b[0;34m.\u001b[0m\u001b[0mconstant\u001b[0m\u001b[0;34m(\u001b[0m\u001b[0;34m[\u001b[0m\u001b[0;36m1\u001b[0m\u001b[0;34m,\u001b[0m\u001b[0;36m2\u001b[0m\u001b[0;34m]\u001b[0m\u001b[0;34m)\u001b[0m\u001b[0;34m\u001b[0m\u001b[0;34m\u001b[0m\u001b[0m\n\u001b[1;32m      2\u001b[0m \u001b[0mb\u001b[0m\u001b[0;34m=\u001b[0m\u001b[0mtf\u001b[0m\u001b[0;34m.\u001b[0m\u001b[0mconstant\u001b[0m\u001b[0;34m(\u001b[0m\u001b[0;34m[\u001b[0m\u001b[0;36m2\u001b[0m\u001b[0;34m,\u001b[0m\u001b[0;36m3\u001b[0m\u001b[0;34m,\u001b[0m\u001b[0;36m1\u001b[0m\u001b[0;34m]\u001b[0m\u001b[0;34m)\u001b[0m\u001b[0;34m\u001b[0m\u001b[0;34m\u001b[0m\u001b[0m\n\u001b[0;32m----> 3\u001b[0;31m \u001b[0mf\u001b[0m\u001b[0;34m=\u001b[0m\u001b[0mtf\u001b[0m\u001b[0;34m.\u001b[0m\u001b[0mconstant\u001b[0m\u001b[0;34m(\u001b[0m\u001b[0mtf\u001b[0m\u001b[0;34m.\u001b[0m\u001b[0madd\u001b[0m\u001b[0;34m(\u001b[0m\u001b[0ma\u001b[0m\u001b[0;34m,\u001b[0m\u001b[0mb\u001b[0m\u001b[0;34m)\u001b[0m\u001b[0;34m)\u001b[0m\u001b[0;34m\u001b[0m\u001b[0;34m\u001b[0m\u001b[0m\n\u001b[0m",
            "\u001b[0;32m/usr/local/lib/python3.10/dist-packages/tensorflow/python/ops/weak_tensor_ops.py\u001b[0m in \u001b[0;36mwrapper\u001b[0;34m(*args, **kwargs)\u001b[0m\n\u001b[1;32m    140\u001b[0m   \u001b[0;32mdef\u001b[0m \u001b[0mwrapper\u001b[0m\u001b[0;34m(\u001b[0m\u001b[0;34m*\u001b[0m\u001b[0margs\u001b[0m\u001b[0;34m,\u001b[0m \u001b[0;34m**\u001b[0m\u001b[0mkwargs\u001b[0m\u001b[0;34m)\u001b[0m\u001b[0;34m:\u001b[0m\u001b[0;34m\u001b[0m\u001b[0;34m\u001b[0m\u001b[0m\n\u001b[1;32m    141\u001b[0m     \u001b[0;32mif\u001b[0m \u001b[0;32mnot\u001b[0m \u001b[0mops\u001b[0m\u001b[0;34m.\u001b[0m\u001b[0mis_auto_dtype_conversion_enabled\u001b[0m\u001b[0;34m(\u001b[0m\u001b[0;34m)\u001b[0m\u001b[0;34m:\u001b[0m\u001b[0;34m\u001b[0m\u001b[0;34m\u001b[0m\u001b[0m\n\u001b[0;32m--> 142\u001b[0;31m       \u001b[0;32mreturn\u001b[0m \u001b[0mop\u001b[0m\u001b[0;34m(\u001b[0m\u001b[0;34m*\u001b[0m\u001b[0margs\u001b[0m\u001b[0;34m,\u001b[0m \u001b[0;34m**\u001b[0m\u001b[0mkwargs\u001b[0m\u001b[0;34m)\u001b[0m\u001b[0;34m\u001b[0m\u001b[0;34m\u001b[0m\u001b[0m\n\u001b[0m\u001b[1;32m    143\u001b[0m     \u001b[0mbound_arguments\u001b[0m \u001b[0;34m=\u001b[0m \u001b[0msignature\u001b[0m\u001b[0;34m.\u001b[0m\u001b[0mbind\u001b[0m\u001b[0;34m(\u001b[0m\u001b[0;34m*\u001b[0m\u001b[0margs\u001b[0m\u001b[0;34m,\u001b[0m \u001b[0;34m**\u001b[0m\u001b[0mkwargs\u001b[0m\u001b[0;34m)\u001b[0m\u001b[0;34m\u001b[0m\u001b[0;34m\u001b[0m\u001b[0m\n\u001b[1;32m    144\u001b[0m     \u001b[0mbound_arguments\u001b[0m\u001b[0;34m.\u001b[0m\u001b[0mapply_defaults\u001b[0m\u001b[0;34m(\u001b[0m\u001b[0;34m)\u001b[0m\u001b[0;34m\u001b[0m\u001b[0;34m\u001b[0m\u001b[0m\n",
            "\u001b[0;32m/usr/local/lib/python3.10/dist-packages/tensorflow/python/util/traceback_utils.py\u001b[0m in \u001b[0;36merror_handler\u001b[0;34m(*args, **kwargs)\u001b[0m\n\u001b[1;32m    151\u001b[0m     \u001b[0;32mexcept\u001b[0m \u001b[0mException\u001b[0m \u001b[0;32mas\u001b[0m \u001b[0me\u001b[0m\u001b[0;34m:\u001b[0m\u001b[0;34m\u001b[0m\u001b[0;34m\u001b[0m\u001b[0m\n\u001b[1;32m    152\u001b[0m       \u001b[0mfiltered_tb\u001b[0m \u001b[0;34m=\u001b[0m \u001b[0m_process_traceback_frames\u001b[0m\u001b[0;34m(\u001b[0m\u001b[0me\u001b[0m\u001b[0;34m.\u001b[0m\u001b[0m__traceback__\u001b[0m\u001b[0;34m)\u001b[0m\u001b[0;34m\u001b[0m\u001b[0;34m\u001b[0m\u001b[0m\n\u001b[0;32m--> 153\u001b[0;31m       \u001b[0;32mraise\u001b[0m \u001b[0me\u001b[0m\u001b[0;34m.\u001b[0m\u001b[0mwith_traceback\u001b[0m\u001b[0;34m(\u001b[0m\u001b[0mfiltered_tb\u001b[0m\u001b[0;34m)\u001b[0m \u001b[0;32mfrom\u001b[0m \u001b[0;32mNone\u001b[0m\u001b[0;34m\u001b[0m\u001b[0;34m\u001b[0m\u001b[0m\n\u001b[0m\u001b[1;32m    154\u001b[0m     \u001b[0;32mfinally\u001b[0m\u001b[0;34m:\u001b[0m\u001b[0;34m\u001b[0m\u001b[0;34m\u001b[0m\u001b[0m\n\u001b[1;32m    155\u001b[0m       \u001b[0;32mdel\u001b[0m \u001b[0mfiltered_tb\u001b[0m\u001b[0;34m\u001b[0m\u001b[0;34m\u001b[0m\u001b[0m\n",
            "\u001b[0;32m/usr/local/lib/python3.10/dist-packages/tensorflow/python/framework/ops.py\u001b[0m in \u001b[0;36mraise_from_not_ok_status\u001b[0;34m(e, name)\u001b[0m\n\u001b[1;32m   5881\u001b[0m \u001b[0;32mdef\u001b[0m \u001b[0mraise_from_not_ok_status\u001b[0m\u001b[0;34m(\u001b[0m\u001b[0me\u001b[0m\u001b[0;34m,\u001b[0m \u001b[0mname\u001b[0m\u001b[0;34m)\u001b[0m \u001b[0;34m->\u001b[0m \u001b[0mNoReturn\u001b[0m\u001b[0;34m:\u001b[0m\u001b[0;34m\u001b[0m\u001b[0;34m\u001b[0m\u001b[0m\n\u001b[1;32m   5882\u001b[0m   \u001b[0me\u001b[0m\u001b[0;34m.\u001b[0m\u001b[0mmessage\u001b[0m \u001b[0;34m+=\u001b[0m \u001b[0;34m(\u001b[0m\u001b[0;34m\" name: \"\u001b[0m \u001b[0;34m+\u001b[0m \u001b[0mstr\u001b[0m\u001b[0;34m(\u001b[0m\u001b[0mname\u001b[0m \u001b[0;32mif\u001b[0m \u001b[0mname\u001b[0m \u001b[0;32mis\u001b[0m \u001b[0;32mnot\u001b[0m \u001b[0;32mNone\u001b[0m \u001b[0;32melse\u001b[0m \u001b[0;34m\"\"\u001b[0m\u001b[0;34m)\u001b[0m\u001b[0;34m)\u001b[0m\u001b[0;34m\u001b[0m\u001b[0;34m\u001b[0m\u001b[0m\n\u001b[0;32m-> 5883\u001b[0;31m   \u001b[0;32mraise\u001b[0m \u001b[0mcore\u001b[0m\u001b[0;34m.\u001b[0m\u001b[0m_status_to_exception\u001b[0m\u001b[0;34m(\u001b[0m\u001b[0me\u001b[0m\u001b[0;34m)\u001b[0m \u001b[0;32mfrom\u001b[0m \u001b[0;32mNone\u001b[0m  \u001b[0;31m# pylint: disable=protected-access\u001b[0m\u001b[0;34m\u001b[0m\u001b[0;34m\u001b[0m\u001b[0m\n\u001b[0m\u001b[1;32m   5884\u001b[0m \u001b[0;34m\u001b[0m\u001b[0m\n\u001b[1;32m   5885\u001b[0m \u001b[0;34m\u001b[0m\u001b[0m\n",
            "\u001b[0;31mInvalidArgumentError\u001b[0m: {{function_node __wrapped__AddV2_device_/job:localhost/replica:0/task:0/device:CPU:0}} Incompatible shapes: [2] vs. [3] [Op:AddV2] name: "
          ]
        }
      ],
      "source": [
        "a=tf.constant([1,2])\n",
        "b=tf.constant([2,3,1])\n",
        "f=tf.constant(tf.add(a,b))"
      ]
    },
    {
      "cell_type": "markdown",
      "metadata": {
        "id": "80_5YEtXhUj1"
      },
      "source": [
        "In some cases, TensorFlow makes exceptions to the requirement of having matching shapes. For example, when the rank of one tensor is less than the rank of the other, TensorFlow will apply various rules to implicitly transform the smaller-rank tensor to the shape of the higher-rank tensor in such a way that the operation is performed in the most natural way possible."
      ]
    },
    {
      "cell_type": "code",
      "execution_count": 23,
      "metadata": {
        "colab": {
          "base_uri": "https://localhost:8080/"
        },
        "id": "PDPeVA6LhUj1",
        "outputId": "e3c74941-26e3-44ee-81be-e7c4125a800f"
      },
      "outputs": [
        {
          "output_type": "stream",
          "name": "stdout",
          "text": [
            "tf.Tensor([2 3], shape=(2,), dtype=int32)\n"
          ]
        }
      ],
      "source": [
        "a=tf.constant([1,2])\n",
        "b=tf.constant(1)\n",
        "print(tf.add(a,b))"
      ]
    },
    {
      "cell_type": "code",
      "source": [
        "#NOTE Two dimensions are considered compatible when they are equal or one of them is 1.\n",
        "#If the dimensions are not equal and none of them is 1, TensorFlow raises a ValueError indicating the shapes are incompatible.\n",
        "#TensorFlow implicitly expands the scalar b to match the shape of tensor a along the trailing dimension.\n",
        "#So, the scalar b effectively becomes [1, 1]."
      ],
      "metadata": {
        "id": "5j7VQN2NrRfV"
      },
      "execution_count": 26,
      "outputs": []
    },
    {
      "cell_type": "code",
      "execution_count": 27,
      "metadata": {
        "colab": {
          "base_uri": "https://localhost:8080/"
        },
        "id": "8pWwhBZNhUj1",
        "outputId": "6f1e130a-162a-4739-b65a-07bd6f65b901"
      },
      "outputs": [
        {
          "output_type": "stream",
          "name": "stdout",
          "text": [
            "tf.Tensor(\n",
            "[[11 22]\n",
            " [13 24]], shape=(2, 2), dtype=int32)\n"
          ]
        }
      ],
      "source": [
        "a=tf.constant([[1,2],[3,4]])\n",
        "b=tf.constant([10,20])\n",
        "print(tf.add(a,b))"
      ]
    },
    {
      "cell_type": "markdown",
      "metadata": {
        "id": "iBteucgzhUj2"
      },
      "source": [
        "In the first of these two examples, the rank 0 tensor 1 is implicitly converted to [1,1] before TensorFlow performs addition. In the second example, the rank 1 tensor [10,20] is implicitly converted to [[10,20],[10,20]].\n",
        "\n",
        "This behaviour is called _broadcasting_. This can be convenient but also very confusing. A precise description of broadcasting rules can be found at https://docs.scipy.org/doc/numpy/user/basics.broadcasting.html .\n",
        "\n",
        "We have seen up to now various operations on tensors that take two operands. There are also operations that take a single operand. In the below examples we see how to compute respectively the element-wise square, absolute value, and hyperbolic tangent of a tensor."
      ]
    },
    {
      "cell_type": "code",
      "execution_count": 28,
      "metadata": {
        "colab": {
          "base_uri": "https://localhost:8080/"
        },
        "id": "YzezlMy2hUj2",
        "outputId": "60114e6d-f45c-41ff-94e2-38601efc6600"
      },
      "outputs": [
        {
          "output_type": "stream",
          "name": "stdout",
          "text": [
            "tf.Tensor(\n",
            "[[ 1.  4.]\n",
            " [ 9. 16.]], shape=(2, 2), dtype=float32)\n"
          ]
        }
      ],
      "source": [
        "a=tf.constant([[1,2],[3,-4]],tf.float32)\n",
        "print(tf.square(a))"
      ]
    },
    {
      "cell_type": "code",
      "execution_count": 29,
      "metadata": {
        "colab": {
          "base_uri": "https://localhost:8080/"
        },
        "id": "oBu3VDeThUj2",
        "outputId": "d30276c9-e885-4976-be66-cb40c6066aa7"
      },
      "outputs": [
        {
          "output_type": "stream",
          "name": "stdout",
          "text": [
            "tf.Tensor(\n",
            "[[1. 2.]\n",
            " [3. 4.]], shape=(2, 2), dtype=float32)\n"
          ]
        }
      ],
      "source": [
        "print(tf.abs(a))"
      ]
    },
    {
      "cell_type": "code",
      "execution_count": 31,
      "metadata": {
        "colab": {
          "base_uri": "https://localhost:8080/"
        },
        "id": "lMhesxuGhUj2",
        "outputId": "6bad95ae-8d06-42e7-8319-a4d63c2057d2"
      },
      "outputs": [
        {
          "output_type": "stream",
          "name": "stdout",
          "text": [
            "tf.Tensor(\n",
            "[[ 0.7615942  0.9640276]\n",
            " [ 0.9950547 -0.9993292]], shape=(2, 2), dtype=float32)\n"
          ]
        }
      ],
      "source": [
        "print(tf.tanh(a))"
      ]
    },
    {
      "cell_type": "markdown",
      "metadata": {
        "id": "jHGmlO0ahUj2"
      },
      "source": [
        "We can also perform element-wise comparison. See for example https://www.tensorflow.org/api_docs/python/tf/math/greater. These operations result in tensors of *bools*: one for each element, indicating if the respective comparison is true for each of the elements."
      ]
    },
    {
      "cell_type": "code",
      "execution_count": 32,
      "metadata": {
        "colab": {
          "base_uri": "https://localhost:8080/"
        },
        "id": "t4bKleF7hUj2",
        "outputId": "8c17943e-bc67-4e62-cbc1-958739c19c63"
      },
      "outputs": [
        {
          "output_type": "stream",
          "name": "stdout",
          "text": [
            "tf.Tensor([False  True False], shape=(3,), dtype=bool)\n"
          ]
        }
      ],
      "source": [
        "a=tf.constant([1,2,3])\n",
        "b=tf.constant([5,1,7])\n",
        "print(tf.greater(a,b))"
      ]
    },
    {
      "cell_type": "markdown",
      "metadata": {
        "id": "pUkAM0MUhUj3"
      },
      "source": [
        "Note that broadcasting will also work in those cases:"
      ]
    },
    {
      "cell_type": "code",
      "execution_count": 33,
      "metadata": {
        "colab": {
          "base_uri": "https://localhost:8080/"
        },
        "id": "Ag4X9tI2hUj3",
        "outputId": "c8b093a4-5637-42bf-dd83-c4bd013564e0"
      },
      "outputs": [
        {
          "output_type": "stream",
          "name": "stdout",
          "text": [
            "tf.Tensor([False  True  True], shape=(3,), dtype=bool)\n"
          ]
        }
      ],
      "source": [
        "print(tf.greater(a,1))"
      ]
    },
    {
      "cell_type": "markdown",
      "metadata": {
        "id": "9FrhNdS-hUj3"
      },
      "source": [
        "Some of TensorFlow's functions have shorthand notation: One can write * for *multiply*, + for *add*, - for *subtract*, and > for *greater*."
      ]
    },
    {
      "cell_type": "code",
      "execution_count": 34,
      "metadata": {
        "colab": {
          "base_uri": "https://localhost:8080/"
        },
        "id": "wNUeRbX3hUj3",
        "outputId": "5d034230-2820-4394-a8c8-3ccf40bf8e43"
      },
      "outputs": [
        {
          "output_type": "stream",
          "name": "stdout",
          "text": [
            "tf.Tensor(\n",
            "[[ 6  8]\n",
            " [11 13]], shape=(2, 2), dtype=int32)\n"
          ]
        }
      ],
      "source": [
        "a=tf.constant([[1,2],[3,4]])\n",
        "b=tf.constant([[5,6],[8,9]])\n",
        "print(a+b)"
      ]
    },
    {
      "cell_type": "markdown",
      "metadata": {
        "id": "aKckUn7ghUj3"
      },
      "source": [
        "## Variables\n",
        "\n",
        "TensorFlow _variables_ are tensors and are the recommended way to represent shared, persistent state your program manipulates."
      ]
    },
    {
      "cell_type": "code",
      "execution_count": 35,
      "metadata": {
        "colab": {
          "base_uri": "https://localhost:8080/"
        },
        "id": "u4g4hfVKhUj3",
        "outputId": "59ae6a0d-7efd-4ece-a49c-0ea80155bea9"
      },
      "outputs": [
        {
          "output_type": "stream",
          "name": "stdout",
          "text": [
            "tf.Tensor(\n",
            "[[10  4]\n",
            " [ 2  4]], shape=(2, 2), dtype=int32)\n"
          ]
        }
      ],
      "source": [
        "a=tf.constant([[5,2],[1,2]])\n",
        "var_a = tf.Variable(a)\n",
        "b=tf.add(var_a,var_a)\n",
        "print(b)"
      ]
    },
    {
      "cell_type": "markdown",
      "metadata": {
        "id": "Gm8vwmU5hUj4"
      },
      "source": [
        "A variable looks and acts like a tensor, and, in fact, is a data structure backed by a tf.Tensor. Like tensors, they have a dtype and a shape, and can be exported to NumPy."
      ]
    },
    {
      "cell_type": "code",
      "execution_count": 36,
      "metadata": {
        "colab": {
          "base_uri": "https://localhost:8080/"
        },
        "id": "kKVSkB9hhUj4",
        "outputId": "7acc7bba-e464-4b20-9f80-39ae8b393395"
      },
      "outputs": [
        {
          "output_type": "stream",
          "name": "stdout",
          "text": [
            "Shape:  (2, 2)\n",
            "DType:  <dtype: 'int32'>\n",
            "As NumPy:  [[5 2]\n",
            " [1 2]]\n"
          ]
        }
      ],
      "source": [
        "print(\"Shape: \", var_a.shape)\n",
        "print(\"DType: \", var_a.dtype)\n",
        "print(\"As NumPy: \", var_a.numpy())"
      ]
    },
    {
      "cell_type": "markdown",
      "metadata": {
        "id": "gemKycF0hUj4"
      },
      "source": [
        "Variables can be updated by using the _assign_ function:"
      ]
    },
    {
      "cell_type": "code",
      "execution_count": 37,
      "metadata": {
        "colab": {
          "base_uri": "https://localhost:8080/"
        },
        "id": "_HIDG7RPhUj4",
        "outputId": "e6d28848-24eb-4065-90af-51190dfbcc40"
      },
      "outputs": [
        {
          "output_type": "stream",
          "name": "stdout",
          "text": [
            "[-1.]\n"
          ]
        }
      ],
      "source": [
        "W = tf.Variable([0.3], tf.float32)\n",
        "W.assign([-1.0])\n",
        "print(W.numpy())"
      ]
    },
    {
      "cell_type": "markdown",
      "metadata": {
        "id": "mf2C4ny_hUj4"
      },
      "source": [
        "Note however that it is not allowed to resize the variable"
      ]
    },
    {
      "cell_type": "code",
      "execution_count": 38,
      "metadata": {
        "colab": {
          "base_uri": "https://localhost:8080/"
        },
        "id": "wxb5-ZdAhUj4",
        "outputId": "0d9bfb15-6482-4176-9e6e-3d0a9c64e256"
      },
      "outputs": [
        {
          "output_type": "stream",
          "name": "stdout",
          "text": [
            "ValueError: Cannot assign value to variable ' Variable:0': Shape mismatch.The variable shape (1,), and the assigned value shape (3,) are incompatible.\n"
          ]
        }
      ],
      "source": [
        "try:\n",
        "  W.assign([1.0, 2.0, 3.0])\n",
        "except Exception as e:\n",
        "  print(f\"{type(e).__name__}: {e}\")"
      ]
    },
    {
      "cell_type": "markdown",
      "metadata": {
        "scrolled": true,
        "id": "GEc7ySNchUj5"
      },
      "source": [
        "If you use a variable like a tensor in operations, you will usually operate on the backing tensor. Creating new variables from existing variables duplicates the backing tensors. Two variables will not share the same memory."
      ]
    },
    {
      "cell_type": "code",
      "execution_count": 39,
      "metadata": {
        "colab": {
          "base_uri": "https://localhost:8080/"
        },
        "id": "3SQDYCgZhUj5",
        "outputId": "79fecf00-07bb-4e10-fa97-7184e11ad99a"
      },
      "outputs": [
        {
          "output_type": "stream",
          "name": "stdout",
          "text": [
            "a=  [5. 6.]\n",
            "b=  [2. 3.]\n",
            "[7. 9.]\n",
            "[0. 0.]\n"
          ]
        }
      ],
      "source": [
        "a = tf.Variable([2.0, 3.0])\n",
        "# Create b based on the value of a\n",
        "b = tf.Variable(a)\n",
        "a.assign([5, 6])\n",
        "\n",
        "# a and b are different\n",
        "print('a= ',a.numpy())\n",
        "print('b= ',b.numpy())\n",
        "\n",
        "# There are other versions of assign\n",
        "print(a.assign_add([2,3]).numpy())  # [7. 9.]\n",
        "print(a.assign_sub([7,9]).numpy())  # [0. 0.]"
      ]
    },
    {
      "cell_type": "markdown",
      "metadata": {
        "id": "LJSCMIo-hUj5"
      },
      "source": [
        "## Aggregation Functions\n",
        "\n",
        "TensorFlow has various aggregation functions, most of them starting with the word _reduce_. The following examples compute respectively the sum, mean, and maximum of the elements of a tensor."
      ]
    },
    {
      "cell_type": "code",
      "execution_count": 41,
      "metadata": {
        "colab": {
          "base_uri": "https://localhost:8080/"
        },
        "id": "HR-O_2RmhUj5",
        "outputId": "97fae0e1-dd99-4eab-9a10-75dca9d40956"
      },
      "outputs": [
        {
          "output_type": "stream",
          "name": "stdout",
          "text": [
            "tf.Tensor(10.0, shape=(), dtype=float32)\n"
          ]
        }
      ],
      "source": [
        "a=tf.constant([[1,2],[3,4]],tf.float32)\n",
        "print(tf.reduce_sum(a))"
      ]
    },
    {
      "cell_type": "code",
      "execution_count": 42,
      "metadata": {
        "colab": {
          "base_uri": "https://localhost:8080/"
        },
        "id": "SxJ48JvQhUj5",
        "outputId": "1edb8fb9-a3f9-482a-eece-ab4b31c111be"
      },
      "outputs": [
        {
          "output_type": "stream",
          "name": "stdout",
          "text": [
            "tf.Tensor(2.5, shape=(), dtype=float32)\n"
          ]
        }
      ],
      "source": [
        "print(tf.reduce_mean(a))"
      ]
    },
    {
      "cell_type": "code",
      "execution_count": 43,
      "metadata": {
        "colab": {
          "base_uri": "https://localhost:8080/"
        },
        "id": "--q6ri-lhUj6",
        "outputId": "ba7f5ce3-df39-4e8d-9bd8-d8423823a94c"
      },
      "outputs": [
        {
          "output_type": "stream",
          "name": "stdout",
          "text": [
            "tf.Tensor(4.0, shape=(), dtype=float32)\n"
          ]
        }
      ],
      "source": [
        "print(tf.reduce_max(a))"
      ]
    },
    {
      "cell_type": "code",
      "execution_count": 44,
      "metadata": {
        "colab": {
          "base_uri": "https://localhost:8080/"
        },
        "id": "r-BOsmjKhUj6",
        "outputId": "93a36a91-5511-42e9-fc64-634c6c0b7277"
      },
      "outputs": [
        {
          "output_type": "stream",
          "name": "stdout",
          "text": [
            "tf.Tensor(3.0, shape=(), dtype=float32)\n"
          ]
        }
      ],
      "source": [
        "# Exercise: Try to predict what will be the result of the following code. Run the code to verify your answer.\n",
        "\n",
        "a=tf.constant([[1,2],[3,4]],tf.float32)\n",
        "print(tf.reduce_sum(tf.cast(a>1,tf.float32)))\n",
        "\n",
        "\n",
        "\n",
        "#NOTE here each element checked if it is >1 then turned into TRUE and then added ( 3 Trues = 1+1+1=3)"
      ]
    },
    {
      "cell_type": "markdown",
      "metadata": {
        "id": "-hQy5osAhUj6"
      },
      "source": [
        "The function _argmax_ takes a tensor and returns the index where the maximum value among the entries in the tensor occurs. Note here that indexing starts at 0. Observe the difference between _reduce&#95;max_ and *argmax*:"
      ]
    },
    {
      "cell_type": "code",
      "execution_count": 45,
      "metadata": {
        "colab": {
          "base_uri": "https://localhost:8080/"
        },
        "id": "A-XPcb5ghUj6",
        "outputId": "5d7592fc-3bd4-4ba1-ebfa-4ae6087c514e"
      },
      "outputs": [
        {
          "output_type": "stream",
          "name": "stdout",
          "text": [
            "tf.Tensor(5.0, shape=(), dtype=float32)\n"
          ]
        }
      ],
      "source": [
        "a=tf.constant([4,0,5,-4],tf.float32)\n",
        "print(tf.reduce_max(a))"
      ]
    },
    {
      "cell_type": "code",
      "execution_count": 46,
      "metadata": {
        "colab": {
          "base_uri": "https://localhost:8080/"
        },
        "id": "6orOZa0ThUj7",
        "outputId": "9f5c6f04-930c-4952-ae4a-c8441e9d7ca4"
      },
      "outputs": [
        {
          "output_type": "stream",
          "name": "stdout",
          "text": [
            "tf.Tensor(2, shape=(), dtype=int64)\n"
          ]
        }
      ],
      "source": [
        "print(tf.argmax(a))"
      ]
    },
    {
      "cell_type": "code",
      "execution_count": 47,
      "metadata": {
        "colab": {
          "base_uri": "https://localhost:8080/"
        },
        "id": "wQcj9A1_hUj7",
        "outputId": "b2127cf8-b03e-4cb2-d53f-32c04bf0295f"
      },
      "outputs": [
        {
          "output_type": "stream",
          "name": "stdout",
          "text": [
            "[<tf.Tensor: shape=(), dtype=float32, numpy=-4.0>, <tf.Tensor: shape=(), dtype=float32, numpy=5.0>]\n"
          ]
        }
      ],
      "source": [
        "a=tf.constant([4,0,5,-4],tf.float32)\n",
        "print([tf.reduce_min(a),tf.reduce_max(a)])"
      ]
    },
    {
      "cell_type": "markdown",
      "metadata": {
        "id": "eTsWB1rihUj7"
      },
      "source": [
        "Aggregation functions can be restricted to be evaluated over a single axis of a tensor."
      ]
    },
    {
      "cell_type": "code",
      "execution_count": 48,
      "metadata": {
        "colab": {
          "base_uri": "https://localhost:8080/"
        },
        "id": "rOVAvHsohUj7",
        "outputId": "3b1713e7-c189-4dc3-e1c6-5387b1423a23"
      },
      "outputs": [
        {
          "output_type": "stream",
          "name": "stdout",
          "text": [
            "tf.Tensor([4 6], shape=(2,), dtype=int32)\n"
          ]
        }
      ],
      "source": [
        "a=tf.constant([[1,2],[3,4]])\n",
        "print(tf.reduce_sum(a, axis=0))"
      ]
    },
    {
      "cell_type": "code",
      "execution_count": 49,
      "metadata": {
        "colab": {
          "base_uri": "https://localhost:8080/"
        },
        "id": "McEgZjs0hUj7",
        "outputId": "a438c075-67d3-4a18-8d9c-67ac4662c9eb"
      },
      "outputs": [
        {
          "output_type": "stream",
          "name": "stdout",
          "text": [
            "tf.Tensor([3 7], shape=(2,), dtype=int32)\n"
          ]
        }
      ],
      "source": [
        "print(tf.reduce_sum(a, axis=1))"
      ]
    },
    {
      "cell_type": "code",
      "execution_count": 50,
      "metadata": {
        "colab": {
          "base_uri": "https://localhost:8080/"
        },
        "id": "Gm0BAZWQhUj7",
        "outputId": "8f54c887-8fde-4ab8-b124-ec51887243da"
      },
      "outputs": [
        {
          "output_type": "stream",
          "name": "stdout",
          "text": [
            "tf.Tensor(\n",
            "[[11 15]\n",
            " [ 3  7]], shape=(2, 2), dtype=int32)\n",
            "tf.Tensor(\n",
            "[[12 14]\n",
            " [ 4  6]], shape=(2, 2), dtype=int32)\n",
            "tf.Tensor(\n",
            "[[ 6  8]\n",
            " [10 12]], shape=(2, 2), dtype=int32)\n"
          ]
        }
      ],
      "source": [
        "# Exercise: Based on the previous examples, you can predict how axis numbering works on tensors of rank higher than 2.\n",
        "# What would be the result of the following code? Run the code to verify your answer.\n",
        "\n",
        "a=tf.constant([[[5,6],[7,8]],[[1,2],[3,4]]])\n",
        "print(tf.reduce_sum(a, axis=2))\n",
        "print(tf.reduce_sum(a, axis=1))\n",
        "print(tf.reduce_sum(a, axis=0))"
      ]
    },
    {
      "cell_type": "markdown",
      "metadata": {
        "id": "j-xDKyzghUj8"
      },
      "source": [
        "The same can be done with other aggregation functions, such as _reduce&#95;max_ and *argmax*:"
      ]
    },
    {
      "cell_type": "code",
      "execution_count": 51,
      "metadata": {
        "colab": {
          "base_uri": "https://localhost:8080/"
        },
        "id": "OdFjOFeohUj8",
        "outputId": "d2f59421-c155-4f9e-8c42-7d814f49bfa5"
      },
      "outputs": [
        {
          "output_type": "stream",
          "name": "stdout",
          "text": [
            "tf.Tensor([ 5 10 12], shape=(3,), dtype=int32)\n"
          ]
        }
      ],
      "source": [
        "a=tf.constant([[5,10,0],[3,4,12]])\n",
        "print(tf.reduce_max(a, axis=0))"
      ]
    },
    {
      "cell_type": "code",
      "execution_count": 52,
      "metadata": {
        "colab": {
          "base_uri": "https://localhost:8080/"
        },
        "id": "RAWvlqawhUj8",
        "outputId": "a926579c-58e9-46c5-87d5-a5d9e1d70ba8"
      },
      "outputs": [
        {
          "output_type": "stream",
          "name": "stdout",
          "text": [
            "tf.Tensor([1 2], shape=(2,), dtype=int64)\n"
          ]
        }
      ],
      "source": [
        "print(tf.argmax(a, axis=1))"
      ]
    },
    {
      "cell_type": "markdown",
      "metadata": {
        "id": "_Cq5KYt_hUj8"
      },
      "source": [
        "## Automatic Differentiation\n",
        "\n",
        "TensorFlow is capable of symbolically differentiating mathematical formulas (expressed in TensorFlow's syntax). Consider the following example. Recall that ** is the operator corresponding to exponentiation."
      ]
    },
    {
      "cell_type": "code",
      "execution_count": 53,
      "metadata": {
        "colab": {
          "base_uri": "https://localhost:8080/"
        },
        "id": "d7MVSIwYhUj8",
        "outputId": "0d817220-2981-4584-f372-d639b71ad67d"
      },
      "outputs": [
        {
          "output_type": "execute_result",
          "data": {
            "text/plain": [
              "10.0"
            ]
          },
          "metadata": {},
          "execution_count": 53
        }
      ],
      "source": [
        "x=tf.Variable(5.0,tf.float32)\n",
        "with tf.GradientTape() as tape:\n",
        "  y = x**2\n",
        "\n",
        "# dy = 2x * dx\n",
        "dy_dx = tape.gradient(y, x)\n",
        "dy_dx.numpy()\n",
        "\n",
        "#    The gradient of the function y=x2y=x2 with respect to xx is calculated as dydx=2xdxdy​=2x.\n",
        "   # At x=5.0x=5.0, the gradient is dydx=2×5.0=10.0dxdy​=2×5.0=10.0."
      ]
    },
    {
      "cell_type": "markdown",
      "metadata": {
        "id": "1i2zIghYhUj8"
      },
      "source": [
        "TensorFlow provides the tf.GradientTape API for automatic differentiation; that is, computing the gradient of a computation with respect to some inputs, that are usually tf.Variables. TensorFlow \"records\" relevant operations executed inside the context of a tf.GradientTape onto a \"tape\" and uses that tape to compute the gradients.\n",
        "\n",
        "The above piece of code first defines a variable x and sets its value to $5$, then defines $y$ to stand for the multiplication of $x$ with itself, i.e., $y = x^2$. It defines dy_dx to be the derivative of y with respect to x. This is done by calling the function _gradient_ and specifying as its first argument the mathematical function to differentiate, and as its second argument a list of variables with respect to which the function is differentiated. In this case, we differentiate with respect to only the variable x. If more variables are specified, dydx will be a (Python) list containing the respective derivatives as its element.\n",
        "\n",
        "The following is an example of a two-variable function, of which we can compute both its derivatives. Observe the two different ways of doing that."
      ]
    },
    {
      "cell_type": "code",
      "execution_count": 55,
      "metadata": {
        "colab": {
          "base_uri": "https://localhost:8080/"
        },
        "id": "VfC6ITmNhUj9",
        "outputId": "bd3665f1-4341-4b7b-b79c-3f702055bcb8"
      },
      "outputs": [
        {
          "output_type": "stream",
          "name": "stdout",
          "text": [
            "dz/dx: tf.Tensor(24.0, shape=(), dtype=float32)\n",
            "dz/dy: tf.Tensor(1.0, shape=(), dtype=float32)\n",
            "tf.Tensor(24.0, shape=(), dtype=float32)\n",
            "tf.Tensor(1.0, shape=(), dtype=float32)\n"
          ]
        }
      ],
      "source": [
        "x=tf.Variable(4.0,tf.float32)\n",
        "y=tf.Variable(2.0,tf.float32)\n",
        "\n",
        "# First way\n",
        "with tf.GradientTape() as tape:\n",
        "    f=tf.pow(x,2.0)*3.0+y\n",
        "z = tape.gradient(f,{'x': x,'y': y})\n",
        "print('dz/dx:', z['x'])\n",
        "print('dz/dy:', z['y'])\n",
        "\n",
        "# Second way: we get the gradients as a list\n",
        "with tf.GradientTape() as tape2:\n",
        "    ff=tf.pow(x,2.0)*3.0+y\n",
        "[dfdx, dfdy] = tape2.gradient(ff,[x,y])\n",
        "print(dfdx)\n",
        "print(dfdy)\n",
        "\n",
        "\n",
        "#the formula here is f(x,y)=3x^2+y"
      ]
    },
    {
      "cell_type": "code",
      "execution_count": 56,
      "metadata": {
        "colab": {
          "base_uri": "https://localhost:8080/"
        },
        "id": "GwvYo_ynhUj9",
        "outputId": "f7d49e7d-08d3-4952-b476-fdee25a36caf"
      },
      "outputs": [
        {
          "output_type": "stream",
          "name": "stdout",
          "text": [
            "dz/dx: tf.Tensor(24.0, shape=(), dtype=float32)\n",
            "dz/dy: tf.Tensor(1.0, shape=(), dtype=float32)\n",
            "tf.Tensor(24.0, shape=(), dtype=float32)\n",
            "tf.Tensor(1.0, shape=(), dtype=float32)\n"
          ]
        }
      ],
      "source": [
        "#Combining both ways using two tapes\n",
        "x=tf.Variable(4.0,tf.float32)\n",
        "y=tf.Variable(2.0,tf.float32)\n",
        "\n",
        "with tf.GradientTape() as tape0, tf.GradientTape() as tape1:\n",
        "    f=tf.pow(x,2.0)*3.0+y\n",
        "z = tape0.gradient(f,{'x': x,'y': y})\n",
        "[dfdx,dfdy] = tape1.gradient(f,[x,y])\n",
        "print('dz/dx:', z['x'])\n",
        "print('dz/dy:', z['y'])\n",
        "print(dfdx)\n",
        "print(dfdy)"
      ]
    },
    {
      "cell_type": "markdown",
      "metadata": {
        "id": "0tLFqxDUhUj9"
      },
      "source": [
        "Automatic differentiation can also handle variables that are tensors of higher rank than 0. This feature is very useful to neural network programming, and makes it very easy to implement backpropagation algorithms, which are fundamental to training neural networks (we will discuss backpropagation at some point in the lectures).\n",
        "\n",
        "## Gradient Descent\n",
        "\n",
        "_Gradient descent_ stands for a family of algorithms to find minima (or maxima) of functions. Suppose that we want to find the minimum of some function f(x). A basic backpropagation algorithm then works as follows. Fix a parameter _eta_ to any positive small value. Start with any initial input x_0 to the function. Compute the derivative _dfdx_ of f at x_0 and set x_1 to the value x_0 - _eta_ \\* _dfdx_. If f(x_1) < f(x_0), then we repeat this step on x_1, resulting in a sequence of points x_0, x_1, x_2, ..., x_k, where for x_k it holds that an additional iteration performed on x_k would not yield a decrease in the value of f.\n",
        "\n",
        "![title](images/gradientdescent.png)\n",
        "\n",
        "For this algorithm, it is clearly important to not make $\\eta$ (*eta*) (which is often referred to as the *step size* or *learning rate*) too large, as this might result in the function not having decreased at the next iteration while a decrease could have been possible if $\\eta$ were smaller. It is also important to not make $\\eta$ too small, as this might result in very tiny progress each step. Please study the following code and complete the three lines containing \"TODO\" comments. It should  use gradient descent to minimise the function $f(x) = x^2 - 4x + 4$.\n",
        "\n",
        "![title](images/function.png)"
      ]
    },
    {
      "cell_type": "code",
      "execution_count": 57,
      "metadata": {
        "colab": {
          "base_uri": "https://localhost:8080/"
        },
        "id": "pPV9FwxHhUj9",
        "outputId": "2c50fd71-d44e-4ecd-a76a-22cd4d8fb879"
      },
      "outputs": [
        {
          "output_type": "stream",
          "name": "stdout",
          "text": [
            "iteration: 0 x: 8.4  y: 64.0\n",
            "iteration: 1 x: 7.12  y: 40.95999\n",
            "iteration: 2 x: 6.0959997  y: 26.214397\n",
            "iteration: 3 x: 5.2767997  y: 16.777214\n",
            "iteration: 4 x: 4.62144  y: 10.737415\n",
            "iteration: 5 x: 4.0971518  y: 6.8719482\n",
            "iteration: 6 x: 3.6777215  y: 4.3980446\n",
            "iteration: 7 x: 3.3421772  y: 2.8147497\n",
            "iteration: 8 x: 3.0737417  y: 1.8014393\n",
            "iteration: 9 x: 2.8589933  y: 1.1529207\n",
            "iteration: 10 x: 2.6871946  y: 0.73786926\n",
            "iteration: 11 x: 2.5497556  y: 0.47223663\n",
            "iteration: 12 x: 2.4398046  y: 0.3022313\n",
            "iteration: 13 x: 2.3518436  y: 0.19342804\n",
            "iteration: 14 x: 2.2814748  y: 0.12379408\n",
            "iteration: 15 x: 2.22518  y: 0.079227924\n",
            "iteration: 16 x: 2.1801438  y: 0.05070591\n",
            "iteration: 17 x: 2.144115  y: 0.03245163\n",
            "iteration: 18 x: 2.115292  y: 0.02076912\n",
            "iteration: 19 x: 2.0922337  y: 0.013292313\n",
            "iteration: 20 x: 2.073787  y: 0.008507252\n",
            "iteration: 21 x: 2.0590296  y: 0.0054445267\n",
            "iteration: 22 x: 2.0472236  y: 0.003484726\n",
            "iteration: 23 x: 2.0377789  y: 0.0022301674\n",
            "iteration: 24 x: 2.0302231  y: 0.0014271736\n",
            "iteration: 25 x: 2.0241785  y: 0.00091362\n",
            "iteration: 26 x: 2.019343  y: 0.00058460236\n",
            "iteration: 27 x: 2.0154743  y: 0.00037431717\n",
            "iteration: 28 x: 2.0123794  y: 0.00023937225\n",
            "iteration: 29 x: 2.0099034  y: 0.00015306473\n",
            "iteration: 30 x: 2.0079226  y: 9.8228455e-05\n",
            "iteration: 31 x: 2.0063381  y: 6.2942505e-05\n",
            "iteration: 32 x: 2.0050704  y: 4.005432e-05\n",
            "iteration: 33 x: 2.0040565  y: 2.5749207e-05\n",
            "iteration: 34 x: 2.003245  y: 1.66893e-05\n",
            "iteration: 35 x: 2.0025961  y: 1.04904175e-05\n",
            "iteration: 36 x: 2.0020769  y: 6.67572e-06\n",
            "iteration: 37 x: 2.0016615  y: 4.2915344e-06\n",
            "iteration: 38 x: 2.0013292  y: 2.861023e-06\n",
            "iteration: 39 x: 2.0010633  y: 1.9073486e-06\n",
            "iteration: 40 x: 2.0008507  y: 9.536743e-07\n",
            "iteration: 41 x: 2.0006804  y: 9.536743e-07\n",
            "iteration: 42 x: 2.0005443  y: 4.7683716e-07\n",
            "iteration: 43 x: 2.0004354  y: 4.7683716e-07\n",
            "iteration: 44 x: 2.0003483  y: 0.0\n",
            "iteration: 45 x: 2.0002787  y: 0.0\n",
            "iteration: 46 x: 2.000223  y: 0.0\n",
            "iteration: 47 x: 2.0001783  y: 0.0\n",
            "iteration: 48 x: 2.0001426  y: 0.0\n",
            "iteration: 49 x: 2.000114  y: 0.0\n"
          ]
        }
      ],
      "source": [
        "x = tf.Variable(10.0, tf.float32) # arbitrary initial value\n",
        "eta = 0.1 # learning rate\n",
        "\n",
        "for i in range(50):\n",
        "    with tf.GradientTape() as tape:\n",
        "        y =  x*x-4*x+4                  #TODO put in formula for y = x^2 - 4x + 4\n",
        "\n",
        "    dydx=tape.gradient(y,x)        # TODO finish this line\n",
        "    x.assign(x-eta*dydx)                  # TODO finish x_(t+1)=x_t-eta*dydx.\n",
        "    print(\"iteration:\",i,\"x:\", x.numpy(),\" y:\",y.numpy())\n"
      ]
    },
    {
      "cell_type": "markdown",
      "metadata": {
        "id": "Gm7UDAGLhUj9"
      },
      "source": [
        "A nice feature of TensorFlow is that it has many optimisers built in, and one of these optimisers is the basic gradient descent optimiser. It can be accessed under _optimizers.SGD_ and takes the learning rate $\\eta$ as a parameter. Therefore, the following code does the same as your solution above."
      ]
    },
    {
      "cell_type": "code",
      "execution_count": 58,
      "metadata": {
        "colab": {
          "base_uri": "https://localhost:8080/"
        },
        "id": "c1RvQDdqhUj9",
        "outputId": "11e00767-aa0a-4293-c585-56d29e698648"
      },
      "outputs": [
        {
          "output_type": "stream",
          "name": "stdout",
          "text": [
            "iteration: 0 x: 8.4\n",
            "iteration: 1 x: 7.12\n",
            "iteration: 2 x: 6.0959997\n",
            "iteration: 3 x: 5.2767997\n",
            "iteration: 4 x: 4.62144\n",
            "iteration: 5 x: 4.0971518\n",
            "iteration: 6 x: 3.6777215\n",
            "iteration: 7 x: 3.3421772\n",
            "iteration: 8 x: 3.0737417\n",
            "iteration: 9 x: 2.8589933\n",
            "iteration: 10 x: 2.6871946\n",
            "iteration: 11 x: 2.5497556\n",
            "iteration: 12 x: 2.4398046\n",
            "iteration: 13 x: 2.3518436\n",
            "iteration: 14 x: 2.2814748\n",
            "iteration: 15 x: 2.22518\n",
            "iteration: 16 x: 2.1801438\n",
            "iteration: 17 x: 2.144115\n",
            "iteration: 18 x: 2.115292\n",
            "iteration: 19 x: 2.0922337\n",
            "iteration: 20 x: 2.073787\n",
            "iteration: 21 x: 2.0590296\n",
            "iteration: 22 x: 2.0472236\n",
            "iteration: 23 x: 2.0377789\n",
            "iteration: 24 x: 2.0302231\n",
            "iteration: 25 x: 2.0241785\n",
            "iteration: 26 x: 2.019343\n",
            "iteration: 27 x: 2.0154743\n",
            "iteration: 28 x: 2.0123794\n",
            "iteration: 29 x: 2.0099034\n",
            "iteration: 30 x: 2.0079226\n",
            "iteration: 31 x: 2.0063381\n",
            "iteration: 32 x: 2.0050704\n",
            "iteration: 33 x: 2.0040565\n",
            "iteration: 34 x: 2.003245\n",
            "iteration: 35 x: 2.0025961\n",
            "iteration: 36 x: 2.0020769\n",
            "iteration: 37 x: 2.0016615\n",
            "iteration: 38 x: 2.0013292\n",
            "iteration: 39 x: 2.0010633\n",
            "iteration: 40 x: 2.0008507\n",
            "iteration: 41 x: 2.0006804\n",
            "iteration: 42 x: 2.0005443\n",
            "iteration: 43 x: 2.0004354\n",
            "iteration: 44 x: 2.0003483\n",
            "iteration: 45 x: 2.0002787\n",
            "iteration: 46 x: 2.000223\n",
            "iteration: 47 x: 2.0001783\n",
            "iteration: 48 x: 2.0001426\n",
            "iteration: 49 x: 2.000114\n"
          ]
        }
      ],
      "source": [
        "x = tf.Variable(10.0, dtype=tf.float32) # arbitrary initial value\n",
        "eta = 0.1 # learning rate\n",
        "\n",
        "optimizer = tf.optimizers.SGD(learning_rate=eta)\n",
        "loss = lambda:x**2-4.0*x+4.0\n",
        "\n",
        "for i in range(50):\n",
        "    optimizer.minimize(loss,[x])\n",
        "    print(\"iteration:\",i, \"x:\", x.numpy())"
      ]
    },
    {
      "cell_type": "markdown",
      "metadata": {
        "id": "UqgC7JyshUj9"
      },
      "source": [
        "Note that we have specified through _optimizer.minimize()_ which function the built-in Stochastic Gradient Descent Optimizer should minimize. TensorFlow then automatically infers on which variables y depends.\n",
        "\n",
        "There are various other canned optimisers in TensorFlow, such as the _Adam_ and _RMSprop_. As an exercise, please modify the above code and run it with those two optimisers instead of the _SGD_ optimizer.\n",
        "\n",
        "Gradient descent, and various derived optimisation methods are used heavily in neural networks and algorithms for deep learning, to train deep neural networks. You probably understand from the above explanation and code that neural networks makes \"local\" improvements, and can end up in a local minimum of a function. This is why gradient descent is often applied multiple times on a given function, at multiple starting positions, in the hope to find the global minimum among the set of local minima that a function may have.\n",
        "\n",
        "What we have seen here is gradient descent applied on a function of a single variable. Gradient descent can also be applied on functions of many variables, which is how it is applied when one has to train neural networks."
      ]
    },
    {
      "cell_type": "code",
      "source": [
        "x = tf.Variable(10.0, dtype=tf.float32) # arbitrary initial value\n",
        "eta = 0.1 # learning rate\n",
        "\n",
        "optimizer = tf.optimizers.Adam(learning_rate=eta)    #changed the optimizer to Adam\n",
        "loss = lambda:x**2-4.0*x+4.0\n",
        "\n",
        "for i in range(50):\n",
        "    optimizer.minimize(loss,[x])\n",
        "    print(\"iteration:\",i, \"x:\", x.numpy())"
      ],
      "metadata": {
        "colab": {
          "base_uri": "https://localhost:8080/"
        },
        "id": "i9LyfJra2VAX",
        "outputId": "d379a7d0-3330-417c-a341-437e23434e93"
      },
      "execution_count": 59,
      "outputs": [
        {
          "output_type": "stream",
          "name": "stdout",
          "text": [
            "iteration: 0 x: 9.900001\n",
            "iteration: 1 x: 9.800036\n",
            "iteration: 2 x: 9.70013\n",
            "iteration: 3 x: 9.600307\n",
            "iteration: 4 x: 9.500591\n",
            "iteration: 5 x: 9.401006\n",
            "iteration: 6 x: 9.301577\n",
            "iteration: 7 x: 9.202328\n",
            "iteration: 8 x: 9.103285\n",
            "iteration: 9 x: 9.004472\n",
            "iteration: 10 x: 8.905914\n",
            "iteration: 11 x: 8.807636\n",
            "iteration: 12 x: 8.709662\n",
            "iteration: 13 x: 8.612018\n",
            "iteration: 14 x: 8.514726\n",
            "iteration: 15 x: 8.4178095\n",
            "iteration: 16 x: 8.321294\n",
            "iteration: 17 x: 8.225201\n",
            "iteration: 18 x: 8.129554\n",
            "iteration: 19 x: 8.034375\n",
            "iteration: 20 x: 7.939686\n",
            "iteration: 21 x: 7.8455076\n",
            "iteration: 22 x: 7.7518616\n",
            "iteration: 23 x: 7.6587677\n",
            "iteration: 24 x: 7.5662456\n",
            "iteration: 25 x: 7.4743147\n",
            "iteration: 26 x: 7.382993\n",
            "iteration: 27 x: 7.2922997\n",
            "iteration: 28 x: 7.2022514\n",
            "iteration: 29 x: 7.112865\n",
            "iteration: 30 x: 7.0241566\n",
            "iteration: 31 x: 6.9361424\n",
            "iteration: 32 x: 6.848837\n",
            "iteration: 33 x: 6.7622547\n",
            "iteration: 34 x: 6.6764097\n",
            "iteration: 35 x: 6.5913153\n",
            "iteration: 36 x: 6.506984\n",
            "iteration: 37 x: 6.4234285\n",
            "iteration: 38 x: 6.3406596\n",
            "iteration: 39 x: 6.2586884\n",
            "iteration: 40 x: 6.1775255\n",
            "iteration: 41 x: 6.097181\n",
            "iteration: 42 x: 6.0176635\n",
            "iteration: 43 x: 5.9389825\n",
            "iteration: 44 x: 5.8611465\n",
            "iteration: 45 x: 5.784163\n",
            "iteration: 46 x: 5.7080393\n",
            "iteration: 47 x: 5.632782\n",
            "iteration: 48 x: 5.558398\n",
            "iteration: 49 x: 5.4848924\n"
          ]
        }
      ]
    },
    {
      "cell_type": "code",
      "source": [
        "x = tf.Variable(10.0, dtype=tf.float32) # arbitrary initial value\n",
        "eta = 0.1 # learning rate\n",
        "\n",
        "optimizer = tf.optimizers.RMSprop(learning_rate=eta)\n",
        "loss = lambda:x**2-4.0*x+4.0\n",
        "\n",
        "for i in range(50):\n",
        "    optimizer.minimize(loss,[x])\n",
        "    print(\"iteration:\",i, \"x:\", x.numpy())"
      ],
      "metadata": {
        "colab": {
          "base_uri": "https://localhost:8080/"
        },
        "id": "oOurkpRO2iJk",
        "outputId": "fbc2fe20-6e19-400a-e43c-6615d6aa696b"
      },
      "execution_count": 63,
      "outputs": [
        {
          "output_type": "stream",
          "name": "stdout",
          "text": [
            "iteration: 0 x: 9.683772\n",
            "iteration: 1 x: 9.458789\n",
            "iteration: 2 x: 9.272674\n",
            "iteration: 3 x: 9.109001\n",
            "iteration: 4 x: 8.960196\n",
            "iteration: 5 x: 8.822053\n",
            "iteration: 6 x: 8.691964\n",
            "iteration: 7 x: 8.568186\n",
            "iteration: 8 x: 8.449489\n",
            "iteration: 9 x: 8.33497\n",
            "iteration: 10 x: 8.223949\n",
            "iteration: 11 x: 8.115894\n",
            "iteration: 12 x: 8.010385\n",
            "iteration: 13 x: 7.9070826\n",
            "iteration: 14 x: 7.8057117\n",
            "iteration: 15 x: 7.706044\n",
            "iteration: 16 x: 7.6078887\n",
            "iteration: 17 x: 7.511085\n",
            "iteration: 18 x: 7.4154973\n",
            "iteration: 19 x: 7.32101\n",
            "iteration: 20 x: 7.2275233\n",
            "iteration: 21 x: 7.134952\n",
            "iteration: 22 x: 7.0432224\n",
            "iteration: 23 x: 6.952271\n",
            "iteration: 24 x: 6.8620424\n",
            "iteration: 25 x: 6.7724886\n",
            "iteration: 26 x: 6.683568\n",
            "iteration: 27 x: 6.5952444\n",
            "iteration: 28 x: 6.507487\n",
            "iteration: 29 x: 6.420268\n",
            "iteration: 30 x: 6.333565\n",
            "iteration: 31 x: 6.247359\n",
            "iteration: 32 x: 6.161632\n",
            "iteration: 33 x: 6.0763707\n",
            "iteration: 34 x: 5.991564\n",
            "iteration: 35 x: 5.9072013\n",
            "iteration: 36 x: 5.8232765\n",
            "iteration: 37 x: 5.739784\n",
            "iteration: 38 x: 5.6567197\n",
            "iteration: 39 x: 5.574082\n",
            "iteration: 40 x: 5.4918704\n",
            "iteration: 41 x: 5.4100857\n",
            "iteration: 42 x: 5.32873\n",
            "iteration: 43 x: 5.247807\n",
            "iteration: 44 x: 5.167321\n",
            "iteration: 45 x: 5.0872784\n",
            "iteration: 46 x: 5.0076857\n",
            "iteration: 47 x: 4.928551\n",
            "iteration: 48 x: 4.849884\n",
            "iteration: 49 x: 4.7716947\n"
          ]
        }
      ]
    },
    {
      "cell_type": "markdown",
      "metadata": {
        "id": "0dlz71luhUj9"
      },
      "source": [
        "## Example: Linear Regression\n",
        "We now see an example of linear regression. Linear regression is perhaps the simplest example of a Machine Learning algorithm. In fact, many would argue that linear regression is a fundamental notion, well-known for example in Statistics, and that renaming it as a Machine Learning algorithm is more of a *marketing* thing.\n",
        "\n",
        "We are given in input a set of pairs of the form $(x,y)$. Our goal is to find a lienar function $f()$ that fits the pairs $(x,y)$ in the best possible way. We will talk more about it in the next lectures.\n",
        "\n",
        "We assume, therefore, that there exist parameters $W$ and $b$ such that $f(x) = W\\cdot x+b$. $W$ is also known as the slope, while $b$ is known as the intercept.\n",
        "\n",
        "We view each pair $(x,y)$ as an observation that originates from this function. Inevitably, our function $f()$ will not fit all pairs, i.e., there will be errors since we restrict to be linear. Our goal is to minimize this error.\n",
        "\n",
        "Observe that below we follow a modular approach. That is, we define appropriate functions and use them where appopriate.\n"
      ]
    },
    {
      "cell_type": "code",
      "execution_count": 62,
      "metadata": {
        "id": "cdW_0P6EhUj-"
      },
      "outputs": [],
      "source": [
        "import matplotlib.pyplot as plt\n",
        "rng = np.random"
      ]
    },
    {
      "cell_type": "code",
      "execution_count": 64,
      "metadata": {
        "id": "j0xOQAjQhUj-"
      },
      "outputs": [],
      "source": [
        "# Parameters.\n",
        "learning_rate = 0.01\n",
        "training_steps = 1000\n",
        "display_step = 50"
      ]
    },
    {
      "cell_type": "code",
      "execution_count": 65,
      "metadata": {
        "colab": {
          "base_uri": "https://localhost:8080/",
          "height": 447
        },
        "id": "di8Z2vmuhUj-",
        "outputId": "cf491cdf-5a3e-4701-9077-9e9781370076"
      },
      "outputs": [
        {
          "output_type": "execute_result",
          "data": {
            "text/plain": [
              "<matplotlib.collections.PathCollection at 0x785d514b9ff0>"
            ]
          },
          "metadata": {},
          "execution_count": 65
        },
        {
          "output_type": "display_data",
          "data": {
            "text/plain": [
              "<Figure size 640x480 with 1 Axes>"
            ],
            "image/png": "[encoded data removed]"
          },
          "metadata": {}
        }
      ],
      "source": [
        "# Training Data.\n",
        "X = np.array([2.167, 3.1, 3.3, 4.168, 4.4, 5.313, 5.5, 5.654, 6.182, 6.71, 6.93, 7.042, 7.59, 7.997, 9.27, 9.779, 10.791])\n",
        "Y = np.array([1.221,  1.3, 1.573, 1.65, 1.694, 1.7,2.09, 2.42, 2.53, 2.596, 2.76, 2.827, 2.904, 2.94, 3.19, 3.366, 3.465])\n",
        "\n",
        "# Let's plot the data. We will plot them again later.\n",
        "plt.scatter(X,Y)"
      ]
    },
    {
      "cell_type": "code",
      "execution_count": 66,
      "metadata": {
        "id": "ZjRRzTuXhUj-"
      },
      "outputs": [],
      "source": [
        "# Weight and Bias, initialized randomly.\n",
        "slope = tf.Variable(rng.randn(), name=\"slope\")\n",
        "intercept = tf.Variable(rng.randn(), name=\"intercept\")"
      ]
    },
    {
      "cell_type": "code",
      "execution_count": 67,
      "metadata": {
        "id": "yejzIi1whUj-"
      },
      "outputs": [],
      "source": [
        "# Linear regression (Wx + b). This is where the define the corresponding function.\n",
        "def linear_regression(x):\n",
        "    return slope* x + intercept"
      ]
    },
    {
      "cell_type": "code",
      "execution_count": 68,
      "metadata": {
        "id": "-KhwqxwAhUj-"
      },
      "outputs": [],
      "source": [
        "# Mean square error. This is where we define the error function.\n",
        "# For each data point, we compute (predicted_value - true_value)^2 and sum over all data points\n",
        "def mean_square(y_pred, y_true):\n",
        "    return tf.reduce_mean(tf.square(y_pred - y_true))"
      ]
    },
    {
      "cell_type": "code",
      "execution_count": 69,
      "metadata": {
        "id": "bdlesMdUhUj-"
      },
      "outputs": [],
      "source": [
        "# Stochastic Gradient Descent Optimizer.\n",
        "optimizer = tf.optimizers.SGD(learning_rate)"
      ]
    },
    {
      "cell_type": "code",
      "execution_count": 70,
      "metadata": {
        "id": "hIcwgD5ohUj_"
      },
      "outputs": [],
      "source": [
        "# Optimization process.\n",
        "def run_optimization():\n",
        "    # Wrap computation inside a GradientTape for automatic differentiation.\n",
        "    with tf.GradientTape() as g:\n",
        "        pred = linear_regression(X)\n",
        "        loss = mean_square(pred, Y)\n",
        "\n",
        "    # Compute gradients. Since we have two variables, we get two gradients.\n",
        "    gradients = g.gradient(loss, [slope, intercept])\n",
        "\n",
        "    # Update W and b following gradients. What does zip do? Can you figure it out?\n",
        "    optimizer.apply_gradients(zip(gradients, [slope, intercept]))"
      ]
    },
    {
      "cell_type": "code",
      "execution_count": 71,
      "metadata": {
        "colab": {
          "base_uri": "https://localhost:8080/"
        },
        "id": "5LAqRcBXhUj_",
        "outputId": "b55cddc9-1e7d-463c-cd6f-6eb0867031d4"
      },
      "outputs": [
        {
          "output_type": "stream",
          "name": "stdout",
          "text": [
            "step: 50, loss: 0.030471, W: 0.312363, b: 0.404419\n",
            "step: 100, loss: 0.030001, W: 0.310221, b: 0.419606\n",
            "step: 150, loss: 0.029632, W: 0.308324, b: 0.433055\n",
            "step: 200, loss: 0.029342, W: 0.306644, b: 0.444965\n",
            "step: 250, loss: 0.029115, W: 0.305156, b: 0.455512\n",
            "step: 300, loss: 0.028938, W: 0.303839, b: 0.464852\n",
            "step: 350, loss: 0.028798, W: 0.302672, b: 0.473123\n",
            "step: 400, loss: 0.028689, W: 0.301639, b: 0.480448\n",
            "step: 450, loss: 0.028603, W: 0.300724, b: 0.486934\n",
            "step: 500, loss: 0.028535, W: 0.299913, b: 0.492678\n",
            "step: 550, loss: 0.028483, W: 0.299196, b: 0.497765\n",
            "step: 600, loss: 0.028441, W: 0.298561, b: 0.502270\n",
            "step: 650, loss: 0.028409, W: 0.297998, b: 0.506259\n",
            "step: 700, loss: 0.028383, W: 0.297500, b: 0.509792\n",
            "step: 750, loss: 0.028363, W: 0.297058, b: 0.512920\n",
            "step: 800, loss: 0.028348, W: 0.296668, b: 0.515691\n",
            "step: 850, loss: 0.028335, W: 0.296321, b: 0.518144\n",
            "step: 900, loss: 0.028326, W: 0.296015, b: 0.520317\n",
            "step: 950, loss: 0.028318, W: 0.295744, b: 0.522241\n",
            "step: 1000, loss: 0.028312, W: 0.295503, b: 0.523945\n"
          ]
        }
      ],
      "source": [
        "# Run training for the given number of steps.\n",
        "for step in range(1, training_steps + 1):\n",
        "    # Run the optimization to update W and b values.\n",
        "    run_optimization()\n",
        "\n",
        "    if step % display_step == 0:\n",
        "        pred = linear_regression(X)\n",
        "        loss = mean_square(pred, Y)\n",
        "        print(\"step: %i, loss: %f, W: %f, b: %f\" % (step, loss, slope.numpy(), intercept.numpy()))"
      ]
    },
    {
      "cell_type": "code",
      "execution_count": 72,
      "metadata": {
        "colab": {
          "base_uri": "https://localhost:8080/",
          "height": 447
        },
        "id": "jdgVyig6hUj_",
        "outputId": "c16a229b-aaa7-45ba-bf9f-140f9e05f4e1"
      },
      "outputs": [
        {
          "output_type": "execute_result",
          "data": {
            "text/plain": [
              "[<matplotlib.lines.Line2D at 0x785d511eee90>]"
            ]
          },
          "metadata": {},
          "execution_count": 72
        },
        {
          "output_type": "display_data",
          "data": {
            "text/plain": [
              "<Figure size 640x480 with 1 Axes>"
            ],
            "image/png": "[encoded data removed]"
          },
          "metadata": {}
        }
      ],
      "source": [
        "# Let's visualize the solution\n",
        "\n",
        "xfit = np.linspace(0, max(X))\n",
        "yfit = slope*xfit+intercept\n",
        "plt.scatter(X,Y)\n",
        "plt.plot(xfit,yfit)\n"
      ]
    },
    {
      "cell_type": "markdown",
      "metadata": {
        "id": "tD5amvLyhUj_"
      },
      "source": [
        "Feel free the play with the data points and see how this changes the output. You can also play with the learning rate and the number of steps."
      ]
    }
  ],
  "metadata": {
    "kernelspec": {
      "display_name": "Python 3 (ipykernel)",
      "language": "python",
      "name": "python3"
    },
    "language_info": {
      "codemirror_mode": {
        "name": "ipython",
        "version": 3
      },
      "file_extension": ".py",
      "mimetype": "text/x-python",
      "name": "python",
      "nbconvert_exporter": "python",
      "pygments_lexer": "ipython3",
      "version": "3.11.5"
    },
    "colab": {
      "provenance": [],
      "include_colab_link": true
    }
  },
  "nbformat": 4,
  "nbformat_minor": 0
}