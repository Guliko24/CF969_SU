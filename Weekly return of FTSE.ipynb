{
  "nbformat": 4,
  "nbformat_minor": 0,
  "metadata": {
    "colab": {
      "provenance": [],
      "authorship_tag": "ABX9TyNtKfDypn7F4YRcihe6P9Eb",
      "include_colab_link": true
    },
    "kernelspec": {
      "name": "python3",
      "display_name": "Python 3"
    },
    "language_info": {
      "name": "python"
    }
  },
  "cells": [
    {
      "cell_type": "markdown",
      "metadata": {
        "id": "view-in-github",
        "colab_type": "text"
      },
      "source": [
        "<a href=\"https://colab.research.google.com/github/Guliko24/CF969_SU/blob/main/Weekly%20return%20of%20FTSE.ipynb\" target=\"_parent\"><img src=\"https://colab.research.google.com/assets/colab-badge.svg\" alt=\"Open In Colab\"/></a>"
      ]
    },
    {
      "cell_type": "code",
      "execution_count": 7,
      "metadata": {
        "colab": {
          "base_uri": "https://localhost:8080/"
        },
        "id": "MzySJYUp4eEh",
        "outputId": "d5b6c60e-2158-4d3f-b580-08b7e1e2cf22"
      },
      "outputs": [
        {
          "output_type": "stream",
          "name": "stdout",
          "text": [
            "Mean of log returns: -0.002140894511947668\n",
            "Standard deviation of log returns: 0.04763752262677758\n"
          ]
        }
      ],
      "source": [
        "import pandas as pd\n",
        "import numpy as np\n",
        "\n",
        "# Step 1: Read the data file into a DataFrame\n",
        "data = pd.read_csv('/content/FTSE100.csv')\n",
        "\n",
        "# Step 2: Convert the 'Date' column to datetime format and set it as the index\n",
        "data['Date'] = pd.to_datetime(data['Date'], format = 'mixed')\n",
        "data.set_index('Date', inplace=True)\n",
        "\n",
        "# Step 3: Filter the data to include only the year 2018\n",
        "data_2018 = data[data.index.year == 2018]\n",
        "\n",
        "# Step 4: Resample the data to a weekly frequency, taking the closing price on each Friday\n",
        "weekly_data_2018 = data_2018.resample('W-FRI').last()\n",
        "\n",
        "# Step 5: Compute the log returns\n",
        "log_returns = np.log(1 + weekly_data_2018['Close'].pct_change())\n",
        "\n",
        "# Step 6: Compute the mean and standard deviation of the log returns\n",
        "mean_log_return = log_returns.mean()\n",
        "std_dev_log_return = log_returns.std()\n",
        "\n",
        "print(\"Mean of log returns:\", mean_log_return)\n",
        "print(\"Standard deviation of log returns:\", std_dev_log_return)\n"
      ]
    }
  ]
}