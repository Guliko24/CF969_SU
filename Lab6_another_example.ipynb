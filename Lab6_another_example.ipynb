{
  "nbformat": 4,
  "nbformat_minor": 0,
  "metadata": {
    "colab": {
      "provenance": [],
      "authorship_tag": "ABX9TyOBWLzeC2nBSmt/uhI6GVtU",
      "include_colab_link": true
    },
    "kernelspec": {
      "name": "python3",
      "display_name": "Python 3"
    },
    "language_info": {
      "name": "python"
    }
  },
  "cells": [
    {
      "cell_type": "markdown",
      "metadata": {
        "id": "view-in-github",
        "colab_type": "text"
      },
      "source": [
        "<a href=\"https://colab.research.google.com/github/Guliko24/CF969_SU/blob/main/Lab6_another_example.ipynb\" target=\"_parent\"><img src=\"https://colab.research.google.com/assets/colab-badge.svg\" alt=\"Open In Colab\"/></a>"
      ]
    },
    {
      "cell_type": "code",
      "execution_count": 3,
      "metadata": {
        "colab": {
          "base_uri": "https://localhost:8080/",
          "height": 430
        },
        "id": "ngF5Oj3zBSME",
        "outputId": "e667a483-86c7-45e4-9fff-6411eea69a44"
      },
      "outputs": [
        {
          "output_type": "display_data",
          "data": {
            "text/plain": [
              "<Figure size 640x480 with 1 Axes>"
            ],
            "image/png": "[encoded data removed]"
          },
          "metadata": {}
        }
      ],
      "source": [
        "#Lab 6 Regression and Regularisation #Computation Finance#\n",
        "\n",
        "# Let's import necessary libraries\n",
        "import tensorflow as tf\n",
        "import matplotlib.pyplot as plt\n",
        "import numpy as np\n",
        "rng = np.random\n",
        "\n",
        "\n",
        " #We define the learning parameters\n",
        "learning_rate = 0.01 # how quickly do we adjust based on the observed error\n",
        "training_steps = 1000 # how long do we train for ( we called it iteration in NN)\n",
        "display_step = 50 # how ofter should we print on the screen\n",
        "\n",
        "# Training Data. These were arbitrarily selected. Feel free to play with different values.\n",
        "X = np.array([[-1.16552626], [-0.0894637], [-0.46733838], [-0.87232152], [0.02687546], [0.8893861], [-0.02914397], [0.78094479], [0.77965428], [1.46220924]])\n",
        "Y = np.array(\n",
        "[-32.08941276,  -3.02685324,  -6.89483993, -11.28719275,   4.77239585, 21.53298882, -12.93092601,  -7.83955722, 4.22214083, 16.68774553])\n",
        "\n",
        "# Let's plot the data. We will plot them again later.\n",
        "plt.scatter(X,Y)\n",
        "\n",
        "# Weight and Bias, initialized randomly.\n",
        "slope = tf.Variable(rng.randn(), name=\"slope\")\n",
        "intercept = tf.Variable(rng.randn(), name=\"intercept\")\n",
        "\n",
        "# Linear regression (ax + b). This is where the define the corresponding function.\n",
        "# In particular, we are given in input a variable x and we output ax+b\n",
        "\n",
        "def linear_regression(x):\n",
        "    return slope* x + intercept\n",
        "\n",
        "# Mean square error. This is where we define the error function.\n",
        "# For each data point, we compute (predicted_value - true_value)^2 and sum over all data points\n",
        "# Recall from the lectures that just taking into account the actual error is not a good idea\n",
        "# as positive and negative errors cancel out\n",
        "\n",
        "def mean_square(y_pred, y_true):\n",
        "    return tf.reduce_mean(tf.square(y_pred - y_true))\n",
        "\n",
        "# Stochastic Gradient Descent Optimizer.\n",
        "optimizer = tf.optimizers.SGD(learning_rate)\n",
        "\n",
        "# Optimization process.\n",
        "def run_optimization():\n",
        "    # Wrap computation inside a GradientTape for automatic differentiation.\n",
        "    with tf.GradientTape() as g:\n",
        "        pred = linear_regression(X) # this is our prediction\n",
        "        loss = mean_square(pred, Y) # this captures our error function\n",
        "\n",
        "    # Compute gradients. Since we have two variables, we get two gradients.\n",
        "    gradients = g.gradient(loss, [slope, intercept])\n",
        "\n",
        "    # Update a and b following gradients. What does zip do? Can you figure it out?\n",
        "    optimizer.apply_gradients(zip(gradients, [slope, intercept]))"
      ]
    },
    {
      "cell_type": "code",
      "source": [
        "# Run training for the given number of steps.\n",
        "for step in range(1, training_steps + 1):\n",
        "    # Run the optimization to update a and b values.\n",
        "    run_optimization()\n",
        "\n",
        "    if step % display_step == 0:\n",
        "        pred = linear_regression(X)\n",
        "        loss = mean_square(pred, Y)\n",
        "        print(\"step: %i, loss: %f, a: %f, b: %f\" % (step, loss, slope.numpy(), intercept.numpy()))"
      ],
      "metadata": {
        "colab": {
          "base_uri": "https://localhost:8080/"
        },
        "id": "xWD2zmHiB4dF",
        "outputId": "a65c2c05-c23b-4991-9f0b-c38436033c67"
      },
      "execution_count": 4,
      "outputs": [
        {
          "output_type": "stream",
          "name": "stdout",
          "text": [
            "step: 50, loss: 216.518066, a: 0.433246, b: -1.700552\n",
            "step: 100, loss: 215.461136, a: 0.169319, b: -2.348573\n",
            "step: 150, loss: 215.332230, a: 0.068994, b: -2.571423\n",
            "step: 200, loss: 215.316391, a: 0.029481, b: -2.647498\n",
            "step: 250, loss: 215.314392, a: 0.013233, b: -2.673159\n",
            "step: 300, loss: 215.314148, a: 0.006221, b: -2.681643\n",
            "step: 350, loss: 215.314102, a: 0.003043, b: -2.684352\n",
            "step: 400, loss: 215.314102, a: 0.001537, b: -2.685163\n",
            "step: 450, loss: 215.314102, a: 0.000795, b: -2.685372\n",
            "step: 500, loss: 215.314117, a: 0.000418, b: -2.685405\n",
            "step: 550, loss: 215.314102, a: 0.000222, b: -2.685396\n",
            "step: 600, loss: 215.314102, a: 0.000119, b: -2.685384\n",
            "step: 650, loss: 215.314087, a: 0.000065, b: -2.685372\n",
            "step: 700, loss: 215.314102, a: 0.000035, b: -2.685361\n",
            "step: 750, loss: 215.314102, a: 0.000019, b: -2.685359\n",
            "step: 800, loss: 215.314087, a: 0.000011, b: -2.685358\n",
            "step: 850, loss: 215.314102, a: 0.000006, b: -2.685358\n",
            "step: 900, loss: 215.314102, a: 0.000004, b: -2.685357\n",
            "step: 950, loss: 215.314087, a: 0.000003, b: -2.685357\n",
            "step: 1000, loss: 215.314102, a: 0.000002, b: -2.685357\n"
          ]
        }
      ]
    },
    {
      "cell_type": "code",
      "source": [
        "\n",
        "\n",
        "# import libraries\n",
        "import numpy as np\n",
        "import matplotlib.pyplot as plt\n",
        "from sklearn.datasets import make_regression\n",
        "from sklearn.linear_model import LinearRegression\n",
        "# now we fit the data and compute the slope and the intercept\n",
        "reg = LinearRegression().fit(X, Y)\n",
        "reg.score(X, Y)\n",
        "print(\"slope: \",reg.coef_)\n",
        "print(\"intercept: \", reg.intercept_)"
      ],
      "metadata": {
        "colab": {
          "base_uri": "https://localhost:8080/"
        },
        "id": "T2xZV12qCcYL",
        "outputId": "fdeec5f8-4817-41ae-ff64-7d533f656004"
      },
      "execution_count": 7,
      "outputs": [
        {
          "output_type": "stream",
          "name": "stdout",
          "text": [
            "slope:  [15.10776168]\n",
            "intercept:  -4.6724387837037185\n"
          ]
        }
      ]
    }
  ]
}